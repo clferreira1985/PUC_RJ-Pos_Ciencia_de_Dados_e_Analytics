{
  "nbformat": 4,
  "nbformat_minor": 0,
  "metadata": {
    "colab": {
      "provenance": [],
      "authorship_tag": "ABX9TyOZXyRn/XnwRHTaiTo32k0H",
      "include_colab_link": true
    },
    "kernelspec": {
      "name": "python3",
      "display_name": "Python 3"
    },
    "language_info": {
      "name": "python"
    }
  },
  "cells": [
    {
      "cell_type": "markdown",
      "metadata": {
        "id": "view-in-github",
        "colab_type": "text"
      },
      "source": [
        "<a href=\"https://colab.research.google.com/github/clferreira1985/PUC_RJ-Pos_Ciencia_de_Dados_e_Analytics/blob/main/Machine_Learning/MVP_Hotel_Reservations_Dataset.ipynb\" target=\"_parent\"><img src=\"https://colab.research.google.com/assets/colab-badge.svg\" alt=\"Open In Colab\"/></a>"
      ]
    },
    {
      "cell_type": "markdown",
      "source": [
        "# MVP Prevendo cancelamentos de hotéis\n",
        "\n",
        "\n"
      ],
      "metadata": {
        "id": "SoLHTUA-hwMN"
      }
    },
    {
      "cell_type": "markdown",
      "source": [
        "**Contexto:** A empresa teve aumento significativo na taxa de cancelamento, então temos um dataset com todas as informações que a empresa coletou dos agendamento realizados no período de 2017 a 2018. O objetivo deste notebook é prever a intenção de de compra do consumidor com a maquina preditiva que melhor se performar.\n",
        "\n",
        "Deixo uma observação que dentro desse trabalho não iremos fazer o balanceamento dos dados, então pode ser que o algoritimo pode volta-se a classe com mais instância.\n",
        "\n",
        "**Estrutura**: O notebook está dividido assim:\n",
        "\n",
        "\n",
        "\n",
        "1. Imports das bibliotecas\n",
        "2. Acesso e tratamento dos dados\n",
        "3. Visualização gráfica dos dados\n",
        "4. Pré-processamento dos dados\n",
        "\n",
        "**Dataset:** O dataset foi baixado do Kaggle, uma plataforma online voltada para cientistas de dados, entusiastas de aprendizado de máquina e profissionais afins. O uso é estritamente didático. Para mais informações sobre o dataset, veja o link a seguir: [Hotel Reservation](https://www.kaggle.com/datasets/ahsan81/hotel-reservations-classification-dataset).\n",
        "\n"
      ],
      "metadata": {
        "id": "vsTDjf7vGQd_"
      }
    },
    {
      "cell_type": "markdown",
      "source": [
        "## 1. Imports das bibliotecas"
      ],
      "metadata": {
        "id": "4Jwiz0mn1gyP"
      }
    },
    {
      "cell_type": "code",
      "execution_count": 1,
      "metadata": {
        "id": "HTx1QkadgGrX"
      },
      "outputs": [],
      "source": [
        "#Import das bibliotecas\n",
        "import warnings\n",
        "warnings.filterwarnings(\"ignore\")\n",
        "\n",
        "import pandas as pd\n",
        "import numpy as np\n",
        "\n",
        "import matplotlib.pyplot as plt\n",
        "import seaborn as sns\n",
        "\n",
        "\n",
        "from sklearn import preprocessing\n",
        "from sklearn.preprocessing import OneHotEncoder\n",
        "from sklearn.preprocessing import MinMaxScaler\n",
        "from sklearn.preprocessing import StandardScaler\n",
        "from sklearn.model_selection import train_test_split\n",
        "from sklearn.model_selection import KFold\n",
        "from sklearn.model_selection import GridSearchCV\n",
        "from sklearn.model_selection import cross_val_score\n",
        "from sklearn.model_selection import StratifiedKFold\n",
        "from sklearn.pipeline import Pipeline\n",
        "from sklearn.metrics import f1_score\n",
        "from sklearn.metrics import accuracy_score\n",
        "from sklearn.metrics import classification_report,confusion_matrix\n",
        "from sklearn.linear_model import LogisticRegression\n",
        "from sklearn.tree import DecisionTreeClassifier\n",
        "from sklearn.neighbors import KNeighborsClassifier\n",
        "from sklearn.naive_bayes import GaussianNB\n",
        "from sklearn.svm import SVC\n",
        "from sklearn.ensemble import BaggingClassifier\n",
        "from sklearn.ensemble import RandomForestClassifier\n",
        "from sklearn.ensemble import ExtraTreesClassifier\n",
        "from sklearn.ensemble import VotingClassifier\n",
        "from sklearn.ensemble import AdaBoostClassifier\n",
        "from sklearn.ensemble import GradientBoostingClassifier\n",
        "from sklearn.feature_selection import SelectKBest # para a Seleção Univariada\n",
        "from sklearn.feature_selection import f_classif # para o teste ANOVA da Seleção Univariada\n",
        "from sklearn.feature_selection import RFE # para a Eliminação Recursiva de Atributos\n",
        "\n"
      ]
    },
    {
      "cell_type": "markdown",
      "source": [
        "## 2. Acesso e tratamento dos dados\n",
        "\n",
        "Essas etapas permitem obter uma visão geral do conjunto de dados, incluindo a estrutura dos dados, a presença de valores nulos e a contagem de categorias únicas nas colunas categóricas."
      ],
      "metadata": {
        "id": "sBrj9TOR1Z_G"
      }
    },
    {
      "cell_type": "code",
      "source": [
        "# Carrega o dataset\n",
        "df = pd.read_csv('https://raw.githubusercontent.com/clferreira1985/Projetos_Python/main/Hotel_Reservations_Dataset/Hotel%20Reservations.csv')\n"
      ],
      "metadata": {
        "id": "6WPxy9uOg2uJ"
      },
      "execution_count": 2,
      "outputs": []
    },
    {
      "cell_type": "code",
      "source": [
        "#Confiro os dados\n",
        "df.head()"
      ],
      "metadata": {
        "colab": {
          "base_uri": "https://localhost:8080/",
          "height": 270
        },
        "id": "mJdkRM08mkqX",
        "outputId": "d42e71ba-9f69-4912-8982-55c5dd10ff4e"
      },
      "execution_count": 3,
      "outputs": [
        {
          "output_type": "execute_result",
          "data": {
            "text/plain": [
              "  Booking_ID  no_of_adults  no_of_children  no_of_weekend_nights  \\\n",
              "0   INN00001             2               0                     1   \n",
              "1   INN00002             2               0                     2   \n",
              "2   INN00003             1               0                     2   \n",
              "3   INN00004             2               0                     0   \n",
              "4   INN00005             2               0                     1   \n",
              "\n",
              "   no_of_week_nights type_of_meal_plan  required_car_parking_space  \\\n",
              "0                  2       Meal Plan 1                           0   \n",
              "1                  3      Not Selected                           0   \n",
              "2                  1       Meal Plan 1                           0   \n",
              "3                  2       Meal Plan 1                           0   \n",
              "4                  1      Not Selected                           0   \n",
              "\n",
              "  room_type_reserved  lead_time  arrival_year  arrival_month  arrival_date  \\\n",
              "0        Room_Type 1        224          2017             10             2   \n",
              "1        Room_Type 1          5          2018             11             6   \n",
              "2        Room_Type 1          1          2018              2            28   \n",
              "3        Room_Type 1        211          2018              5            20   \n",
              "4        Room_Type 1         48          2018              4            11   \n",
              "\n",
              "  market_segment_type  repeated_guest  no_of_previous_cancellations  \\\n",
              "0             Offline               0                             0   \n",
              "1              Online               0                             0   \n",
              "2              Online               0                             0   \n",
              "3              Online               0                             0   \n",
              "4              Online               0                             0   \n",
              "\n",
              "   no_of_previous_bookings_not_canceled  avg_price_per_room  \\\n",
              "0                                     0               65.00   \n",
              "1                                     0              106.68   \n",
              "2                                     0               60.00   \n",
              "3                                     0              100.00   \n",
              "4                                     0               94.50   \n",
              "\n",
              "   no_of_special_requests booking_status  \n",
              "0                       0   Not_Canceled  \n",
              "1                       1   Not_Canceled  \n",
              "2                       0       Canceled  \n",
              "3                       0       Canceled  \n",
              "4                       0       Canceled  "
            ],
            "text/html": [
              "\n",
              "\n",
              "  <div id=\"df-cee7f488-ee3e-4142-b6de-fe177defd7a6\">\n",
              "    <div class=\"colab-df-container\">\n",
              "      <div>\n",
              "<style scoped>\n",
              "    .dataframe tbody tr th:only-of-type {\n",
              "        vertical-align: middle;\n",
              "    }\n",
              "\n",
              "    .dataframe tbody tr th {\n",
              "        vertical-align: top;\n",
              "    }\n",
              "\n",
              "    .dataframe thead th {\n",
              "        text-align: right;\n",
              "    }\n",
              "</style>\n",
              "<table border=\"1\" class=\"dataframe\">\n",
              "  <thead>\n",
              "    <tr style=\"text-align: right;\">\n",
              "      <th></th>\n",
              "      <th>Booking_ID</th>\n",
              "      <th>no_of_adults</th>\n",
              "      <th>no_of_children</th>\n",
              "      <th>no_of_weekend_nights</th>\n",
              "      <th>no_of_week_nights</th>\n",
              "      <th>type_of_meal_plan</th>\n",
              "      <th>required_car_parking_space</th>\n",
              "      <th>room_type_reserved</th>\n",
              "      <th>lead_time</th>\n",
              "      <th>arrival_year</th>\n",
              "      <th>arrival_month</th>\n",
              "      <th>arrival_date</th>\n",
              "      <th>market_segment_type</th>\n",
              "      <th>repeated_guest</th>\n",
              "      <th>no_of_previous_cancellations</th>\n",
              "      <th>no_of_previous_bookings_not_canceled</th>\n",
              "      <th>avg_price_per_room</th>\n",
              "      <th>no_of_special_requests</th>\n",
              "      <th>booking_status</th>\n",
              "    </tr>\n",
              "  </thead>\n",
              "  <tbody>\n",
              "    <tr>\n",
              "      <th>0</th>\n",
              "      <td>INN00001</td>\n",
              "      <td>2</td>\n",
              "      <td>0</td>\n",
              "      <td>1</td>\n",
              "      <td>2</td>\n",
              "      <td>Meal Plan 1</td>\n",
              "      <td>0</td>\n",
              "      <td>Room_Type 1</td>\n",
              "      <td>224</td>\n",
              "      <td>2017</td>\n",
              "      <td>10</td>\n",
              "      <td>2</td>\n",
              "      <td>Offline</td>\n",
              "      <td>0</td>\n",
              "      <td>0</td>\n",
              "      <td>0</td>\n",
              "      <td>65.00</td>\n",
              "      <td>0</td>\n",
              "      <td>Not_Canceled</td>\n",
              "    </tr>\n",
              "    <tr>\n",
              "      <th>1</th>\n",
              "      <td>INN00002</td>\n",
              "      <td>2</td>\n",
              "      <td>0</td>\n",
              "      <td>2</td>\n",
              "      <td>3</td>\n",
              "      <td>Not Selected</td>\n",
              "      <td>0</td>\n",
              "      <td>Room_Type 1</td>\n",
              "      <td>5</td>\n",
              "      <td>2018</td>\n",
              "      <td>11</td>\n",
              "      <td>6</td>\n",
              "      <td>Online</td>\n",
              "      <td>0</td>\n",
              "      <td>0</td>\n",
              "      <td>0</td>\n",
              "      <td>106.68</td>\n",
              "      <td>1</td>\n",
              "      <td>Not_Canceled</td>\n",
              "    </tr>\n",
              "    <tr>\n",
              "      <th>2</th>\n",
              "      <td>INN00003</td>\n",
              "      <td>1</td>\n",
              "      <td>0</td>\n",
              "      <td>2</td>\n",
              "      <td>1</td>\n",
              "      <td>Meal Plan 1</td>\n",
              "      <td>0</td>\n",
              "      <td>Room_Type 1</td>\n",
              "      <td>1</td>\n",
              "      <td>2018</td>\n",
              "      <td>2</td>\n",
              "      <td>28</td>\n",
              "      <td>Online</td>\n",
              "      <td>0</td>\n",
              "      <td>0</td>\n",
              "      <td>0</td>\n",
              "      <td>60.00</td>\n",
              "      <td>0</td>\n",
              "      <td>Canceled</td>\n",
              "    </tr>\n",
              "    <tr>\n",
              "      <th>3</th>\n",
              "      <td>INN00004</td>\n",
              "      <td>2</td>\n",
              "      <td>0</td>\n",
              "      <td>0</td>\n",
              "      <td>2</td>\n",
              "      <td>Meal Plan 1</td>\n",
              "      <td>0</td>\n",
              "      <td>Room_Type 1</td>\n",
              "      <td>211</td>\n",
              "      <td>2018</td>\n",
              "      <td>5</td>\n",
              "      <td>20</td>\n",
              "      <td>Online</td>\n",
              "      <td>0</td>\n",
              "      <td>0</td>\n",
              "      <td>0</td>\n",
              "      <td>100.00</td>\n",
              "      <td>0</td>\n",
              "      <td>Canceled</td>\n",
              "    </tr>\n",
              "    <tr>\n",
              "      <th>4</th>\n",
              "      <td>INN00005</td>\n",
              "      <td>2</td>\n",
              "      <td>0</td>\n",
              "      <td>1</td>\n",
              "      <td>1</td>\n",
              "      <td>Not Selected</td>\n",
              "      <td>0</td>\n",
              "      <td>Room_Type 1</td>\n",
              "      <td>48</td>\n",
              "      <td>2018</td>\n",
              "      <td>4</td>\n",
              "      <td>11</td>\n",
              "      <td>Online</td>\n",
              "      <td>0</td>\n",
              "      <td>0</td>\n",
              "      <td>0</td>\n",
              "      <td>94.50</td>\n",
              "      <td>0</td>\n",
              "      <td>Canceled</td>\n",
              "    </tr>\n",
              "  </tbody>\n",
              "</table>\n",
              "</div>\n",
              "      <button class=\"colab-df-convert\" onclick=\"convertToInteractive('df-cee7f488-ee3e-4142-b6de-fe177defd7a6')\"\n",
              "              title=\"Convert this dataframe to an interactive table.\"\n",
              "              style=\"display:none;\">\n",
              "\n",
              "  <svg xmlns=\"http://www.w3.org/2000/svg\" height=\"24px\"viewBox=\"0 0 24 24\"\n",
              "       width=\"24px\">\n",
              "    <path d=\"M0 0h24v24H0V0z\" fill=\"none\"/>\n",
              "    <path d=\"M18.56 5.44l.94 2.06.94-2.06 2.06-.94-2.06-.94-.94-2.06-.94 2.06-2.06.94zm-11 1L8.5 8.5l.94-2.06 2.06-.94-2.06-.94L8.5 2.5l-.94 2.06-2.06.94zm10 10l.94 2.06.94-2.06 2.06-.94-2.06-.94-.94-2.06-.94 2.06-2.06.94z\"/><path d=\"M17.41 7.96l-1.37-1.37c-.4-.4-.92-.59-1.43-.59-.52 0-1.04.2-1.43.59L10.3 9.45l-7.72 7.72c-.78.78-.78 2.05 0 2.83L4 21.41c.39.39.9.59 1.41.59.51 0 1.02-.2 1.41-.59l7.78-7.78 2.81-2.81c.8-.78.8-2.07 0-2.86zM5.41 20L4 18.59l7.72-7.72 1.47 1.35L5.41 20z\"/>\n",
              "  </svg>\n",
              "      </button>\n",
              "\n",
              "\n",
              "\n",
              "    <div id=\"df-ca9f526f-76aa-4f50-971b-a21a8eb2b21f\">\n",
              "      <button class=\"colab-df-quickchart\" onclick=\"quickchart('df-ca9f526f-76aa-4f50-971b-a21a8eb2b21f')\"\n",
              "              title=\"Suggest charts.\"\n",
              "              style=\"display:none;\">\n",
              "\n",
              "<svg xmlns=\"http://www.w3.org/2000/svg\" height=\"24px\"viewBox=\"0 0 24 24\"\n",
              "     width=\"24px\">\n",
              "    <g>\n",
              "        <path d=\"M19 3H5c-1.1 0-2 .9-2 2v14c0 1.1.9 2 2 2h14c1.1 0 2-.9 2-2V5c0-1.1-.9-2-2-2zM9 17H7v-7h2v7zm4 0h-2V7h2v10zm4 0h-2v-4h2v4z\"/>\n",
              "    </g>\n",
              "</svg>\n",
              "      </button>\n",
              "    </div>\n",
              "\n",
              "<style>\n",
              "  .colab-df-quickchart {\n",
              "    background-color: #E8F0FE;\n",
              "    border: none;\n",
              "    border-radius: 50%;\n",
              "    cursor: pointer;\n",
              "    display: none;\n",
              "    fill: #1967D2;\n",
              "    height: 32px;\n",
              "    padding: 0 0 0 0;\n",
              "    width: 32px;\n",
              "  }\n",
              "\n",
              "  .colab-df-quickchart:hover {\n",
              "    background-color: #E2EBFA;\n",
              "    box-shadow: 0px 1px 2px rgba(60, 64, 67, 0.3), 0px 1px 3px 1px rgba(60, 64, 67, 0.15);\n",
              "    fill: #174EA6;\n",
              "  }\n",
              "\n",
              "  [theme=dark] .colab-df-quickchart {\n",
              "    background-color: #3B4455;\n",
              "    fill: #D2E3FC;\n",
              "  }\n",
              "\n",
              "  [theme=dark] .colab-df-quickchart:hover {\n",
              "    background-color: #434B5C;\n",
              "    box-shadow: 0px 1px 3px 1px rgba(0, 0, 0, 0.15);\n",
              "    filter: drop-shadow(0px 1px 2px rgba(0, 0, 0, 0.3));\n",
              "    fill: #FFFFFF;\n",
              "  }\n",
              "</style>\n",
              "\n",
              "    <script>\n",
              "      async function quickchart(key) {\n",
              "        const containerElement = document.querySelector('#' + key);\n",
              "        const charts = await google.colab.kernel.invokeFunction(\n",
              "            'suggestCharts', [key], {});\n",
              "      }\n",
              "    </script>\n",
              "\n",
              "      <script>\n",
              "\n",
              "function displayQuickchartButton(domScope) {\n",
              "  let quickchartButtonEl =\n",
              "    domScope.querySelector('#df-ca9f526f-76aa-4f50-971b-a21a8eb2b21f button.colab-df-quickchart');\n",
              "  quickchartButtonEl.style.display =\n",
              "    google.colab.kernel.accessAllowed ? 'block' : 'none';\n",
              "}\n",
              "\n",
              "        displayQuickchartButton(document);\n",
              "      </script>\n",
              "      <style>\n",
              "    .colab-df-container {\n",
              "      display:flex;\n",
              "      flex-wrap:wrap;\n",
              "      gap: 12px;\n",
              "    }\n",
              "\n",
              "    .colab-df-convert {\n",
              "      background-color: #E8F0FE;\n",
              "      border: none;\n",
              "      border-radius: 50%;\n",
              "      cursor: pointer;\n",
              "      display: none;\n",
              "      fill: #1967D2;\n",
              "      height: 32px;\n",
              "      padding: 0 0 0 0;\n",
              "      width: 32px;\n",
              "    }\n",
              "\n",
              "    .colab-df-convert:hover {\n",
              "      background-color: #E2EBFA;\n",
              "      box-shadow: 0px 1px 2px rgba(60, 64, 67, 0.3), 0px 1px 3px 1px rgba(60, 64, 67, 0.15);\n",
              "      fill: #174EA6;\n",
              "    }\n",
              "\n",
              "    [theme=dark] .colab-df-convert {\n",
              "      background-color: #3B4455;\n",
              "      fill: #D2E3FC;\n",
              "    }\n",
              "\n",
              "    [theme=dark] .colab-df-convert:hover {\n",
              "      background-color: #434B5C;\n",
              "      box-shadow: 0px 1px 3px 1px rgba(0, 0, 0, 0.15);\n",
              "      filter: drop-shadow(0px 1px 2px rgba(0, 0, 0, 0.3));\n",
              "      fill: #FFFFFF;\n",
              "    }\n",
              "  </style>\n",
              "\n",
              "      <script>\n",
              "        const buttonEl =\n",
              "          document.querySelector('#df-cee7f488-ee3e-4142-b6de-fe177defd7a6 button.colab-df-convert');\n",
              "        buttonEl.style.display =\n",
              "          google.colab.kernel.accessAllowed ? 'block' : 'none';\n",
              "\n",
              "        async function convertToInteractive(key) {\n",
              "          const element = document.querySelector('#df-cee7f488-ee3e-4142-b6de-fe177defd7a6');\n",
              "          const dataTable =\n",
              "            await google.colab.kernel.invokeFunction('convertToInteractive',\n",
              "                                                     [key], {});\n",
              "          if (!dataTable) return;\n",
              "\n",
              "          const docLinkHtml = 'Like what you see? Visit the ' +\n",
              "            '<a target=\"_blank\" href=https://colab.research.google.com/notebooks/data_table.ipynb>data table notebook</a>'\n",
              "            + ' to learn more about interactive tables.';\n",
              "          element.innerHTML = '';\n",
              "          dataTable['output_type'] = 'display_data';\n",
              "          await google.colab.output.renderOutput(dataTable, element);\n",
              "          const docLink = document.createElement('div');\n",
              "          docLink.innerHTML = docLinkHtml;\n",
              "          element.appendChild(docLink);\n",
              "        }\n",
              "      </script>\n",
              "    </div>\n",
              "  </div>\n"
            ]
          },
          "metadata": {},
          "execution_count": 3
        }
      ]
    },
    {
      "cell_type": "code",
      "source": [
        "# Shape\n",
        "df.shape"
      ],
      "metadata": {
        "colab": {
          "base_uri": "https://localhost:8080/"
        },
        "id": "_RBaW8Wqmb2h",
        "outputId": "9284a86f-3337-4826-b095-e5d2a7916b22"
      },
      "execution_count": 4,
      "outputs": [
        {
          "output_type": "execute_result",
          "data": {
            "text/plain": [
              "(36275, 19)"
            ]
          },
          "metadata": {},
          "execution_count": 4
        }
      ]
    },
    {
      "cell_type": "code",
      "source": [
        "#Altero os nomes das colunas\n",
        "df.rename(columns=({'Booking_ID':'reserva',\n",
        "                    'no_of_adults':'qnt_de_adultos',\n",
        "                    'no_of_children':'qnt_de_crianças',\n",
        "                    'no_of_weekend_nights':'qnd_dias_final_de_semana',\n",
        "                    'no_of_week_nights':'qnd_dias_úteis',\n",
        "                    'type_of_meal_plan':'tipo_de_refeição',\n",
        "                    'required_car_parking_space':'vaga_de_estacionamento',\n",
        "                    'room_type_reserved':'tipo_de_reserva',\n",
        "                    'lead_time':'tempo_de_reserva',\n",
        "                    'arrival_year':'ano',\n",
        "                    'arrival_month':'mês',\n",
        "                    'arrival_date':'dia',\n",
        "                    'market_segment_type':'canal_de_compra',\n",
        "                    'repeated_guest':'qnt_de_hospedagem',\n",
        "                    'no_of_previous_cancellations':'qnt_de_cancelamentos_anteriores',\n",
        "                    'no_of_previous_bookings_not_canceled': 'qnt_de_reservas_anteriores_não_canceladas',\n",
        "                    'avg_price_per_room':'media_dos_precos',\n",
        "                    'no_of_special_requests':'qnt_de_pedidos_especiais',\n",
        "                    'booking_status':'status_da_reserva',\n",
        "                    'have_child':'tem filhos'}),inplace = True)"
      ],
      "metadata": {
        "id": "Vj0SAVp6ImOk"
      },
      "execution_count": 5,
      "outputs": []
    },
    {
      "cell_type": "code",
      "source": [
        "df.info()"
      ],
      "metadata": {
        "colab": {
          "base_uri": "https://localhost:8080/"
        },
        "id": "P5Af9QOso8cB",
        "outputId": "a88ae9d9-fba4-4bff-e475-c8b4dcc78fd7"
      },
      "execution_count": 6,
      "outputs": [
        {
          "output_type": "stream",
          "name": "stdout",
          "text": [
            "<class 'pandas.core.frame.DataFrame'>\n",
            "RangeIndex: 36275 entries, 0 to 36274\n",
            "Data columns (total 19 columns):\n",
            " #   Column                                     Non-Null Count  Dtype  \n",
            "---  ------                                     --------------  -----  \n",
            " 0   reserva                                    36275 non-null  object \n",
            " 1   qnt_de_adultos                             36275 non-null  int64  \n",
            " 2   qnt_de_crianças                            36275 non-null  int64  \n",
            " 3   qnd_dias_final_de_semana                   36275 non-null  int64  \n",
            " 4   qnd_dias_úteis                             36275 non-null  int64  \n",
            " 5   tipo_de_refeição                           36275 non-null  object \n",
            " 6   vaga_de_estacionamento                     36275 non-null  int64  \n",
            " 7   tipo_de_reserva                            36275 non-null  object \n",
            " 8   tempo_de_reserva                           36275 non-null  int64  \n",
            " 9   ano                                        36275 non-null  int64  \n",
            " 10  mês                                        36275 non-null  int64  \n",
            " 11  dia                                        36275 non-null  int64  \n",
            " 12  canal_de_compra                            36275 non-null  object \n",
            " 13  qnt_de_hospedagem                          36275 non-null  int64  \n",
            " 14  qnt_de_cancelamentos_anteriores            36275 non-null  int64  \n",
            " 15  qnt_de_reservas_anteriores_não_canceladas  36275 non-null  int64  \n",
            " 16  media_dos_precos                           36275 non-null  float64\n",
            " 17  qnt_de_pedidos_especiais                   36275 non-null  int64  \n",
            " 18  status_da_reserva                          36275 non-null  object \n",
            "dtypes: float64(1), int64(13), object(5)\n",
            "memory usage: 5.3+ MB\n"
          ]
        }
      ]
    },
    {
      "cell_type": "code",
      "source": [
        "# Temos valores nulos?\n",
        "df.isna().sum()"
      ],
      "metadata": {
        "colab": {
          "base_uri": "https://localhost:8080/"
        },
        "id": "9_Qzwm5Do8u8",
        "outputId": "f2a3b479-d3a7-4396-b767-bf2cfe89bd22"
      },
      "execution_count": 7,
      "outputs": [
        {
          "output_type": "execute_result",
          "data": {
            "text/plain": [
              "reserva                                      0\n",
              "qnt_de_adultos                               0\n",
              "qnt_de_crianças                              0\n",
              "qnd_dias_final_de_semana                     0\n",
              "qnd_dias_úteis                               0\n",
              "tipo_de_refeição                             0\n",
              "vaga_de_estacionamento                       0\n",
              "tipo_de_reserva                              0\n",
              "tempo_de_reserva                             0\n",
              "ano                                          0\n",
              "mês                                          0\n",
              "dia                                          0\n",
              "canal_de_compra                              0\n",
              "qnt_de_hospedagem                            0\n",
              "qnt_de_cancelamentos_anteriores              0\n",
              "qnt_de_reservas_anteriores_não_canceladas    0\n",
              "media_dos_precos                             0\n",
              "qnt_de_pedidos_especiais                     0\n",
              "status_da_reserva                            0\n",
              "dtype: int64"
            ]
          },
          "metadata": {},
          "execution_count": 7
        }
      ]
    },
    {
      "cell_type": "code",
      "source": [
        "#quantidade de categorias por coluna\n",
        "df.select_dtypes(include='object').drop(columns = 'reserva').nunique()"
      ],
      "metadata": {
        "id": "kpRWEJoZiTnq",
        "outputId": "1349096a-3749-4075-b354-e10b9de0283c",
        "colab": {
          "base_uri": "https://localhost:8080/"
        }
      },
      "execution_count": 8,
      "outputs": [
        {
          "output_type": "execute_result",
          "data": {
            "text/plain": [
              "tipo_de_refeição     4\n",
              "tipo_de_reserva      7\n",
              "canal_de_compra      5\n",
              "status_da_reserva    2\n",
              "dtype: int64"
            ]
          },
          "metadata": {},
          "execution_count": 8
        }
      ]
    },
    {
      "cell_type": "markdown",
      "source": [
        "## 3. Visualização gráfica dos dados\n",
        "\n",
        "Farei um plot de alguns dados para melhor entendimento dos dados."
      ],
      "metadata": {
        "id": "fr_67swU2K2o"
      }
    },
    {
      "cell_type": "code",
      "source": [
        "#plot\n",
        "\n",
        "sns.catplot(data=df, x='mês', kind='count', palette = \"Blues\", hue='status_da_reserva', legend_out=False)\n",
        "plt.ylabel('Qnt de Reservas')\n",
        "plt.xlabel('mês')\n",
        "plt.title('Status da Reserva por Mês')\n",
        "plt.legend(['Reservado', 'Cancelado'])\n",
        "plt.show()"
      ],
      "metadata": {
        "colab": {
          "base_uri": "https://localhost:8080/",
          "height": 529
        },
        "id": "nQtnRmfWt_-C",
        "outputId": "a738cff1-80ae-4fe4-c383-80880c874143"
      },
      "execution_count": 9,
      "outputs": [
        {
          "output_type": "display_data",
          "data": {
            "text/plain": [
              "<Figure size 500x500 with 1 Axes>"
            ],
            "image/png": "[encoded data removed]"
          },
          "metadata": {}
        }
      ]
    },
    {
      "cell_type": "code",
      "source": [
        "ct = pd.crosstab(df[\"ano\"], df['status_da_reserva'])\n",
        "ct.plot(kind='bar', stacked=False, figsize=(5, 5), color=['lightsteelblue', '#4b78b4'])\n",
        "plt.title('Status da Reserva por Ano')\n",
        "plt.legend(['Reservado', 'Cancelado'])\n",
        "plt.show()\n"
      ],
      "metadata": {
        "colab": {
          "base_uri": "https://localhost:8080/",
          "height": 508
        },
        "id": "TweX1mkfuXLX",
        "outputId": "05e7d29a-f326-451c-89b4-17191d4ebcfe"
      },
      "execution_count": 10,
      "outputs": [
        {
          "output_type": "display_data",
          "data": {
            "text/plain": [
              "<Figure size 500x500 with 1 Axes>"
            ],
            "image/png": "[encoded data removed]"
          },
          "metadata": {}
        }
      ]
    },
    {
      "cell_type": "code",
      "source": [
        "# Ordenar o DataFrame com base na coluna 'tipo_de_reserva'\n",
        "df_sorted = df.sort_values('tipo_de_reserva')\n",
        "\n",
        "# Obter a ordem única dos valores de 'tipo_de_reserva'\n",
        "order = df_sorted['tipo_de_reserva'].unique()\n",
        "\n",
        "# Criar o gráfico de barras utilizando o DataFrame ordenado df_sorted\n",
        "sns.barplot(x=\"tempo_de_reserva\", y=\"tipo_de_reserva\", color=\"#4b78b4\", data=df_sorted)\n",
        "\n",
        "# Adicionar rótulos e título ao gráfico\n",
        "plt.ylabel('Tipo de Reserva')\n",
        "plt.xlabel('Tempo de Reserva')\n",
        "plt.title('Tempo de Reserva por Quarto')\n",
        "\n",
        "# Exibir o gráfico\n",
        "plt.show()"
      ],
      "metadata": {
        "id": "wqXAj-mvJBSy",
        "outputId": "8994dd97-7df7-4671-f7a2-a7d9d8e08ad2",
        "colab": {
          "base_uri": "https://localhost:8080/",
          "height": 472
        }
      },
      "execution_count": 11,
      "outputs": [
        {
          "output_type": "display_data",
          "data": {
            "text/plain": [
              "<Figure size 640x480 with 1 Axes>"
            ],
            "image/png": "[encoded data removed]"
          },
          "metadata": {}
        }
      ]
    },
    {
      "cell_type": "code",
      "source": [
        "# Definir a ordem dos rótulos com base em 'order'\n",
        "order = df['tipo_de_reserva'].unique()\n",
        "\n",
        "# Criar o gráfico de barras\n",
        "sns.barplot(x=\"media_dos_precos\", y=\"tipo_de_reserva\", color=\"#4b78b4\", data=df, order=order)\n",
        "\n",
        "# Adicionar rótulos e título ao gráfico\n",
        "plt.ylabel('Tipo de Reserva')\n",
        "plt.xlabel('Média dos Preços')\n",
        "plt.title('Preço por Quarto')\n",
        "\n",
        "# Exibir o gráfico\n",
        "plt.show()"
      ],
      "metadata": {
        "id": "OHFtCnTUFVSr",
        "outputId": "19b58ca2-3ec7-4df6-c6a0-a680090c4702",
        "colab": {
          "base_uri": "https://localhost:8080/",
          "height": 472
        }
      },
      "execution_count": 12,
      "outputs": [
        {
          "output_type": "display_data",
          "data": {
            "text/plain": [
              "<Figure size 640x480 with 1 Axes>"
            ],
            "image/png": "[encoded data removed]"
          },
          "metadata": {}
        }
      ]
    },
    {
      "cell_type": "markdown",
      "source": [
        "### **Resumo**\n",
        "\n",
        "Verificamos que embora o volume de agendamentos tenha aumentado, os pedidos de cancelamentos teve um aumento significativo. Foi notado que entre o período de junho a outubro de 2018 têm quantidade maior de cancelamento\n",
        "\n",
        "\n"
      ],
      "metadata": {
        "id": "CBmB82bBUk1b"
      }
    },
    {
      "cell_type": "markdown",
      "source": [
        "## 4º Pré-processamento dos dados\n",
        "\n"
      ],
      "metadata": {
        "id": "M1N6eqCQ6mp2"
      }
    },
    {
      "cell_type": "markdown",
      "source": [
        "#### Encode Classes\n",
        "\n",
        " - transformando as colunas categóricas. Quando a coluna tiver até 4 atributos utilizarei o label_encoder, acima disso usaremos o OneHotEncoder"
      ],
      "metadata": {
        "id": "kKLzuQeIc9qx"
      }
    },
    {
      "cell_type": "code",
      "source": [
        "label_encoder = preprocessing.LabelEncoder()\n",
        "encoder=preprocessing.OneHotEncoder()\n",
        "\n",
        "#Iteramdo sobre as colunas do DataFrame\n",
        "for column in df.select_dtypes(include='object').drop(columns = 'reserva'):\n",
        "    if df[column].nunique() < 5:\n",
        "        # Aplicando o LabelEncoder na colunas que tem <=4\n",
        "        df[column] = label_encoder.fit_transform(df[column])\n",
        "    else:\n",
        "        #Aplicando o OneHotencoder nas colunas que tem mais de 4 categorias\n",
        "        df_encoded = df[column] = encoder.fit_transform(df[column].values.reshape(-1, 1)).toarray()\n",
        "        #Criando novas colunas com os dados codificados\n",
        "        column_names = [f\"{column}_{i}\" for i in range(df_encoded.shape[1])]\n",
        "        df_encoded = pd.DataFrame(df_encoded, columns=column_names)\n",
        "        df=pd.concat([df, df_encoded], axis=1)\n",
        "        #Removendo a coluna original\n",
        "        df.drop(column, axis=1, inplace=True)"
      ],
      "metadata": {
        "id": "e6dcgjYh43YS"
      },
      "execution_count": 13,
      "outputs": []
    },
    {
      "cell_type": "code",
      "source": [
        "  df.drop('reserva', axis=1, inplace=True)\n",
        "  df.head()"
      ],
      "metadata": {
        "colab": {
          "base_uri": "https://localhost:8080/",
          "height": 299
        },
        "id": "Q7VxjfFzSVQ6",
        "outputId": "54f5ea17-abe9-476a-d788-7855a2eb6d5b"
      },
      "execution_count": 14,
      "outputs": [
        {
          "output_type": "execute_result",
          "data": {
            "text/plain": [
              "   qnt_de_adultos  qnt_de_crianças  qnd_dias_final_de_semana  qnd_dias_úteis  \\\n",
              "0               2                0                         1               2   \n",
              "1               2                0                         2               3   \n",
              "2               1                0                         2               1   \n",
              "3               2                0                         0               2   \n",
              "4               2                0                         1               1   \n",
              "\n",
              "   tipo_de_refeição  vaga_de_estacionamento  tempo_de_reserva   ano  mês  dia  \\\n",
              "0                 0                       0               224  2017   10    2   \n",
              "1                 3                       0                 5  2018   11    6   \n",
              "2                 0                       0                 1  2018    2   28   \n",
              "3                 0                       0               211  2018    5   20   \n",
              "4                 3                       0                48  2018    4   11   \n",
              "\n",
              "   ...  tipo_de_reserva_2  tipo_de_reserva_3  tipo_de_reserva_4  \\\n",
              "0  ...                0.0                0.0                0.0   \n",
              "1  ...                0.0                0.0                0.0   \n",
              "2  ...                0.0                0.0                0.0   \n",
              "3  ...                0.0                0.0                0.0   \n",
              "4  ...                0.0                0.0                0.0   \n",
              "\n",
              "   tipo_de_reserva_5  tipo_de_reserva_6  canal_de_compra_0  canal_de_compra_1  \\\n",
              "0                0.0                0.0                0.0                0.0   \n",
              "1                0.0                0.0                0.0                0.0   \n",
              "2                0.0                0.0                0.0                0.0   \n",
              "3                0.0                0.0                0.0                0.0   \n",
              "4                0.0                0.0                0.0                0.0   \n",
              "\n",
              "   canal_de_compra_2  canal_de_compra_3  canal_de_compra_4  \n",
              "0                0.0                1.0                0.0  \n",
              "1                0.0                0.0                1.0  \n",
              "2                0.0                0.0                1.0  \n",
              "3                0.0                0.0                1.0  \n",
              "4                0.0                0.0                1.0  \n",
              "\n",
              "[5 rows x 28 columns]"
            ],
            "text/html": [
              "\n",
              "\n",
              "  <div id=\"df-98ab4bcd-ad97-45b8-85c2-cf5f129e2a11\">\n",
              "    <div class=\"colab-df-container\">\n",
              "      <div>\n",
              "<style scoped>\n",
              "    .dataframe tbody tr th:only-of-type {\n",
              "        vertical-align: middle;\n",
              "    }\n",
              "\n",
              "    .dataframe tbody tr th {\n",
              "        vertical-align: top;\n",
              "    }\n",
              "\n",
              "    .dataframe thead th {\n",
              "        text-align: right;\n",
              "    }\n",
              "</style>\n",
              "<table border=\"1\" class=\"dataframe\">\n",
              "  <thead>\n",
              "    <tr style=\"text-align: right;\">\n",
              "      <th></th>\n",
              "      <th>qnt_de_adultos</th>\n",
              "      <th>qnt_de_crianças</th>\n",
              "      <th>qnd_dias_final_de_semana</th>\n",
              "      <th>qnd_dias_úteis</th>\n",
              "      <th>tipo_de_refeição</th>\n",
              "      <th>vaga_de_estacionamento</th>\n",
              "      <th>tempo_de_reserva</th>\n",
              "      <th>ano</th>\n",
              "      <th>mês</th>\n",
              "      <th>dia</th>\n",
              "      <th>...</th>\n",
              "      <th>tipo_de_reserva_2</th>\n",
              "      <th>tipo_de_reserva_3</th>\n",
              "      <th>tipo_de_reserva_4</th>\n",
              "      <th>tipo_de_reserva_5</th>\n",
              "      <th>tipo_de_reserva_6</th>\n",
              "      <th>canal_de_compra_0</th>\n",
              "      <th>canal_de_compra_1</th>\n",
              "      <th>canal_de_compra_2</th>\n",
              "      <th>canal_de_compra_3</th>\n",
              "      <th>canal_de_compra_4</th>\n",
              "    </tr>\n",
              "  </thead>\n",
              "  <tbody>\n",
              "    <tr>\n",
              "      <th>0</th>\n",
              "      <td>2</td>\n",
              "      <td>0</td>\n",
              "      <td>1</td>\n",
              "      <td>2</td>\n",
              "      <td>0</td>\n",
              "      <td>0</td>\n",
              "      <td>224</td>\n",
              "      <td>2017</td>\n",
              "      <td>10</td>\n",
              "      <td>2</td>\n",
              "      <td>...</td>\n",
              "      <td>0.0</td>\n",
              "      <td>0.0</td>\n",
              "      <td>0.0</td>\n",
              "      <td>0.0</td>\n",
              "      <td>0.0</td>\n",
              "      <td>0.0</td>\n",
              "      <td>0.0</td>\n",
              "      <td>0.0</td>\n",
              "      <td>1.0</td>\n",
              "      <td>0.0</td>\n",
              "    </tr>\n",
              "    <tr>\n",
              "      <th>1</th>\n",
              "      <td>2</td>\n",
              "      <td>0</td>\n",
              "      <td>2</td>\n",
              "      <td>3</td>\n",
              "      <td>3</td>\n",
              "      <td>0</td>\n",
              "      <td>5</td>\n",
              "      <td>2018</td>\n",
              "      <td>11</td>\n",
              "      <td>6</td>\n",
              "      <td>...</td>\n",
              "      <td>0.0</td>\n",
              "      <td>0.0</td>\n",
              "      <td>0.0</td>\n",
              "      <td>0.0</td>\n",
              "      <td>0.0</td>\n",
              "      <td>0.0</td>\n",
              "      <td>0.0</td>\n",
              "      <td>0.0</td>\n",
              "      <td>0.0</td>\n",
              "      <td>1.0</td>\n",
              "    </tr>\n",
              "    <tr>\n",
              "      <th>2</th>\n",
              "      <td>1</td>\n",
              "      <td>0</td>\n",
              "      <td>2</td>\n",
              "      <td>1</td>\n",
              "      <td>0</td>\n",
              "      <td>0</td>\n",
              "      <td>1</td>\n",
              "      <td>2018</td>\n",
              "      <td>2</td>\n",
              "      <td>28</td>\n",
              "      <td>...</td>\n",
              "      <td>0.0</td>\n",
              "      <td>0.0</td>\n",
              "      <td>0.0</td>\n",
              "      <td>0.0</td>\n",
              "      <td>0.0</td>\n",
              "      <td>0.0</td>\n",
              "      <td>0.0</td>\n",
              "      <td>0.0</td>\n",
              "      <td>0.0</td>\n",
              "      <td>1.0</td>\n",
              "    </tr>\n",
              "    <tr>\n",
              "      <th>3</th>\n",
              "      <td>2</td>\n",
              "      <td>0</td>\n",
              "      <td>0</td>\n",
              "      <td>2</td>\n",
              "      <td>0</td>\n",
              "      <td>0</td>\n",
              "      <td>211</td>\n",
              "      <td>2018</td>\n",
              "      <td>5</td>\n",
              "      <td>20</td>\n",
              "      <td>...</td>\n",
              "      <td>0.0</td>\n",
              "      <td>0.0</td>\n",
              "      <td>0.0</td>\n",
              "      <td>0.0</td>\n",
              "      <td>0.0</td>\n",
              "      <td>0.0</td>\n",
              "      <td>0.0</td>\n",
              "      <td>0.0</td>\n",
              "      <td>0.0</td>\n",
              "      <td>1.0</td>\n",
              "    </tr>\n",
              "    <tr>\n",
              "      <th>4</th>\n",
              "      <td>2</td>\n",
              "      <td>0</td>\n",
              "      <td>1</td>\n",
              "      <td>1</td>\n",
              "      <td>3</td>\n",
              "      <td>0</td>\n",
              "      <td>48</td>\n",
              "      <td>2018</td>\n",
              "      <td>4</td>\n",
              "      <td>11</td>\n",
              "      <td>...</td>\n",
              "      <td>0.0</td>\n",
              "      <td>0.0</td>\n",
              "      <td>0.0</td>\n",
              "      <td>0.0</td>\n",
              "      <td>0.0</td>\n",
              "      <td>0.0</td>\n",
              "      <td>0.0</td>\n",
              "      <td>0.0</td>\n",
              "      <td>0.0</td>\n",
              "      <td>1.0</td>\n",
              "    </tr>\n",
              "  </tbody>\n",
              "</table>\n",
              "<p>5 rows × 28 columns</p>\n",
              "</div>\n",
              "      <button class=\"colab-df-convert\" onclick=\"convertToInteractive('df-98ab4bcd-ad97-45b8-85c2-cf5f129e2a11')\"\n",
              "              title=\"Convert this dataframe to an interactive table.\"\n",
              "              style=\"display:none;\">\n",
              "\n",
              "  <svg xmlns=\"http://www.w3.org/2000/svg\" height=\"24px\"viewBox=\"0 0 24 24\"\n",
              "       width=\"24px\">\n",
              "    <path d=\"M0 0h24v24H0V0z\" fill=\"none\"/>\n",
              "    <path d=\"M18.56 5.44l.94 2.06.94-2.06 2.06-.94-2.06-.94-.94-2.06-.94 2.06-2.06.94zm-11 1L8.5 8.5l.94-2.06 2.06-.94-2.06-.94L8.5 2.5l-.94 2.06-2.06.94zm10 10l.94 2.06.94-2.06 2.06-.94-2.06-.94-.94-2.06-.94 2.06-2.06.94z\"/><path d=\"M17.41 7.96l-1.37-1.37c-.4-.4-.92-.59-1.43-.59-.52 0-1.04.2-1.43.59L10.3 9.45l-7.72 7.72c-.78.78-.78 2.05 0 2.83L4 21.41c.39.39.9.59 1.41.59.51 0 1.02-.2 1.41-.59l7.78-7.78 2.81-2.81c.8-.78.8-2.07 0-2.86zM5.41 20L4 18.59l7.72-7.72 1.47 1.35L5.41 20z\"/>\n",
              "  </svg>\n",
              "      </button>\n",
              "\n",
              "\n",
              "\n",
              "    <div id=\"df-cda53879-f94f-455b-8f98-3a150750c0cb\">\n",
              "      <button class=\"colab-df-quickchart\" onclick=\"quickchart('df-cda53879-f94f-455b-8f98-3a150750c0cb')\"\n",
              "              title=\"Suggest charts.\"\n",
              "              style=\"display:none;\">\n",
              "\n",
              "<svg xmlns=\"http://www.w3.org/2000/svg\" height=\"24px\"viewBox=\"0 0 24 24\"\n",
              "     width=\"24px\">\n",
              "    <g>\n",
              "        <path d=\"M19 3H5c-1.1 0-2 .9-2 2v14c0 1.1.9 2 2 2h14c1.1 0 2-.9 2-2V5c0-1.1-.9-2-2-2zM9 17H7v-7h2v7zm4 0h-2V7h2v10zm4 0h-2v-4h2v4z\"/>\n",
              "    </g>\n",
              "</svg>\n",
              "      </button>\n",
              "    </div>\n",
              "\n",
              "<style>\n",
              "  .colab-df-quickchart {\n",
              "    background-color: #E8F0FE;\n",
              "    border: none;\n",
              "    border-radius: 50%;\n",
              "    cursor: pointer;\n",
              "    display: none;\n",
              "    fill: #1967D2;\n",
              "    height: 32px;\n",
              "    padding: 0 0 0 0;\n",
              "    width: 32px;\n",
              "  }\n",
              "\n",
              "  .colab-df-quickchart:hover {\n",
              "    background-color: #E2EBFA;\n",
              "    box-shadow: 0px 1px 2px rgba(60, 64, 67, 0.3), 0px 1px 3px 1px rgba(60, 64, 67, 0.15);\n",
              "    fill: #174EA6;\n",
              "  }\n",
              "\n",
              "  [theme=dark] .colab-df-quickchart {\n",
              "    background-color: #3B4455;\n",
              "    fill: #D2E3FC;\n",
              "  }\n",
              "\n",
              "  [theme=dark] .colab-df-quickchart:hover {\n",
              "    background-color: #434B5C;\n",
              "    box-shadow: 0px 1px 3px 1px rgba(0, 0, 0, 0.15);\n",
              "    filter: drop-shadow(0px 1px 2px rgba(0, 0, 0, 0.3));\n",
              "    fill: #FFFFFF;\n",
              "  }\n",
              "</style>\n",
              "\n",
              "    <script>\n",
              "      async function quickchart(key) {\n",
              "        const containerElement = document.querySelector('#' + key);\n",
              "        const charts = await google.colab.kernel.invokeFunction(\n",
              "            'suggestCharts', [key], {});\n",
              "      }\n",
              "    </script>\n",
              "\n",
              "      <script>\n",
              "\n",
              "function displayQuickchartButton(domScope) {\n",
              "  let quickchartButtonEl =\n",
              "    domScope.querySelector('#df-cda53879-f94f-455b-8f98-3a150750c0cb button.colab-df-quickchart');\n",
              "  quickchartButtonEl.style.display =\n",
              "    google.colab.kernel.accessAllowed ? 'block' : 'none';\n",
              "}\n",
              "\n",
              "        displayQuickchartButton(document);\n",
              "      </script>\n",
              "      <style>\n",
              "    .colab-df-container {\n",
              "      display:flex;\n",
              "      flex-wrap:wrap;\n",
              "      gap: 12px;\n",
              "    }\n",
              "\n",
              "    .colab-df-convert {\n",
              "      background-color: #E8F0FE;\n",
              "      border: none;\n",
              "      border-radius: 50%;\n",
              "      cursor: pointer;\n",
              "      display: none;\n",
              "      fill: #1967D2;\n",
              "      height: 32px;\n",
              "      padding: 0 0 0 0;\n",
              "      width: 32px;\n",
              "    }\n",
              "\n",
              "    .colab-df-convert:hover {\n",
              "      background-color: #E2EBFA;\n",
              "      box-shadow: 0px 1px 2px rgba(60, 64, 67, 0.3), 0px 1px 3px 1px rgba(60, 64, 67, 0.15);\n",
              "      fill: #174EA6;\n",
              "    }\n",
              "\n",
              "    [theme=dark] .colab-df-convert {\n",
              "      background-color: #3B4455;\n",
              "      fill: #D2E3FC;\n",
              "    }\n",
              "\n",
              "    [theme=dark] .colab-df-convert:hover {\n",
              "      background-color: #434B5C;\n",
              "      box-shadow: 0px 1px 3px 1px rgba(0, 0, 0, 0.15);\n",
              "      filter: drop-shadow(0px 1px 2px rgba(0, 0, 0, 0.3));\n",
              "      fill: #FFFFFF;\n",
              "    }\n",
              "  </style>\n",
              "\n",
              "      <script>\n",
              "        const buttonEl =\n",
              "          document.querySelector('#df-98ab4bcd-ad97-45b8-85c2-cf5f129e2a11 button.colab-df-convert');\n",
              "        buttonEl.style.display =\n",
              "          google.colab.kernel.accessAllowed ? 'block' : 'none';\n",
              "\n",
              "        async function convertToInteractive(key) {\n",
              "          const element = document.querySelector('#df-98ab4bcd-ad97-45b8-85c2-cf5f129e2a11');\n",
              "          const dataTable =\n",
              "            await google.colab.kernel.invokeFunction('convertToInteractive',\n",
              "                                                     [key], {});\n",
              "          if (!dataTable) return;\n",
              "\n",
              "          const docLinkHtml = 'Like what you see? Visit the ' +\n",
              "            '<a target=\"_blank\" href=https://colab.research.google.com/notebooks/data_table.ipynb>data table notebook</a>'\n",
              "            + ' to learn more about interactive tables.';\n",
              "          element.innerHTML = '';\n",
              "          dataTable['output_type'] = 'display_data';\n",
              "          await google.colab.output.renderOutput(dataTable, element);\n",
              "          const docLink = document.createElement('div');\n",
              "          docLink.innerHTML = docLinkHtml;\n",
              "          element.appendChild(docLink);\n",
              "        }\n",
              "      </script>\n",
              "    </div>\n",
              "  </div>\n"
            ]
          },
          "metadata": {},
          "execution_count": 14
        }
      ]
    },
    {
      "cell_type": "code",
      "source": [
        "df.shape"
      ],
      "metadata": {
        "id": "VnFs73hBh6MV",
        "outputId": "f6a482d7-f7ca-4e76-ab09-236d43387957",
        "colab": {
          "base_uri": "https://localhost:8080/"
        }
      },
      "execution_count": 15,
      "outputs": [
        {
          "output_type": "execute_result",
          "data": {
            "text/plain": [
              "(36275, 28)"
            ]
          },
          "metadata": {},
          "execution_count": 15
        }
      ]
    },
    {
      "cell_type": "markdown",
      "source": [
        "#### Separação em conjunto de treino e conjunto de teste com holdout\n",
        "\n",
        "Irei separar dos dados em treino e teste. Além dessa, utilizo o SelectKBest para selecionar os melhores atributos, que geram os maiores impactos na avalização do modelo.\n",
        "\n"
      ],
      "metadata": {
        "id": "3H4iIONJzHkF"
      }
    },
    {
      "cell_type": "code",
      "source": [
        "#separação em bases de treino e teste (holdout)\n",
        "X=df.drop('status_da_reserva', axis=1)\n",
        "y=df['status_da_reserva']\n",
        "test_size=0.30 # Tamanho do conungto de teste\n",
        "seed = 9 # semente aleatória\n",
        "num_particoes=10\n",
        "scoring='accuracy'\n",
        "print(X.shape)\n",
        "print(y.shape)"
      ],
      "metadata": {
        "colab": {
          "base_uri": "https://localhost:8080/"
        },
        "id": "CP91Q5euSNBe",
        "outputId": "7565bde9-8f24-43b6-c158-b6eaeef38502"
      },
      "execution_count": 16,
      "outputs": [
        {
          "output_type": "stream",
          "name": "stdout",
          "text": [
            "(36275, 27)\n",
            "(36275,)\n"
          ]
        }
      ]
    },
    {
      "cell_type": "code",
      "source": [
        "# SelectKBest\n",
        "\n",
        "# Seleção de atributos com SelectKBest\n",
        "best_var = SelectKBest(score_func=f_classif, k=4)\n",
        "\n",
        "# Executa a função de pontuação em (X, y) e obtém os atributos selecionados\n",
        "fit = best_var.fit(X, y)\n",
        "\n",
        "# Reduz X para os atributos selecionados\n",
        "features = fit.transform(X)\n",
        "\n",
        "# Resultados\n",
        "print('\\nNúmero original de atributos:', X.shape[1])\n",
        "print('\\nNúmero reduzido de atributos:', features.shape[1])\n",
        "\n",
        "# Exibe os atributos orginais\n",
        "print(\"\\nAtributos Originais:\", df.columns[0:27])\n",
        "\n",
        "# Exibe as pontuações de cada atributos e os 4 escolhidas (com as pontuações mais altas)\n",
        "np.set_printoptions(precision=3) # 3 casas decimais\n",
        "scores=pd.DataFrame({'Atributo':X.columns, 'Score': fit.scores_})\n",
        "selected_features = X.columns[best_var.get_support()]\n",
        "\n",
        "print(\"\\nScores dos Atributos Originais:\", fit.scores_)\n",
        "print(\"\\nAtributos Selecionados:\", X.columns[best_var.get_support()])\n",
        "\n",
        "# Combina os atributos selecionados com seus respectivos scores\n",
        "\n",
        "selected_features_scores = scores[scores['Atributo'].isin(selected_features)]\n",
        "\n",
        "print(\"\\nAtributos Selecionados com seus Scores:\")\n",
        "print(selected_features_scores)"
      ],
      "metadata": {
        "id": "O0QIKYO2ApXm",
        "outputId": "3b8837ff-096f-4549-e844-2808d4654b90",
        "colab": {
          "base_uri": "https://localhost:8080/"
        }
      },
      "execution_count": 17,
      "outputs": [
        {
          "output_type": "stream",
          "name": "stdout",
          "text": [
            "\n",
            "Número original de atributos: 27\n",
            "\n",
            "Número reduzido de atributos: 4\n",
            "\n",
            "Atributos Originais: Index(['qnt_de_adultos', 'qnt_de_crianças', 'qnd_dias_final_de_semana',\n",
            "       'qnd_dias_úteis', 'tipo_de_refeição', 'vaga_de_estacionamento',\n",
            "       'tempo_de_reserva', 'ano', 'mês', 'dia', 'qnt_de_hospedagem',\n",
            "       'qnt_de_cancelamentos_anteriores',\n",
            "       'qnt_de_reservas_anteriores_não_canceladas', 'media_dos_precos',\n",
            "       'qnt_de_pedidos_especiais', 'status_da_reserva', 'tipo_de_reserva_0',\n",
            "       'tipo_de_reserva_1', 'tipo_de_reserva_2', 'tipo_de_reserva_3',\n",
            "       'tipo_de_reserva_4', 'tipo_de_reserva_5', 'tipo_de_reserva_6',\n",
            "       'canal_de_compra_0', 'canal_de_compra_1', 'canal_de_compra_2',\n",
            "       'canal_de_compra_3'],\n",
            "      dtype='object')\n",
            "\n",
            "Scores dos Atributos Originais: [2.761e+02 3.973e+01 1.380e+02 3.164e+02 2.589e+01 2.714e+02 8.637e+03\n",
            " 1.208e+03 4.578e+00 4.098e+00 4.224e+02 4.131e+01 1.318e+02 7.526e+02\n",
            " 2.482e+03 1.499e+01 1.088e-02 5.585e-02 6.426e+00 3.792e+00 3.871e+01\n",
            " 7.174e+00 5.699e-01 1.936e+02 4.691e+02 5.343e+01 4.150e+02]\n",
            "\n",
            "Atributos Selecionados: Index(['tempo_de_reserva', 'ano', 'media_dos_precos',\n",
            "       'qnt_de_pedidos_especiais'],\n",
            "      dtype='object')\n",
            "\n",
            "Atributos Selecionados com seus Scores:\n",
            "                    Atributo        Score\n",
            "6           tempo_de_reserva  8636.863036\n",
            "7                        ano  1208.037136\n",
            "13          media_dos_precos   752.582603\n",
            "14  qnt_de_pedidos_especiais  2482.040462\n"
          ]
        }
      ]
    },
    {
      "cell_type": "code",
      "source": [
        "X_train, X_test, y_train, y_test = train_test_split(X,\n",
        "                                                    y,\n",
        "                                                    test_size=test_size,\n",
        "                                                    shuffle=True,\n",
        "                                                    random_state=seed) # holdout com estratificação\n",
        "\n",
        "kfold = StratifiedKFold(n_splits=num_particoes,\n",
        "                        shuffle=True,\n",
        "                        random_state=seed) #validação cruzada com estratificação\n"
      ],
      "metadata": {
        "id": "IeKrJKK0jJVh"
      },
      "execution_count": 18,
      "outputs": []
    },
    {
      "cell_type": "markdown",
      "source": [
        "##4.Modelagem e Inferência\n",
        "\n"
      ],
      "metadata": {
        "id": "apxesApc3Uj-"
      }
    },
    {
      "cell_type": "markdown",
      "source": [
        "#### Criação e avaliação de modelos:linha base\n",
        "\n",
        "Irei construir um algoritmo que irá realizar uma comparação de desempenho de vários modelos de classificação usando a técnica de validação cruzada. Ele criará e avaliará diferentes modelos, armazenando os resultados em uma lista de e, em seguida criará um boxplot para comparar o desempenho dos modelos."
      ],
      "metadata": {
        "id": "Oe3RIxxl3jU3"
      }
    },
    {
      "cell_type": "code",
      "source": [
        "# definindo uma semente global\n",
        "np.random.seed(9)\n",
        "\n",
        "#Lista que armazenará os modelos\n",
        "models = []\n",
        "\n",
        "#Criando os modelos e adicionando-os na lista de modelos\n",
        "\n",
        "models.append(('LR', LogisticRegression(max_iter=100)))\n",
        "models.append(('KNN', KNeighborsClassifier()))\n",
        "models.append(('CART', DecisionTreeClassifier()))\n",
        "models.append(('NB', GaussianNB()))\n",
        "models.append(('SVM', SVC()))\n",
        "\n",
        "#Definindo os parâmetros do classificador base para o bagginclassifier\n",
        "base = DecisionTreeClassifier()\n",
        "num_trees = 100\n",
        "max_features = 3\n",
        "\n",
        "# Criando os modelos para o VotingClassifier\n",
        "bases = []\n",
        "model1 = LogisticRegression(max_iter=100)\n",
        "bases.append(('logistic', model1))\n",
        "model2 = DecisionTreeClassifier()\n",
        "bases.append((\"cart\", model2))\n",
        "model3 = SVC()\n",
        "bases.append(('SVM',model3))\n",
        "\n",
        "# Criando os ensembles e adicionando-os na lista de modelos\n",
        "\n",
        "models.append(('Bagging', BaggingClassifier(base_estimator=base, n_estimators=num_trees)))\n",
        "models.append(('RF', RandomForestClassifier(n_estimators=num_trees, max_features=max_features)))\n",
        "models.append(('ET', ExtraTreesClassifier(n_estimators=num_trees, max_features=max_features)))\n",
        "models.append(('Ada', AdaBoostClassifier(n_estimators=num_trees)))\n",
        "models.append(('GB', GradientBoostingClassifier(n_estimators=num_trees)))\n",
        "models.append(('Voting', VotingClassifier(bases)))\n",
        "\n",
        "\n",
        "\n",
        "\n"
      ],
      "metadata": {
        "id": "3UVMox942aUJ"
      },
      "execution_count": 19,
      "outputs": []
    },
    {
      "cell_type": "code",
      "source": [
        "# Listas para armazenar os resultados\n",
        "results = []\n",
        "names = []\n",
        "\n",
        "# Avaliação dos modelos\n",
        "for name, model in models:\n",
        "    cv_results = cross_val_score(model, X_train, y_train, cv=kfold, scoring=scoring)\n",
        "    results.append(cv_results)\n",
        "    names.append(name)\n",
        "    msg = \"%s: %f (%f)\" % (name, cv_results.mean(), cv_results.std())\n",
        "    print(msg)"
      ],
      "metadata": {
        "id": "A5Wh_8jk2a9V",
        "outputId": "c858e36b-38a2-401f-dd13-21b3938bc053",
        "colab": {
          "base_uri": "https://localhost:8080/"
        }
      },
      "execution_count": 20,
      "outputs": [
        {
          "output_type": "stream",
          "name": "stdout",
          "text": [
            "LR: 0.799070 (0.007248)\n",
            "KNN: 0.805057 (0.009815)\n",
            "CART: 0.862437 (0.007368)\n",
            "NB: 0.412335 (0.006894)\n",
            "SVM: 0.763153 (0.006074)\n",
            "Bagging: 0.894967 (0.005246)\n",
            "RF: 0.896621 (0.004416)\n",
            "ET: 0.886539 (0.005061)\n",
            "Ada: 0.820455 (0.007034)\n",
            "GB: 0.852001 (0.007668)\n",
            "Voting: 0.818761 (0.008474)\n"
          ]
        }
      ]
    },
    {
      "cell_type": "code",
      "source": [
        "# Boxplot de comparação dos modelos\n",
        "fig = plt.figure(figsize=(15,10))\n",
        "fig.suptitle('Comparação dos Modelos')\n",
        "ax = fig.add_subplot(111)\n",
        "sns.boxplot(data=results)\n",
        "ax.set_xticklabels(names)\n",
        "plt.show()"
      ],
      "metadata": {
        "id": "sZIMdfToyKsz",
        "outputId": "a5a2ef47-70f6-4e1a-ec3f-a0c6c86a7eef",
        "colab": {
          "base_uri": "https://localhost:8080/",
          "height": 930
        }
      },
      "execution_count": 21,
      "outputs": [
        {
          "output_type": "display_data",
          "data": {
            "text/plain": [
              "<Figure size 1500x1000 with 1 Axes>"
            ],
            "image/png": "[encoded data removed]"
          },
          "metadata": {}
        }
      ]
    },
    {
      "cell_type": "markdown",
      "source": [
        "Com base nos resultados apresentados, o modelo que obteve o melhor desempenho médio foi o Random Forest (RF), com uma pontuação média de 0.896621. O modelo Bagging (Bagging) também obteve um desempenho elevado, com uma pontuação média de 0.894967.\n",
        "\n",
        "É importante notar que a escolha do melhor modelo também depende da tarefa específica e das métricas de avaliação relevantes para o problema em questão. Além disso, os desvios padrão (indicados entre parênteses) fornecem uma medida da variabilidade dos resultados entre as dobras de validação cruzada. Um menor desvio padrão pode indicar maior consistência e confiabilidade nas estimativas de desempenho.\n",
        "\n",
        "\n",
        "\n"
      ],
      "metadata": {
        "id": "FXTXQUuXKrNq"
      }
    },
    {
      "cell_type": "markdown",
      "source": [
        "#### Criação e avaliação de modelos: dados padronizados e normalizados\n",
        "\n",
        "Iremos criar um algoritmo que realizará a comparação de desempenho de vários modelos classificação em diferentes visões dos dados. Ele criará pipelines que combinam algoritmos de classificação com diferentes transformações de dados, executará os pipelines usandos validação cruzada e exibe um gráfico de boxplot para comparar os resultados.\n"
      ],
      "metadata": {
        "id": "j47Ai7Dz8sd-"
      }
    },
    {
      "cell_type": "code",
      "source": [
        "np.random.seed(9) # definindo uma semente global para este bloco\n",
        "\n",
        "# Listas para armazenar os pipelines e os resultados para todas as visões do dataset\n",
        "pipelines = []\n",
        "results=[]\n",
        "names=[]\n",
        "\n",
        "#Criando os elementos do pipeline\n",
        "\n",
        "#Algoritimo que serão utilizados\n",
        "reg_log = ('LR', LogisticRegression(max_iter=100))\n",
        "knn = ('KNN', KNeighborsClassifier())\n",
        "cart = ('CART', DecisionTreeClassifier())\n",
        "naive_bayes = ('NB', GaussianNB())\n",
        "svm = ('SVM', SVC())\n",
        "bagging = ('Bag', BaggingClassifier(base_estimator=base, n_estimators=num_trees))\n",
        "random_forest = ('RF', RandomForestClassifier(n_estimators=num_trees, max_features=max_features))\n",
        "extra_trees = ('ET', ExtraTreesClassifier(n_estimators=num_trees, max_features=max_features))\n",
        "adaboost = ('Ada', AdaBoostClassifier(n_estimators=num_trees))\n",
        "gradient_boosting = ('GB', GradientBoostingClassifier(n_estimators=num_trees))\n",
        "voting = ('Voting', VotingClassifier(bases))\n",
        "\n",
        "#Transformações que serão utilizadas\n",
        "standard_scaler = ('StandardScaler', StandardScaler())\n",
        "min_max_scaler = (\"MinMaxScaler\", MinMaxScaler())\n",
        "\n",
        "#Montando os pipelines\n",
        "\n",
        "pipelines.append(('LR-orig', Pipeline([reg_log])))\n",
        "pipelines.append(('KNN-orig', Pipeline([knn])))\n",
        "pipelines.append(('CART-orig', Pipeline([cart])))\n",
        "pipelines.append(('NB-orig', Pipeline([naive_bayes])))\n",
        "pipelines.append(('SVM-orig', Pipeline([svm])))\n",
        "pipelines.append(('Bag-orig', Pipeline([bagging])))\n",
        "pipelines.append(('RF-orig', Pipeline([random_forest])))\n",
        "pipelines.append(('ET-orig', Pipeline([extra_trees])))\n",
        "pipelines.append(('Ada-orig', Pipeline([adaboost])))\n",
        "pipelines.append(('GB-orig', Pipeline([gradient_boosting])))\n",
        "pipelines.append(('Vot-orig', Pipeline([voting])))\n",
        "\n",
        "# Dataset Padronizado\n",
        "pipelines.append(('LR-padr', Pipeline([standard_scaler, reg_log])))\n",
        "pipelines.append(('KNN-padr', Pipeline([standard_scaler, knn])))\n",
        "pipelines.append(('CART-padr', Pipeline([standard_scaler, cart])))\n",
        "pipelines.append(('NB-padr', Pipeline([standard_scaler, naive_bayes])))\n",
        "pipelines.append(('SVM-padr', Pipeline([standard_scaler, svm])))\n",
        "pipelines.append(('Bag-padr', Pipeline([standard_scaler, bagging])))\n",
        "pipelines.append(('RF-padr', Pipeline([standard_scaler, random_forest])))\n",
        "pipelines.append(('ET-padr', Pipeline([standard_scaler, extra_trees])))\n",
        "pipelines.append(('Ada-padr', Pipeline([standard_scaler, adaboost])))\n",
        "pipelines.append(('GB-padr', Pipeline([standard_scaler, gradient_boosting])))\n",
        "pipelines.append(('Vot-padr', Pipeline([standard_scaler, voting])))\n",
        "\n",
        "# Dataset Normalizado\n",
        "pipelines.append(('LR-norm', Pipeline([min_max_scaler, reg_log])))\n",
        "pipelines.append(('KNN-norm', Pipeline([min_max_scaler, knn])))\n",
        "pipelines.append(('CART-norm', Pipeline([min_max_scaler, cart])))\n",
        "pipelines.append(('NB-norm', Pipeline([min_max_scaler, naive_bayes])))\n",
        "pipelines.append(('SVM-norm', Pipeline([min_max_scaler, svm])))\n",
        "pipelines.append(('Bag-norm', Pipeline([min_max_scaler, bagging])))\n",
        "pipelines.append(('RF-norm', Pipeline([min_max_scaler, random_forest])))\n",
        "pipelines.append(('ET-norm', Pipeline([min_max_scaler, extra_trees])))\n",
        "pipelines.append(('Ada-norm', Pipeline([min_max_scaler, adaboost])))\n",
        "pipelines.append(('GB-norm', Pipeline([min_max_scaler, gradient_boosting])))\n",
        "pipelines.append(('Vot-norm', Pipeline([min_max_scaler, voting])))\n",
        "\n",
        "# Executando os pipelines\n",
        "for name, model in pipelines:\n",
        "    cv_results = cross_val_score(model, X_train, y_train, cv=kfold, scoring=scoring)\n",
        "    results.append(cv_results)\n",
        "    names.append(name)\n",
        "    msg = \"%s: %.3f (%.3f)\" % (name, cv_results.mean(), cv_results.std()) # formatando para 3 casas decimais\n",
        "    print(msg)\n",
        "\n",
        "# Boxplot de comparação dos modelos\n",
        "fig = plt.figure(figsize=(25,6))\n",
        "fig.suptitle('Comparação dos Modelos - Dataset orginal, padronizado e normalizado')\n",
        "ax = fig.add_subplot(111)\n",
        "sns.boxplot(data=results)\n",
        "ax.set_xticklabels(names, rotation=90)\n",
        "plt.show()\n"
      ],
      "metadata": {
        "id": "ZQOYPddC8rws",
        "outputId": "632680b7-568b-43a9-e10d-49325167e15c",
        "colab": {
          "base_uri": "https://localhost:8080/",
          "height": 1000
        }
      },
      "execution_count": 22,
      "outputs": [
        {
          "output_type": "stream",
          "name": "stdout",
          "text": [
            "LR-orig: 0.799 (0.007)\n",
            "KNN-orig: 0.805 (0.010)\n",
            "CART-orig: 0.862 (0.007)\n",
            "NB-orig: 0.412 (0.007)\n",
            "SVM-orig: 0.763 (0.006)\n",
            "Bag-orig: 0.895 (0.005)\n",
            "RF-orig: 0.897 (0.004)\n",
            "ET-orig: 0.887 (0.005)\n",
            "Ada-orig: 0.820 (0.007)\n",
            "GB-orig: 0.852 (0.008)\n",
            "Vot-orig: 0.819 (0.008)\n",
            "LR-padr: 0.806 (0.007)\n",
            "KNN-padr: 0.847 (0.004)\n",
            "CART-padr: 0.862 (0.005)\n",
            "NB-padr: 0.408 (0.007)\n",
            "SVM-padr: 0.835 (0.008)\n",
            "Bag-padr: 0.897 (0.003)\n",
            "RF-padr: 0.897 (0.004)\n",
            "ET-padr: 0.886 (0.005)\n",
            "Ada-padr: 0.820 (0.007)\n",
            "GB-padr: 0.852 (0.008)\n",
            "Vot-padr: 0.848 (0.007)\n",
            "LR-norm: 0.804 (0.007)\n",
            "KNN-norm: 0.846 (0.008)\n",
            "CART-norm: 0.862 (0.006)\n",
            "NB-norm: 0.408 (0.007)\n",
            "SVM-norm: 0.818 (0.008)\n",
            "Bag-norm: 0.896 (0.004)\n",
            "RF-norm: 0.896 (0.004)\n",
            "ET-norm: 0.886 (0.004)\n",
            "Ada-norm: 0.820 (0.007)\n",
            "GB-norm: 0.852 (0.008)\n",
            "Vot-norm: 0.825 (0.006)\n"
          ]
        },
        {
          "output_type": "display_data",
          "data": {
            "text/plain": [
              "<Figure size 2500x600 with 1 Axes>"
            ],
            "image/png": "[encoded data removed]"
          },
          "metadata": {}
        }
      ]
    },
    {
      "cell_type": "markdown",
      "source": [
        "Com base nos resultados apresentados, aqui estão os três melhores modelos em termos de desempenho médio:\n",
        "\n",
        "1.   Random Forest (RF-orig): Com uma pontuação média de 0.897, o modelo Random Forest obteve o melhor desempenho geral.\n",
        "2.   Bagging (Bag-orig): Com uma pontuação média de 0.895, o modelo Bagging ficou em segundo lugar em termos de desempenho.\n",
        "3.   Extra Trees (ET-orig): Com uma pontuação média de 0.887, o modelo Extra Trees ficou em terceiro lugar.\n",
        "\n",
        "É importante notar que esses resultados são específicos para o conjunto de dados e para as configurações usadas no código fornecido. Em diferentes conjuntos de dados ou com outras configurações, como por exemplo: o balanceamento dos dados, os resultados podem variar.\n",
        "\n",
        "Ao avaliar os melhores resultados, é essencial considerar não apenas a pontuação média, mas também o desvio padrão associado. Um desvio padrão menor indica menor variabilidade nos resultados e maior confiabilidade das estimativas de desempenho.\n"
      ],
      "metadata": {
        "id": "nmcInLHENNRC"
      }
    },
    {
      "cell_type": "markdown",
      "source": [
        "#### Otimização dos hiperparâmetros\n",
        "\n",
        "No projeto em questão não deixei o código utilizado como comentário, pois o código demorou 1h30min para gerar o resultado. Caso queira rodar o projeto, deixei como exemplo de hiperparametro o KNN."
      ],
      "metadata": {
        "id": "byKHPvOmJEc0"
      }
    },
    {
      "cell_type": "code",
      "source": [
        "# Tuning do RF\n",
        "#np.random.seed(9) #Definindo uma semente global para este bloco\n",
        "\n",
        "#num_trees = 100\n",
        "#max_features = 3\n",
        "\n",
        "#pipelines = []\n",
        "\n",
        "#Definindo os componentes do pipeline\n",
        "#rf = ('RandomForest', RandomForestClassifier(n_estimators=num_trees, max_features=max_features))\n",
        "#standard_scaler = ('StandardScaler', StandardScaler())\n",
        "#min_max_scaler = ('MinMaxScaler', MinMaxScaler())\n",
        "\n",
        "#pipelines.append(('rf-orig', Pipeline(steps=[rf])))\n",
        "#pipelines.append(('rf-padr', Pipeline(steps=[standard_scaler, rf])))\n",
        "#pipelines.append(('rf-norm', Pipeline(steps=[min_max_scaler, rf])))\n",
        "\n",
        "#param_grid = {\n",
        "#    'RandomForest__n_estimators': [100, 200, 300],\n",
        "#    'RandomForest__max_depth': [None, 5, 10, 20],\n",
        "#    'RandomForest__min_samples_split':[2,5, 10],\n",
        "#}\n",
        "\n",
        " #Prepara e executa o GridSearchCV\n",
        "#for name, model in pipelines:\n",
        " # grid = GridSearchCV(estimator=model, param_grid=param_grid, scoring=scoring, cv=kfold)\n",
        " # grid.fit(X_train, y_train)\n",
        "  #imprime a melhor configuração\n",
        " # print('%s - Melhor: %f usando %s' % (name, grid.best_score_, grid.best_params_))\n",
        "\n",
        "# Resultado do código acima\n",
        "\n",
        "#rf-orig - Melhor: 0.897763 usando {'RandomForest__max_depth': None, 'RandomForest__min_samples_split': 2, 'RandomForest__n_estimators': 100}\n",
        "#rf-padr - Melhor: 0.897645 usando {'RandomForest__max_depth': None, 'RandomForest__min_samples_split': 2, 'RandomForest__n_estimators': 300}\n",
        "#rf-norm - Melhor: 0.898196 usando {'RandomForest__max_depth': None, 'RandomForest__min_samples_split': 2, 'RandomForest__n_estimators': 200}"
      ],
      "metadata": {
        "id": "Myl-q_G12bQn"
      },
      "execution_count": 23,
      "outputs": []
    },
    {
      "cell_type": "code",
      "source": [
        "np.random.seed(7) # definindo uma semente global para este bloco\n",
        "\n",
        "pipelines = []\n",
        "\n",
        "# Definindo os componentes do pipeline\n",
        "knn = ('KNN', KNeighborsClassifier())\n",
        "standard_scaler = ('StandardScaler', StandardScaler())\n",
        "min_max_scaler = ('MinMaxScaler', MinMaxScaler())\n",
        "\n",
        "pipelines.append(('knn-orig', Pipeline(steps=[knn])))\n",
        "pipelines.append(('knn-padr', Pipeline(steps=[standard_scaler, knn])))\n",
        "pipelines.append(('knn-norm', Pipeline(steps=[min_max_scaler, knn])))\n",
        "\n",
        "param_grid = {\n",
        "    'KNN__n_neighbors': [1,3,5,7,9,11,13,15,17,19,21],\n",
        "    'KNN__metric': [\"euclidean\", \"manhattan\", \"minkowski\"],\n",
        "}\n",
        "\n",
        "# Prepara e executa o GridSearchCV\n",
        "for name, model in pipelines:\n",
        "    grid = GridSearchCV(estimator=model, param_grid=param_grid, scoring=scoring, cv=kfold)\n",
        "    grid.fit(X_train, y_train)\n",
        "    # imprime a melhor configuração\n",
        "    print(\"%s - Melhor: %f usando %s\" % (name, grid.best_score_, grid.best_params_))"
      ],
      "metadata": {
        "id": "fuN2tOoc9Nyn",
        "outputId": "fdf46459-dc4a-4d7d-df45-720fdfebe8d2",
        "colab": {
          "base_uri": "https://localhost:8080/"
        }
      },
      "execution_count": 24,
      "outputs": [
        {
          "output_type": "stream",
          "name": "stdout",
          "text": [
            "knn-orig - Melhor: 0.817030 usando {'KNN__metric': 'manhattan', 'KNN__n_neighbors': 7}\n",
            "knn-padr - Melhor: 0.851174 usando {'KNN__metric': 'manhattan', 'KNN__n_neighbors': 5}\n",
            "knn-norm - Melhor: 0.850741 usando {'KNN__metric': 'manhattan', 'KNN__n_neighbors': 5}\n"
          ]
        }
      ]
    },
    {
      "cell_type": "code",
      "source": [
        "#decidi utilizar o rf-orig\n",
        "rfc = RandomForestClassifier(max_depth=None, min_samples_split=2, n_estimators=100)\n",
        "\n",
        "rfc.fit(X_train, y_train)\n",
        "predictions = rfc.predict(X_test)\n",
        "Confusion_Matrix = confusion_matrix(y_test, predictions)\n",
        "print(classification_report(y_test,predictions))\n",
        "plt.figure(figsize=(10,5))\n",
        "sns.heatmap(Confusion_Matrix, annot=True, fmt='.0f', cmap='Blues')\n"
      ],
      "metadata": {
        "id": "dZZL6SBKOAFg",
        "outputId": "332b0879-3ec4-4032-8f02-ae2ca06ff99f",
        "colab": {
          "base_uri": "https://localhost:8080/",
          "height": 630
        }
      },
      "execution_count": 25,
      "outputs": [
        {
          "output_type": "stream",
          "name": "stdout",
          "text": [
            "              precision    recall  f1-score   support\n",
            "\n",
            "           0       0.88      0.81      0.84      3541\n",
            "           1       0.91      0.94      0.93      7342\n",
            "\n",
            "    accuracy                           0.90     10883\n",
            "   macro avg       0.89      0.88      0.88     10883\n",
            "weighted avg       0.90      0.90      0.90     10883\n",
            "\n"
          ]
        },
        {
          "output_type": "execute_result",
          "data": {
            "text/plain": [
              "<Axes: >"
            ]
          },
          "metadata": {},
          "execution_count": 25
        },
        {
          "output_type": "display_data",
          "data": {
            "text/plain": [
              "<Figure size 1000x500 with 2 Axes>"
            ],
            "image/png": "[encoded data removed]"
          },
          "metadata": {}
        }
      ]
    },
    {
      "cell_type": "markdown",
      "source": [
        "#### Finalização do Modelo\n",
        "\n"
      ],
      "metadata": {
        "id": "zioeQSchBrLI"
      }
    },
    {
      "cell_type": "code",
      "source": [
        "# Avaliação do modelo com o conjunto de teste\n",
        "\n",
        "# Preparação do modelo\n",
        "scaler = StandardScaler().fit(X_train) # ajuste do scaler com o conjunto de treino\n",
        "rescaledx = scaler.transform(X_train) # aplicação da padronização no conjunto de treino\n",
        "model = RandomForestClassifier(max_depth=None, min_samples_split=2, n_estimators=200)\n",
        "model.fit(rescaledx, y_train)\n",
        "\n",
        "# Estimativa da acurácia no conjunto de teste\n",
        "rescaledTestx = scaler.transform(X_test) # aplicação da padronização no conjunto teste\n",
        "predictions = model.predict(rescaledTestx)\n",
        "print(accuracy_score(y_test, predictions))"
      ],
      "metadata": {
        "id": "_b2gP0AuB0Rh",
        "outputId": "a31f6c2e-2180-417b-8433-aece8899a77f",
        "colab": {
          "base_uri": "https://localhost:8080/"
        }
      },
      "execution_count": 26,
      "outputs": [
        {
          "output_type": "stream",
          "name": "stdout",
          "text": [
            "0.9029679316364972\n"
          ]
        }
      ]
    },
    {
      "cell_type": "code",
      "source": [
        "# Preparação do modelo com TODO o dataset\n",
        "scaler = StandardScaler().fit(X) # ajuste do scaler com TODO o dataset\n",
        "rescaledX = scaler.transform(X) # aplicação da padronização com TODO o dataset\n",
        "model.fit(rescaledX, y)"
      ],
      "metadata": {
        "id": "64gKV4cosRHQ",
        "outputId": "53c719da-7d92-42b8-d318-384a1b3b9c78",
        "colab": {
          "base_uri": "https://localhost:8080/",
          "height": 75
        }
      },
      "execution_count": 27,
      "outputs": [
        {
          "output_type": "execute_result",
          "data": {
            "text/plain": [
              "RandomForestClassifier(n_estimators=200)"
            ],
            "text/html": [
              "<style>#sk-container-id-1 {color: black;background-color: white;}#sk-container-id-1 pre{padding: 0;}#sk-container-id-1 div.sk-toggleable {background-color: white;}#sk-container-id-1 label.sk-toggleable__label {cursor: pointer;display: block;width: 100%;margin-bottom: 0;padding: 0.3em;box-sizing: border-box;text-align: center;}#sk-container-id-1 label.sk-toggleable__label-arrow:before {content: \"▸\";float: left;margin-right: 0.25em;color: #696969;}#sk-container-id-1 label.sk-toggleable__label-arrow:hover:before {color: black;}#sk-container-id-1 div.sk-estimator:hover label.sk-toggleable__label-arrow:before {color: black;}#sk-container-id-1 div.sk-toggleable__content {max-height: 0;max-width: 0;overflow: hidden;text-align: left;background-color: #f0f8ff;}#sk-container-id-1 div.sk-toggleable__content pre {margin: 0.2em;color: black;border-radius: 0.25em;background-color: #f0f8ff;}#sk-container-id-1 input.sk-toggleable__control:checked~div.sk-toggleable__content {max-height: 200px;max-width: 100%;overflow: auto;}#sk-container-id-1 input.sk-toggleable__control:checked~label.sk-toggleable__label-arrow:before {content: \"▾\";}#sk-container-id-1 div.sk-estimator input.sk-toggleable__control:checked~label.sk-toggleable__label {background-color: #d4ebff;}#sk-container-id-1 div.sk-label input.sk-toggleable__control:checked~label.sk-toggleable__label {background-color: #d4ebff;}#sk-container-id-1 input.sk-hidden--visually {border: 0;clip: rect(1px 1px 1px 1px);clip: rect(1px, 1px, 1px, 1px);height: 1px;margin: -1px;overflow: hidden;padding: 0;position: absolute;width: 1px;}#sk-container-id-1 div.sk-estimator {font-family: monospace;background-color: #f0f8ff;border: 1px dotted black;border-radius: 0.25em;box-sizing: border-box;margin-bottom: 0.5em;}#sk-container-id-1 div.sk-estimator:hover {background-color: #d4ebff;}#sk-container-id-1 div.sk-parallel-item::after {content: \"\";width: 100%;border-bottom: 1px solid gray;flex-grow: 1;}#sk-container-id-1 div.sk-label:hover label.sk-toggleable__label {background-color: #d4ebff;}#sk-container-id-1 div.sk-serial::before {content: \"\";position: absolute;border-left: 1px solid gray;box-sizing: border-box;top: 0;bottom: 0;left: 50%;z-index: 0;}#sk-container-id-1 div.sk-serial {display: flex;flex-direction: column;align-items: center;background-color: white;padding-right: 0.2em;padding-left: 0.2em;position: relative;}#sk-container-id-1 div.sk-item {position: relative;z-index: 1;}#sk-container-id-1 div.sk-parallel {display: flex;align-items: stretch;justify-content: center;background-color: white;position: relative;}#sk-container-id-1 div.sk-item::before, #sk-container-id-1 div.sk-parallel-item::before {content: \"\";position: absolute;border-left: 1px solid gray;box-sizing: border-box;top: 0;bottom: 0;left: 50%;z-index: -1;}#sk-container-id-1 div.sk-parallel-item {display: flex;flex-direction: column;z-index: 1;position: relative;background-color: white;}#sk-container-id-1 div.sk-parallel-item:first-child::after {align-self: flex-end;width: 50%;}#sk-container-id-1 div.sk-parallel-item:last-child::after {align-self: flex-start;width: 50%;}#sk-container-id-1 div.sk-parallel-item:only-child::after {width: 0;}#sk-container-id-1 div.sk-dashed-wrapped {border: 1px dashed gray;margin: 0 0.4em 0.5em 0.4em;box-sizing: border-box;padding-bottom: 0.4em;background-color: white;}#sk-container-id-1 div.sk-label label {font-family: monospace;font-weight: bold;display: inline-block;line-height: 1.2em;}#sk-container-id-1 div.sk-label-container {text-align: center;}#sk-container-id-1 div.sk-container {/* jupyter's `normalize.less` sets `[hidden] { display: none; }` but bootstrap.min.css set `[hidden] { display: none !important; }` so we also need the `!important` here to be able to override the default hidden behavior on the sphinx rendered scikit-learn.org. See: https://github.com/scikit-learn/scikit-learn/issues/21755 */display: inline-block !important;position: relative;}#sk-container-id-1 div.sk-text-repr-fallback {display: none;}</style><div id=\"sk-container-id-1\" class=\"sk-top-container\"><div class=\"sk-text-repr-fallback\"><pre>RandomForestClassifier(n_estimators=200)</pre><b>In a Jupyter environment, please rerun this cell to show the HTML representation or trust the notebook. <br />On GitHub, the HTML representation is unable to render, please try loading this page with nbviewer.org.</b></div><div class=\"sk-container\" hidden><div class=\"sk-item\"><div class=\"sk-estimator sk-toggleable\"><input class=\"sk-toggleable__control sk-hidden--visually\" id=\"sk-estimator-id-1\" type=\"checkbox\" checked><label for=\"sk-estimator-id-1\" class=\"sk-toggleable__label sk-toggleable__label-arrow\">RandomForestClassifier</label><div class=\"sk-toggleable__content\"><pre>RandomForestClassifier(n_estimators=200)</pre></div></div></div></div></div>"
            ]
          },
          "metadata": {},
          "execution_count": 27
        }
      ]
    },
    {
      "cell_type": "code",
      "source": [
        "# Novos dados - não sabemos a classe!\n",
        "data = {'qnt_de_adultos':  [2, 1, 2, 2, 2],\n",
        "        'qnt_de_crianças': [2, 1, 2, 2, 10],\n",
        "        'qnd_dias_final_de_semana': [2, 5, 2, 2, 2],\n",
        "        'qnd_dias_úteis': [4, 4, 3, 3, 3],\n",
        "        'tipo_de_refeição': [0, 2, 0, 0, 0],\n",
        "        'vaga_de_estacionamento': [0, 0, 0, 0, 0],\n",
        "        'tempo_de_reserva': [300, 300, 300, 200, 5],\n",
        "        'ano': [2017, 2017, 2018, 2018, 2018],\n",
        "        'mês': [7,7,8, 8, 8],\n",
        "        'dia':[5, 5, 20, 20, 30],\n",
        "        'qnt_de_hospedagem':[4, 2, 4, 4, 4],\n",
        "        'qnt_de_cancelamentos_anteriores':[0,0,0, 1, 1],\n",
        "        'qnt_de_reservas_anteriores_não_canceladas': [0,0,0, 1, 1],\n",
        "        'media_dos_precos':[100, 120, 200, 250, 1000],\n",
        "        'qnt_de_pedidos_especiais': [0, 1, 3, 0, 1],\n",
        "        'tipo_de_reserva_0':[1,0,0,1,1],\n",
        "        'tipo_de_reserva_1':[0,0,0,0,0],\n",
        "        'tipo_de_reserva_2':[0,0,0,0,0],\n",
        "        'tipo_de_reserva_3':[0,0,0,0,0],\n",
        "        'tipo_de_reserva_4':[0,1,0,0,0],\n",
        "        'tipo_de_reserva_5':[0,0,0,0,0],\n",
        "        'tipo_de_reserva_6':[0,0,1,0,0],\n",
        "        'canal_de_compra_0':[0,0,0,0,0],\n",
        "        'canal_de_compra_1':[0,1,0,1,1],\n",
        "        'canal_de_compra_2':[1,0,0,0,0],\n",
        "        'canal_de_compra_3':[0,0,1,0,0],\n",
        "        'canal_de_compra_4':[0,0,0,0,0],\n",
        "        }\n",
        "\n",
        "atributos = ['qnt_de_adultos',\n",
        "             'qnt_de_crianças',\n",
        "             'qnd_dias_final_de_semana',\n",
        "             'qnd_dias_úteis',\n",
        "             'tipo_de_refeição',\n",
        "             'vaga_de_estacionamento',\n",
        "             'tempo_de_reserva',\n",
        "             'ano',\n",
        "             'mês',\n",
        "             'dia',\n",
        "             'qnt_de_hospedagem',\n",
        "             'qnt_de_cancelamentos_anteriores',\n",
        "             'qnt_de_reservas_anteriores_não_canceladas',\n",
        "             'media_dos_precos',\n",
        "             'qnt_de_pedidos_especiais',\n",
        "             'tipo_de_reserva_0',\n",
        "             'tipo_de_reserva_1',\n",
        "             'tipo_de_reserva_2',\n",
        "             'tipo_de_reserva_3',\n",
        "             'tipo_de_reserva_4',\n",
        "             'tipo_de_reserva_5',\n",
        "             'tipo_de_reserva_6',\n",
        "             'canal_de_compra_0',\n",
        "             'canal_de_compra_1',\n",
        "             'canal_de_compra_2',\n",
        "             'canal_de_compra_3',\n",
        "             'canal_de_compra_4',\n",
        "             ]\n",
        "entrada = pd.DataFrame(data, columns=atributos)\n",
        "\n",
        "array_entrada = entrada.values\n",
        "X_entrada = array_entrada[:,0:27].astype(float)\n",
        "\n",
        "# Padronização nos dados de entrada usando o scaler utilizado em X\n",
        "rescaledEntradaX = scaler.transform(X_entrada)\n",
        "print(rescaledEntradaX)"
      ],
      "metadata": {
        "id": "Ocj1uwYys0TJ",
        "outputId": "d14c2900-505d-4635-e970-c2773c0d7279",
        "colab": {
          "base_uri": "https://localhost:8080/"
        }
      },
      "execution_count": 28,
      "outputs": [
        {
          "output_type": "stream",
          "name": "stdout",
          "text": [
            "[[ 2.989e-01  4.706e+00  1.366e+00  1.273e+00 -4.920e-01 -1.788e-01\n",
            "   2.499e+00 -2.137e+00 -1.380e-01 -1.212e+00  2.515e+01 -6.339e-02\n",
            "  -8.746e-02 -9.757e-02 -7.881e-01  5.381e-01 -1.395e-01 -1.389e-02\n",
            "  -4.477e-01 -8.579e-02 -1.654e-01 -6.614e-02 -5.880e-02 -1.044e-01\n",
            "   4.121e+00 -6.395e-01 -1.333e+00]\n",
            " [-1.629e+00  2.222e+00  4.812e+00  1.273e+00  1.416e+00 -1.788e-01\n",
            "   2.499e+00 -2.137e+00 -1.380e-01 -1.212e+00  1.249e+01 -6.339e-02\n",
            "  -8.746e-02  4.724e-01  4.838e-01 -1.858e+00 -1.395e-01 -1.389e-02\n",
            "  -4.477e-01  1.166e+01 -1.654e-01 -6.614e-02 -5.880e-02  9.580e+00\n",
            "  -2.426e-01 -6.395e-01 -1.333e+00]\n",
            " [ 2.989e-01  4.706e+00  1.366e+00  5.640e-01 -4.920e-01 -1.788e-01\n",
            "   2.499e+00  4.678e-01  1.877e-01  5.038e-01  2.515e+01 -6.339e-02\n",
            "  -8.746e-02  2.752e+00  3.028e+00 -1.858e+00 -1.395e-01 -1.389e-02\n",
            "  -4.477e-01 -8.579e-02 -1.654e-01  1.512e+01 -5.880e-02 -1.044e-01\n",
            "  -2.426e-01  1.564e+00 -1.333e+00]\n",
            " [ 2.989e-01  4.706e+00  1.366e+00  5.640e-01 -4.920e-01 -1.788e-01\n",
            "   1.336e+00  4.678e-01  1.877e-01  5.038e-01  2.515e+01  2.652e+00\n",
            "   4.826e-01  4.177e+00 -7.881e-01  5.381e-01 -1.395e-01 -1.389e-02\n",
            "  -4.477e-01 -8.579e-02 -1.654e-01 -6.614e-02 -5.880e-02  9.580e+00\n",
            "  -2.426e-01 -6.395e-01 -1.333e+00]\n",
            " [ 2.989e-01  2.457e+01  1.366e+00  5.640e-01 -4.920e-01 -1.788e-01\n",
            "  -9.337e-01  4.678e-01  1.877e-01  1.648e+00  2.515e+01  2.652e+00\n",
            "   4.826e-01  2.555e+01  4.838e-01  5.381e-01 -1.395e-01 -1.389e-02\n",
            "  -4.477e-01 -8.579e-02 -1.654e-01 -6.614e-02 -5.880e-02  9.580e+00\n",
            "  -2.426e-01 -6.395e-01 -1.333e+00]]\n"
          ]
        }
      ]
    },
    {
      "cell_type": "code",
      "source": [
        "# Predição de classes dos dados de entrada\n",
        "saidas = model.predict(rescaledEntradaX)\n",
        "print(saidas)"
      ],
      "metadata": {
        "id": "FW5e8yT0tGRX",
        "outputId": "9635ce55-f486-4602-c3d0-fa89a7c3e218",
        "colab": {
          "base_uri": "https://localhost:8080/"
        }
      },
      "execution_count": 29,
      "outputs": [
        {
          "output_type": "stream",
          "name": "stdout",
          "text": [
            "[1 0 1 0 1]\n"
          ]
        }
      ]
    },
    {
      "cell_type": "markdown",
      "source": [
        "## Conclusão\n",
        "\n",
        "Com base no modelo apresentado, posso tirar as seguintes conclusões:\n",
        "\n",
        "1. Como era de se esperar, dentre os 27 atributos do datase 3 tem pesos significativos, que são: Tempo de reserva, ano e média dos preços.\n",
        "\n",
        "2. Quanto mais próximo do dia da reserva o consumidor é menos sensivel ao preço, significa que podemos cobrar um valor mais alto nas últimas unidades.\n",
        "\n"
      ],
      "metadata": {
        "id": "N_Mpr6D0-TU_"
      }
    }
  ]
}