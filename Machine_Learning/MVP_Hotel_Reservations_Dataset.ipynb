{
  "nbformat": 4,
  "nbformat_minor": 0,
  "metadata": {
    "colab": {
      "provenance": [],
      "authorship_tag": "ABX9TyOQTB0rLYe6ktHL7In7dUpL",
      "include_colab_link": true
    },
    "kernelspec": {
      "name": "python3",
      "display_name": "Python 3"
    },
    "language_info": {
      "name": "python"
    }
  },
  "cells": [
    {
      "cell_type": "markdown",
      "metadata": {
        "id": "view-in-github",
        "colab_type": "text"
      },
      "source": [
        "<a href=\"https://colab.research.google.com/github/clferreira1985/PUC_RJ-Pos_Ciencia_de_Dados_e_Analytics/blob/main/Machine_Learning/MVP_Hotel_Reservations_Dataset.ipynb\" target=\"_parent\"><img src=\"https://colab.research.google.com/assets/colab-badge.svg\" alt=\"Open In Colab\"/></a>"
      ]
    },
    {
      "cell_type": "markdown",
      "source": [
        "# MVP Prevendo cancelamentos de hotéis\n",
        "\n",
        "\n"
      ],
      "metadata": {
        "id": "SoLHTUA-hwMN"
      }
    },
    {
      "cell_type": "markdown",
      "source": [
        "## 1º Problema de Negócio\n",
        "\n",
        "Identificar como se encontra a empresa, entender a taxa de cancelamento e prevê a intenção de compra do consumidor com a maquina preditiva que melhor se performar.\n"
      ],
      "metadata": {
        "id": "vsTDjf7vGQd_"
      }
    },
    {
      "cell_type": "markdown",
      "source": [
        "### Os dados\n",
        "\n",
        "###### Eles forneceram a você os dados de suas reservas em um arquivo chamado hotel_bookings.csv, que contém o seguinte:\n",
        "\n",
        "###### Coluna ---> Descrição\n",
        "###### Booking_ID ---> Identificador único da reserva.\n",
        "###### no_of_adults ---> O número de adultos.\n",
        "###### no_of_children ---> O número de filhos.\n",
        "###### no_of_weekend_nights ---> Número de noites de fim de semana (sábado ou domingo).\n",
        "###### no_of_week_nights ---> Número de noites da semana (segunda a sexta).\n",
        "###### type_of_meal_plan ---> Tipo de plano de refeições incluído na reserva.\n",
        "###### required_car_parking_space ---> Se é necessário um espaço de estacionamento.\n",
        "###### room_type_reserved ---> O tipo de quarto reservado.\n",
        "###### lead_time ---> Número de dias antes da data de chegada em que a reserva foi feita.\n",
        "###### arrival_year ---> Ano de chegada.\n",
        "###### arrival_month ---> Mês de chegada.\n",
        "###### arrival_date ---> Data do mês de chegada.\n",
        "###### market_segment_type ---> Como foi feita a reserva.\n",
        "###### repeated_guest ---> Se o hóspede já se hospedou anteriormente no hotel.\n",
        "###### no_of_previous_cancellations ---> Número de cancelamentos anteriores.\n",
        "###### no_of_previous_bookings_not_canceled ---> Número de reservas anteriores que não foram canceladas.\n",
        "###### avg_price_per_room ---> Preço médio por dia da reserva.\n",
        "###### no_of_special_requests ---> Contagem de pedidos especiais feitos como parte da reserva.\n",
        "###### booking_status ---> Se a reserva foi cancelada ou não."
      ],
      "metadata": {
        "id": "DeaTveagmzEg"
      }
    },
    {
      "cell_type": "markdown",
      "source": [
        "## 2º Análise Exploratória"
      ],
      "metadata": {
        "id": "007u2oz2iC1E"
      }
    },
    {
      "cell_type": "markdown",
      "source": [
        "#### Imports das bibliotecas"
      ],
      "metadata": {
        "id": "4Jwiz0mn1gyP"
      }
    },
    {
      "cell_type": "code",
      "execution_count": 29,
      "metadata": {
        "id": "HTx1QkadgGrX"
      },
      "outputs": [],
      "source": [
        "#Import das bibliotecas\n",
        "import warnings\n",
        "warnings.filterwarnings(\"ignore\")\n",
        "\n",
        "import pandas as pd #x\n",
        "import numpy as np #x\n",
        "\n",
        "import matplotlib.pyplot as plt #x\n",
        "import seaborn as sns #x\n",
        "\n",
        "\n",
        "from sklearn import preprocessing\n",
        "from sklearn.preprocessing import OneHotEncoder\n",
        "from sklearn.preprocessing import MinMaxScaler #x\n",
        "from sklearn.preprocessing import StandardScaler\n",
        "from sklearn.model_selection import train_test_split #x\n",
        "from sklearn.model_selection import KFold\n",
        "from sklearn.model_selection import GridSearchCV\n",
        "from sklearn.model_selection import cross_val_score\n",
        "from sklearn.model_selection import StratifiedKFold\n",
        "from sklearn.pipeline import Pipeline\n",
        "from sklearn.metrics import f1_score\n",
        "from sklearn.metrics import accuracy_score\n",
        "from sklearn.linear_model import LogisticRegression\n",
        "from sklearn.tree import DecisionTreeClassifier\n",
        "from sklearn.neighbors import KNeighborsClassifier\n",
        "from sklearn.naive_bayes import GaussianNB\n",
        "from sklearn.svm import SVC\n",
        "from sklearn.ensemble import BaggingClassifier\n",
        "from sklearn.ensemble import RandomForestClassifier\n",
        "from sklearn.ensemble import ExtraTreesClassifier\n",
        "from sklearn.ensemble import VotingClassifier\n",
        "from sklearn.ensemble import AdaBoostClassifier\n",
        "from sklearn.ensemble import GradientBoostingClassifier\n",
        "\n"
      ]
    },
    {
      "cell_type": "markdown",
      "source": [
        "#### Carga do Dataset"
      ],
      "metadata": {
        "id": "sBrj9TOR1Z_G"
      }
    },
    {
      "cell_type": "code",
      "source": [
        "# Carrega o dataset\n",
        "df = pd.read_csv('https://raw.githubusercontent.com/clferreira1985/Projetos_Python/main/Hotel_Reservations_Dataset/Hotel%20Reservations.csv')\n"
      ],
      "metadata": {
        "id": "6WPxy9uOg2uJ"
      },
      "execution_count": 30,
      "outputs": []
    },
    {
      "cell_type": "code",
      "source": [
        "#Amostra\n",
        "df.head()"
      ],
      "metadata": {
        "colab": {
          "base_uri": "https://localhost:8080/",
          "height": 270
        },
        "id": "mJdkRM08mkqX",
        "outputId": "1b6c3c67-c3e0-4c4a-c5b3-65dc058d2109"
      },
      "execution_count": 31,
      "outputs": [
        {
          "output_type": "execute_result",
          "data": {
            "text/plain": [
              "  Booking_ID  no_of_adults  no_of_children  no_of_weekend_nights  \\\n",
              "0   INN00001             2               0                     1   \n",
              "1   INN00002             2               0                     2   \n",
              "2   INN00003             1               0                     2   \n",
              "3   INN00004             2               0                     0   \n",
              "4   INN00005             2               0                     1   \n",
              "\n",
              "   no_of_week_nights type_of_meal_plan  required_car_parking_space  \\\n",
              "0                  2       Meal Plan 1                           0   \n",
              "1                  3      Not Selected                           0   \n",
              "2                  1       Meal Plan 1                           0   \n",
              "3                  2       Meal Plan 1                           0   \n",
              "4                  1      Not Selected                           0   \n",
              "\n",
              "  room_type_reserved  lead_time  arrival_year  arrival_month  arrival_date  \\\n",
              "0        Room_Type 1        224          2017             10             2   \n",
              "1        Room_Type 1          5          2018             11             6   \n",
              "2        Room_Type 1          1          2018              2            28   \n",
              "3        Room_Type 1        211          2018              5            20   \n",
              "4        Room_Type 1         48          2018              4            11   \n",
              "\n",
              "  market_segment_type  repeated_guest  no_of_previous_cancellations  \\\n",
              "0             Offline               0                             0   \n",
              "1              Online               0                             0   \n",
              "2              Online               0                             0   \n",
              "3              Online               0                             0   \n",
              "4              Online               0                             0   \n",
              "\n",
              "   no_of_previous_bookings_not_canceled  avg_price_per_room  \\\n",
              "0                                     0               65.00   \n",
              "1                                     0              106.68   \n",
              "2                                     0               60.00   \n",
              "3                                     0              100.00   \n",
              "4                                     0               94.50   \n",
              "\n",
              "   no_of_special_requests booking_status  \n",
              "0                       0   Not_Canceled  \n",
              "1                       1   Not_Canceled  \n",
              "2                       0       Canceled  \n",
              "3                       0       Canceled  \n",
              "4                       0       Canceled  "
            ],
            "text/html": [
              "\n",
              "  <div id=\"df-0641748f-41c3-4c57-982a-a7f9e39328f6\">\n",
              "    <div class=\"colab-df-container\">\n",
              "      <div>\n",
              "<style scoped>\n",
              "    .dataframe tbody tr th:only-of-type {\n",
              "        vertical-align: middle;\n",
              "    }\n",
              "\n",
              "    .dataframe tbody tr th {\n",
              "        vertical-align: top;\n",
              "    }\n",
              "\n",
              "    .dataframe thead th {\n",
              "        text-align: right;\n",
              "    }\n",
              "</style>\n",
              "<table border=\"1\" class=\"dataframe\">\n",
              "  <thead>\n",
              "    <tr style=\"text-align: right;\">\n",
              "      <th></th>\n",
              "      <th>Booking_ID</th>\n",
              "      <th>no_of_adults</th>\n",
              "      <th>no_of_children</th>\n",
              "      <th>no_of_weekend_nights</th>\n",
              "      <th>no_of_week_nights</th>\n",
              "      <th>type_of_meal_plan</th>\n",
              "      <th>required_car_parking_space</th>\n",
              "      <th>room_type_reserved</th>\n",
              "      <th>lead_time</th>\n",
              "      <th>arrival_year</th>\n",
              "      <th>arrival_month</th>\n",
              "      <th>arrival_date</th>\n",
              "      <th>market_segment_type</th>\n",
              "      <th>repeated_guest</th>\n",
              "      <th>no_of_previous_cancellations</th>\n",
              "      <th>no_of_previous_bookings_not_canceled</th>\n",
              "      <th>avg_price_per_room</th>\n",
              "      <th>no_of_special_requests</th>\n",
              "      <th>booking_status</th>\n",
              "    </tr>\n",
              "  </thead>\n",
              "  <tbody>\n",
              "    <tr>\n",
              "      <th>0</th>\n",
              "      <td>INN00001</td>\n",
              "      <td>2</td>\n",
              "      <td>0</td>\n",
              "      <td>1</td>\n",
              "      <td>2</td>\n",
              "      <td>Meal Plan 1</td>\n",
              "      <td>0</td>\n",
              "      <td>Room_Type 1</td>\n",
              "      <td>224</td>\n",
              "      <td>2017</td>\n",
              "      <td>10</td>\n",
              "      <td>2</td>\n",
              "      <td>Offline</td>\n",
              "      <td>0</td>\n",
              "      <td>0</td>\n",
              "      <td>0</td>\n",
              "      <td>65.00</td>\n",
              "      <td>0</td>\n",
              "      <td>Not_Canceled</td>\n",
              "    </tr>\n",
              "    <tr>\n",
              "      <th>1</th>\n",
              "      <td>INN00002</td>\n",
              "      <td>2</td>\n",
              "      <td>0</td>\n",
              "      <td>2</td>\n",
              "      <td>3</td>\n",
              "      <td>Not Selected</td>\n",
              "      <td>0</td>\n",
              "      <td>Room_Type 1</td>\n",
              "      <td>5</td>\n",
              "      <td>2018</td>\n",
              "      <td>11</td>\n",
              "      <td>6</td>\n",
              "      <td>Online</td>\n",
              "      <td>0</td>\n",
              "      <td>0</td>\n",
              "      <td>0</td>\n",
              "      <td>106.68</td>\n",
              "      <td>1</td>\n",
              "      <td>Not_Canceled</td>\n",
              "    </tr>\n",
              "    <tr>\n",
              "      <th>2</th>\n",
              "      <td>INN00003</td>\n",
              "      <td>1</td>\n",
              "      <td>0</td>\n",
              "      <td>2</td>\n",
              "      <td>1</td>\n",
              "      <td>Meal Plan 1</td>\n",
              "      <td>0</td>\n",
              "      <td>Room_Type 1</td>\n",
              "      <td>1</td>\n",
              "      <td>2018</td>\n",
              "      <td>2</td>\n",
              "      <td>28</td>\n",
              "      <td>Online</td>\n",
              "      <td>0</td>\n",
              "      <td>0</td>\n",
              "      <td>0</td>\n",
              "      <td>60.00</td>\n",
              "      <td>0</td>\n",
              "      <td>Canceled</td>\n",
              "    </tr>\n",
              "    <tr>\n",
              "      <th>3</th>\n",
              "      <td>INN00004</td>\n",
              "      <td>2</td>\n",
              "      <td>0</td>\n",
              "      <td>0</td>\n",
              "      <td>2</td>\n",
              "      <td>Meal Plan 1</td>\n",
              "      <td>0</td>\n",
              "      <td>Room_Type 1</td>\n",
              "      <td>211</td>\n",
              "      <td>2018</td>\n",
              "      <td>5</td>\n",
              "      <td>20</td>\n",
              "      <td>Online</td>\n",
              "      <td>0</td>\n",
              "      <td>0</td>\n",
              "      <td>0</td>\n",
              "      <td>100.00</td>\n",
              "      <td>0</td>\n",
              "      <td>Canceled</td>\n",
              "    </tr>\n",
              "    <tr>\n",
              "      <th>4</th>\n",
              "      <td>INN00005</td>\n",
              "      <td>2</td>\n",
              "      <td>0</td>\n",
              "      <td>1</td>\n",
              "      <td>1</td>\n",
              "      <td>Not Selected</td>\n",
              "      <td>0</td>\n",
              "      <td>Room_Type 1</td>\n",
              "      <td>48</td>\n",
              "      <td>2018</td>\n",
              "      <td>4</td>\n",
              "      <td>11</td>\n",
              "      <td>Online</td>\n",
              "      <td>0</td>\n",
              "      <td>0</td>\n",
              "      <td>0</td>\n",
              "      <td>94.50</td>\n",
              "      <td>0</td>\n",
              "      <td>Canceled</td>\n",
              "    </tr>\n",
              "  </tbody>\n",
              "</table>\n",
              "</div>\n",
              "      <button class=\"colab-df-convert\" onclick=\"convertToInteractive('df-0641748f-41c3-4c57-982a-a7f9e39328f6')\"\n",
              "              title=\"Convert this dataframe to an interactive table.\"\n",
              "              style=\"display:none;\">\n",
              "        \n",
              "  <svg xmlns=\"http://www.w3.org/2000/svg\" height=\"24px\"viewBox=\"0 0 24 24\"\n",
              "       width=\"24px\">\n",
              "    <path d=\"M0 0h24v24H0V0z\" fill=\"none\"/>\n",
              "    <path d=\"M18.56 5.44l.94 2.06.94-2.06 2.06-.94-2.06-.94-.94-2.06-.94 2.06-2.06.94zm-11 1L8.5 8.5l.94-2.06 2.06-.94-2.06-.94L8.5 2.5l-.94 2.06-2.06.94zm10 10l.94 2.06.94-2.06 2.06-.94-2.06-.94-.94-2.06-.94 2.06-2.06.94z\"/><path d=\"M17.41 7.96l-1.37-1.37c-.4-.4-.92-.59-1.43-.59-.52 0-1.04.2-1.43.59L10.3 9.45l-7.72 7.72c-.78.78-.78 2.05 0 2.83L4 21.41c.39.39.9.59 1.41.59.51 0 1.02-.2 1.41-.59l7.78-7.78 2.81-2.81c.8-.78.8-2.07 0-2.86zM5.41 20L4 18.59l7.72-7.72 1.47 1.35L5.41 20z\"/>\n",
              "  </svg>\n",
              "      </button>\n",
              "      \n",
              "  <style>\n",
              "    .colab-df-container {\n",
              "      display:flex;\n",
              "      flex-wrap:wrap;\n",
              "      gap: 12px;\n",
              "    }\n",
              "\n",
              "    .colab-df-convert {\n",
              "      background-color: #E8F0FE;\n",
              "      border: none;\n",
              "      border-radius: 50%;\n",
              "      cursor: pointer;\n",
              "      display: none;\n",
              "      fill: #1967D2;\n",
              "      height: 32px;\n",
              "      padding: 0 0 0 0;\n",
              "      width: 32px;\n",
              "    }\n",
              "\n",
              "    .colab-df-convert:hover {\n",
              "      background-color: #E2EBFA;\n",
              "      box-shadow: 0px 1px 2px rgba(60, 64, 67, 0.3), 0px 1px 3px 1px rgba(60, 64, 67, 0.15);\n",
              "      fill: #174EA6;\n",
              "    }\n",
              "\n",
              "    [theme=dark] .colab-df-convert {\n",
              "      background-color: #3B4455;\n",
              "      fill: #D2E3FC;\n",
              "    }\n",
              "\n",
              "    [theme=dark] .colab-df-convert:hover {\n",
              "      background-color: #434B5C;\n",
              "      box-shadow: 0px 1px 3px 1px rgba(0, 0, 0, 0.15);\n",
              "      filter: drop-shadow(0px 1px 2px rgba(0, 0, 0, 0.3));\n",
              "      fill: #FFFFFF;\n",
              "    }\n",
              "  </style>\n",
              "\n",
              "      <script>\n",
              "        const buttonEl =\n",
              "          document.querySelector('#df-0641748f-41c3-4c57-982a-a7f9e39328f6 button.colab-df-convert');\n",
              "        buttonEl.style.display =\n",
              "          google.colab.kernel.accessAllowed ? 'block' : 'none';\n",
              "\n",
              "        async function convertToInteractive(key) {\n",
              "          const element = document.querySelector('#df-0641748f-41c3-4c57-982a-a7f9e39328f6');\n",
              "          const dataTable =\n",
              "            await google.colab.kernel.invokeFunction('convertToInteractive',\n",
              "                                                     [key], {});\n",
              "          if (!dataTable) return;\n",
              "\n",
              "          const docLinkHtml = 'Like what you see? Visit the ' +\n",
              "            '<a target=\"_blank\" href=https://colab.research.google.com/notebooks/data_table.ipynb>data table notebook</a>'\n",
              "            + ' to learn more about interactive tables.';\n",
              "          element.innerHTML = '';\n",
              "          dataTable['output_type'] = 'display_data';\n",
              "          await google.colab.output.renderOutput(dataTable, element);\n",
              "          const docLink = document.createElement('div');\n",
              "          docLink.innerHTML = docLinkHtml;\n",
              "          element.appendChild(docLink);\n",
              "        }\n",
              "      </script>\n",
              "    </div>\n",
              "  </div>\n",
              "  "
            ]
          },
          "metadata": {},
          "execution_count": 31
        }
      ]
    },
    {
      "cell_type": "code",
      "source": [
        "# Shape\n",
        "df.shape"
      ],
      "metadata": {
        "colab": {
          "base_uri": "https://localhost:8080/"
        },
        "id": "_RBaW8Wqmb2h",
        "outputId": "49f3487c-e533-44df-abe8-5abab6863074"
      },
      "execution_count": 32,
      "outputs": [
        {
          "output_type": "execute_result",
          "data": {
            "text/plain": [
              "(36275, 19)"
            ]
          },
          "metadata": {},
          "execution_count": 32
        }
      ]
    },
    {
      "cell_type": "code",
      "source": [
        "df.rename(columns=({'Booking_ID':'reserva',\n",
        "                    'no_of_adults':'qnt_de_adultos',\n",
        "                    'no_of_children':'qnt_de_crianças',\n",
        "                    'no_of_weekend_nights':'qnd_dias_final_de_semana',\n",
        "                    'no_of_week_nights':'qnd_dias_úteis',\n",
        "                    'type_of_meal_plan':'tipo_de_refeição',\n",
        "                    'required_car_parking_space':'vaga_de_estacionamento',\n",
        "                    'room_type_reserved':'tipo_de_reserva',\n",
        "                    'lead_time':'tempo_de_reserva',\n",
        "                    'arrival_year':'ano',\n",
        "                    'arrival_month':'mês',\n",
        "                    'arrival_date':'dia',\n",
        "                    'market_segment_type':'canal_de_compra',\n",
        "                    'repeated_guest':'qnt_de_hospedagem',\n",
        "                    'no_of_previous_cancellations':'qnt_de_cancelamentos_anteriores',\n",
        "                    'no_of_previous_bookings_not_canceled': 'qnt_de_reservas_anteriores_não_canceladas',\n",
        "                    'avg_price_per_room':'media_dos_precos',\n",
        "                    'no_of_special_requests':'qnt_de_pedidos_especiais',\n",
        "                    'booking_status':'status_da_reserva',\n",
        "                    'have_child':'tem filhos'}),inplace = True)"
      ],
      "metadata": {
        "id": "Vj0SAVp6ImOk"
      },
      "execution_count": 33,
      "outputs": []
    },
    {
      "cell_type": "code",
      "source": [
        "df.info()\n"
      ],
      "metadata": {
        "colab": {
          "base_uri": "https://localhost:8080/"
        },
        "id": "P5Af9QOso8cB",
        "outputId": "ba4b98df-392f-48be-c6c4-11bc62e56d6a"
      },
      "execution_count": 34,
      "outputs": [
        {
          "output_type": "stream",
          "name": "stdout",
          "text": [
            "<class 'pandas.core.frame.DataFrame'>\n",
            "RangeIndex: 36275 entries, 0 to 36274\n",
            "Data columns (total 19 columns):\n",
            " #   Column                                     Non-Null Count  Dtype  \n",
            "---  ------                                     --------------  -----  \n",
            " 0   reserva                                    36275 non-null  object \n",
            " 1   qnt_de_adultos                             36275 non-null  int64  \n",
            " 2   qnt_de_crianças                            36275 non-null  int64  \n",
            " 3   qnd_dias_final_de_semana                   36275 non-null  int64  \n",
            " 4   qnd_dias_úteis                             36275 non-null  int64  \n",
            " 5   tipo_de_refeição                           36275 non-null  object \n",
            " 6   vaga_de_estacionamento                     36275 non-null  int64  \n",
            " 7   tipo_de_reserva                            36275 non-null  object \n",
            " 8   tempo_de_reserva                           36275 non-null  int64  \n",
            " 9   ano                                        36275 non-null  int64  \n",
            " 10  mês                                        36275 non-null  int64  \n",
            " 11  dia                                        36275 non-null  int64  \n",
            " 12  canal_de_compra                            36275 non-null  object \n",
            " 13  qnt_de_hospedagem                          36275 non-null  int64  \n",
            " 14  qnt_de_cancelamentos_anteriores            36275 non-null  int64  \n",
            " 15  qnt_de_reservas_anteriores_não_canceladas  36275 non-null  int64  \n",
            " 16  media_dos_precos                           36275 non-null  float64\n",
            " 17  qnt_de_pedidos_especiais                   36275 non-null  int64  \n",
            " 18  status_da_reserva                          36275 non-null  object \n",
            "dtypes: float64(1), int64(13), object(5)\n",
            "memory usage: 5.3+ MB\n"
          ]
        }
      ]
    },
    {
      "cell_type": "code",
      "source": [
        "# Temos valores nulos?\n",
        "df.isna().sum()"
      ],
      "metadata": {
        "colab": {
          "base_uri": "https://localhost:8080/"
        },
        "id": "9_Qzwm5Do8u8",
        "outputId": "6d426b6c-8aa0-4aab-b148-254cdb509f10"
      },
      "execution_count": 35,
      "outputs": [
        {
          "output_type": "execute_result",
          "data": {
            "text/plain": [
              "reserva                                      0\n",
              "qnt_de_adultos                               0\n",
              "qnt_de_crianças                              0\n",
              "qnd_dias_final_de_semana                     0\n",
              "qnd_dias_úteis                               0\n",
              "tipo_de_refeição                             0\n",
              "vaga_de_estacionamento                       0\n",
              "tipo_de_reserva                              0\n",
              "tempo_de_reserva                             0\n",
              "ano                                          0\n",
              "mês                                          0\n",
              "dia                                          0\n",
              "canal_de_compra                              0\n",
              "qnt_de_hospedagem                            0\n",
              "qnt_de_cancelamentos_anteriores              0\n",
              "qnt_de_reservas_anteriores_não_canceladas    0\n",
              "media_dos_precos                             0\n",
              "qnt_de_pedidos_especiais                     0\n",
              "status_da_reserva                            0\n",
              "dtype: int64"
            ]
          },
          "metadata": {},
          "execution_count": 35
        }
      ]
    },
    {
      "cell_type": "code",
      "source": [
        "#quantidade de categorias por coluna\n",
        "df.select_dtypes(include='object').drop(columns = 'reserva').nunique()"
      ],
      "metadata": {
        "id": "kpRWEJoZiTnq",
        "outputId": "7a7c7950-f9e1-40bc-f9b4-973124fb1ae7",
        "colab": {
          "base_uri": "https://localhost:8080/"
        }
      },
      "execution_count": 36,
      "outputs": [
        {
          "output_type": "execute_result",
          "data": {
            "text/plain": [
              "tipo_de_refeição     4\n",
              "tipo_de_reserva      7\n",
              "canal_de_compra      5\n",
              "status_da_reserva    2\n",
              "dtype: int64"
            ]
          },
          "metadata": {},
          "execution_count": 36
        }
      ]
    },
    {
      "cell_type": "code",
      "source": [
        "#plot\n",
        "\n",
        "sns.catplot(data=df, x='mês', kind='count', palette = \"Blues\", hue='status_da_reserva', legend_out=False)\n",
        "plt.ylabel('Qnt de Reservas')\n",
        "plt.xlabel('mês')\n",
        "plt.title('Status da Reserva por Mês')\n",
        "plt.legend(['Reservado', 'Cancelado'])\n",
        "plt.show()"
      ],
      "metadata": {
        "colab": {
          "base_uri": "https://localhost:8080/",
          "height": 529
        },
        "id": "nQtnRmfWt_-C",
        "outputId": "4458c186-6253-4e02-8523-b122cc725301"
      },
      "execution_count": 37,
      "outputs": [
        {
          "output_type": "display_data",
          "data": {
            "text/plain": [
              "<Figure size 500x500 with 1 Axes>"
            ],
            "image/png": "[encoded data removed]"
          },
          "metadata": {}
        }
      ]
    },
    {
      "cell_type": "code",
      "source": [
        "pd.crosstab(df[\"ano\"], df['status_da_reserva']).plot(kind='bar',\n",
        "                                                      stacked = False,\n",
        "                                                      figsize = (5, 5),\n",
        "                                                      color = ['lightsteelblue','b']).legend(['Reservado', 'Cancelado'])\n"
      ],
      "metadata": {
        "colab": {
          "base_uri": "https://localhost:8080/",
          "height": 504
        },
        "id": "TweX1mkfuXLX",
        "outputId": "acf53ad4-f2c1-44d3-d6ab-72442082af68"
      },
      "execution_count": 38,
      "outputs": [
        {
          "output_type": "execute_result",
          "data": {
            "text/plain": [
              "<matplotlib.legend.Legend at 0x7fad57da0eb0>"
            ]
          },
          "metadata": {},
          "execution_count": 38
        },
        {
          "output_type": "display_data",
          "data": {
            "text/plain": [
              "<Figure size 500x500 with 1 Axes>"
            ],
            "image/png": "[encoded data removed]"
          },
          "metadata": {}
        }
      ]
    },
    {
      "cell_type": "markdown",
      "source": [
        "### **Resumo**\n",
        "\n",
        "Verifiquei que temos uma aumento significativo das vendas de um ano para outro, sendo que a quantidade de cancelamento não aumentou proporcional. Os maiores volumes de cancelamento ocorrem junho e outubro, isso é um problema para empresa.\n",
        "\n",
        "\n",
        "\n"
      ],
      "metadata": {
        "id": "CBmB82bBUk1b"
      }
    },
    {
      "cell_type": "markdown",
      "source": [
        "## 3º Pré-processamento dos dados\n"
      ],
      "metadata": {
        "id": "M1N6eqCQ6mp2"
      }
    },
    {
      "cell_type": "markdown",
      "source": [
        "#### Encode Classes\n",
        "\n",
        " - Transformando o Target e variáveis categóricas em variável numérica para melhorar a performance do algoritmo\n"
      ],
      "metadata": {
        "id": "kKLzuQeIc9qx"
      }
    },
    {
      "cell_type": "code",
      "source": [
        "label_encoder = preprocessing.LabelEncoder()\n",
        "encoder=preprocessing.OneHotEncoder()\n",
        "\n",
        "#Iteramdo sobre as colunas do DataFrame\n",
        "for column in df.select_dtypes(include='object').drop(columns = 'reserva'):\n",
        "    if df[column].nunique() < 5:\n",
        "        # Aplicando o LabelEncoder na colunas que tem <=4\n",
        "        df[column] = label_encoder.fit_transform(df[column])\n",
        "    else:\n",
        "        #Aplicando o OneHotencoder nas colunas que tem mais de 4 categorias\n",
        "        df_encoded = df[column] = encoder.fit_transform(df[column].values.reshape(-1, 1)).toarray()\n",
        "        #Criando novas colunas com os dados codificados\n",
        "        column_names = [f\"{column}_{i}\" for i in range(df_encoded.shape[1])]\n",
        "        df_encoded = pd.DataFrame(df_encoded, columns=column_names)\n",
        "        df=pd.concat([df, df_encoded], axis=1)\n",
        "        #Removendo a coluna original\n",
        "        df.drop(column, axis=1, inplace=True)"
      ],
      "metadata": {
        "id": "e6dcgjYh43YS"
      },
      "execution_count": 39,
      "outputs": []
    },
    {
      "cell_type": "code",
      "source": [
        "  df.drop('reserva', axis=1, inplace=True)\n",
        "  df.head()"
      ],
      "metadata": {
        "colab": {
          "base_uri": "https://localhost:8080/",
          "height": 299
        },
        "id": "Q7VxjfFzSVQ6",
        "outputId": "4beee65f-d66e-42d9-ad13-b506a085b03a"
      },
      "execution_count": 40,
      "outputs": [
        {
          "output_type": "execute_result",
          "data": {
            "text/plain": [
              "   qnt_de_adultos  qnt_de_crianças  qnd_dias_final_de_semana  qnd_dias_úteis  \\\n",
              "0               2                0                         1               2   \n",
              "1               2                0                         2               3   \n",
              "2               1                0                         2               1   \n",
              "3               2                0                         0               2   \n",
              "4               2                0                         1               1   \n",
              "\n",
              "   tipo_de_refeição  vaga_de_estacionamento  tempo_de_reserva   ano  mês  dia  \\\n",
              "0                 0                       0               224  2017   10    2   \n",
              "1                 3                       0                 5  2018   11    6   \n",
              "2                 0                       0                 1  2018    2   28   \n",
              "3                 0                       0               211  2018    5   20   \n",
              "4                 3                       0                48  2018    4   11   \n",
              "\n",
              "   ...  tipo_de_reserva_2  tipo_de_reserva_3  tipo_de_reserva_4  \\\n",
              "0  ...                0.0                0.0                0.0   \n",
              "1  ...                0.0                0.0                0.0   \n",
              "2  ...                0.0                0.0                0.0   \n",
              "3  ...                0.0                0.0                0.0   \n",
              "4  ...                0.0                0.0                0.0   \n",
              "\n",
              "   tipo_de_reserva_5  tipo_de_reserva_6  canal_de_compra_0  canal_de_compra_1  \\\n",
              "0                0.0                0.0                0.0                0.0   \n",
              "1                0.0                0.0                0.0                0.0   \n",
              "2                0.0                0.0                0.0                0.0   \n",
              "3                0.0                0.0                0.0                0.0   \n",
              "4                0.0                0.0                0.0                0.0   \n",
              "\n",
              "   canal_de_compra_2  canal_de_compra_3  canal_de_compra_4  \n",
              "0                0.0                1.0                0.0  \n",
              "1                0.0                0.0                1.0  \n",
              "2                0.0                0.0                1.0  \n",
              "3                0.0                0.0                1.0  \n",
              "4                0.0                0.0                1.0  \n",
              "\n",
              "[5 rows x 28 columns]"
            ],
            "text/html": [
              "\n",
              "  <div id=\"df-12d349d9-00bb-4d2d-bf1e-c1bc74ce2c8a\">\n",
              "    <div class=\"colab-df-container\">\n",
              "      <div>\n",
              "<style scoped>\n",
              "    .dataframe tbody tr th:only-of-type {\n",
              "        vertical-align: middle;\n",
              "    }\n",
              "\n",
              "    .dataframe tbody tr th {\n",
              "        vertical-align: top;\n",
              "    }\n",
              "\n",
              "    .dataframe thead th {\n",
              "        text-align: right;\n",
              "    }\n",
              "</style>\n",
              "<table border=\"1\" class=\"dataframe\">\n",
              "  <thead>\n",
              "    <tr style=\"text-align: right;\">\n",
              "      <th></th>\n",
              "      <th>qnt_de_adultos</th>\n",
              "      <th>qnt_de_crianças</th>\n",
              "      <th>qnd_dias_final_de_semana</th>\n",
              "      <th>qnd_dias_úteis</th>\n",
              "      <th>tipo_de_refeição</th>\n",
              "      <th>vaga_de_estacionamento</th>\n",
              "      <th>tempo_de_reserva</th>\n",
              "      <th>ano</th>\n",
              "      <th>mês</th>\n",
              "      <th>dia</th>\n",
              "      <th>...</th>\n",
              "      <th>tipo_de_reserva_2</th>\n",
              "      <th>tipo_de_reserva_3</th>\n",
              "      <th>tipo_de_reserva_4</th>\n",
              "      <th>tipo_de_reserva_5</th>\n",
              "      <th>tipo_de_reserva_6</th>\n",
              "      <th>canal_de_compra_0</th>\n",
              "      <th>canal_de_compra_1</th>\n",
              "      <th>canal_de_compra_2</th>\n",
              "      <th>canal_de_compra_3</th>\n",
              "      <th>canal_de_compra_4</th>\n",
              "    </tr>\n",
              "  </thead>\n",
              "  <tbody>\n",
              "    <tr>\n",
              "      <th>0</th>\n",
              "      <td>2</td>\n",
              "      <td>0</td>\n",
              "      <td>1</td>\n",
              "      <td>2</td>\n",
              "      <td>0</td>\n",
              "      <td>0</td>\n",
              "      <td>224</td>\n",
              "      <td>2017</td>\n",
              "      <td>10</td>\n",
              "      <td>2</td>\n",
              "      <td>...</td>\n",
              "      <td>0.0</td>\n",
              "      <td>0.0</td>\n",
              "      <td>0.0</td>\n",
              "      <td>0.0</td>\n",
              "      <td>0.0</td>\n",
              "      <td>0.0</td>\n",
              "      <td>0.0</td>\n",
              "      <td>0.0</td>\n",
              "      <td>1.0</td>\n",
              "      <td>0.0</td>\n",
              "    </tr>\n",
              "    <tr>\n",
              "      <th>1</th>\n",
              "      <td>2</td>\n",
              "      <td>0</td>\n",
              "      <td>2</td>\n",
              "      <td>3</td>\n",
              "      <td>3</td>\n",
              "      <td>0</td>\n",
              "      <td>5</td>\n",
              "      <td>2018</td>\n",
              "      <td>11</td>\n",
              "      <td>6</td>\n",
              "      <td>...</td>\n",
              "      <td>0.0</td>\n",
              "      <td>0.0</td>\n",
              "      <td>0.0</td>\n",
              "      <td>0.0</td>\n",
              "      <td>0.0</td>\n",
              "      <td>0.0</td>\n",
              "      <td>0.0</td>\n",
              "      <td>0.0</td>\n",
              "      <td>0.0</td>\n",
              "      <td>1.0</td>\n",
              "    </tr>\n",
              "    <tr>\n",
              "      <th>2</th>\n",
              "      <td>1</td>\n",
              "      <td>0</td>\n",
              "      <td>2</td>\n",
              "      <td>1</td>\n",
              "      <td>0</td>\n",
              "      <td>0</td>\n",
              "      <td>1</td>\n",
              "      <td>2018</td>\n",
              "      <td>2</td>\n",
              "      <td>28</td>\n",
              "      <td>...</td>\n",
              "      <td>0.0</td>\n",
              "      <td>0.0</td>\n",
              "      <td>0.0</td>\n",
              "      <td>0.0</td>\n",
              "      <td>0.0</td>\n",
              "      <td>0.0</td>\n",
              "      <td>0.0</td>\n",
              "      <td>0.0</td>\n",
              "      <td>0.0</td>\n",
              "      <td>1.0</td>\n",
              "    </tr>\n",
              "    <tr>\n",
              "      <th>3</th>\n",
              "      <td>2</td>\n",
              "      <td>0</td>\n",
              "      <td>0</td>\n",
              "      <td>2</td>\n",
              "      <td>0</td>\n",
              "      <td>0</td>\n",
              "      <td>211</td>\n",
              "      <td>2018</td>\n",
              "      <td>5</td>\n",
              "      <td>20</td>\n",
              "      <td>...</td>\n",
              "      <td>0.0</td>\n",
              "      <td>0.0</td>\n",
              "      <td>0.0</td>\n",
              "      <td>0.0</td>\n",
              "      <td>0.0</td>\n",
              "      <td>0.0</td>\n",
              "      <td>0.0</td>\n",
              "      <td>0.0</td>\n",
              "      <td>0.0</td>\n",
              "      <td>1.0</td>\n",
              "    </tr>\n",
              "    <tr>\n",
              "      <th>4</th>\n",
              "      <td>2</td>\n",
              "      <td>0</td>\n",
              "      <td>1</td>\n",
              "      <td>1</td>\n",
              "      <td>3</td>\n",
              "      <td>0</td>\n",
              "      <td>48</td>\n",
              "      <td>2018</td>\n",
              "      <td>4</td>\n",
              "      <td>11</td>\n",
              "      <td>...</td>\n",
              "      <td>0.0</td>\n",
              "      <td>0.0</td>\n",
              "      <td>0.0</td>\n",
              "      <td>0.0</td>\n",
              "      <td>0.0</td>\n",
              "      <td>0.0</td>\n",
              "      <td>0.0</td>\n",
              "      <td>0.0</td>\n",
              "      <td>0.0</td>\n",
              "      <td>1.0</td>\n",
              "    </tr>\n",
              "  </tbody>\n",
              "</table>\n",
              "<p>5 rows × 28 columns</p>\n",
              "</div>\n",
              "      <button class=\"colab-df-convert\" onclick=\"convertToInteractive('df-12d349d9-00bb-4d2d-bf1e-c1bc74ce2c8a')\"\n",
              "              title=\"Convert this dataframe to an interactive table.\"\n",
              "              style=\"display:none;\">\n",
              "        \n",
              "  <svg xmlns=\"http://www.w3.org/2000/svg\" height=\"24px\"viewBox=\"0 0 24 24\"\n",
              "       width=\"24px\">\n",
              "    <path d=\"M0 0h24v24H0V0z\" fill=\"none\"/>\n",
              "    <path d=\"M18.56 5.44l.94 2.06.94-2.06 2.06-.94-2.06-.94-.94-2.06-.94 2.06-2.06.94zm-11 1L8.5 8.5l.94-2.06 2.06-.94-2.06-.94L8.5 2.5l-.94 2.06-2.06.94zm10 10l.94 2.06.94-2.06 2.06-.94-2.06-.94-.94-2.06-.94 2.06-2.06.94z\"/><path d=\"M17.41 7.96l-1.37-1.37c-.4-.4-.92-.59-1.43-.59-.52 0-1.04.2-1.43.59L10.3 9.45l-7.72 7.72c-.78.78-.78 2.05 0 2.83L4 21.41c.39.39.9.59 1.41.59.51 0 1.02-.2 1.41-.59l7.78-7.78 2.81-2.81c.8-.78.8-2.07 0-2.86zM5.41 20L4 18.59l7.72-7.72 1.47 1.35L5.41 20z\"/>\n",
              "  </svg>\n",
              "      </button>\n",
              "      \n",
              "  <style>\n",
              "    .colab-df-container {\n",
              "      display:flex;\n",
              "      flex-wrap:wrap;\n",
              "      gap: 12px;\n",
              "    }\n",
              "\n",
              "    .colab-df-convert {\n",
              "      background-color: #E8F0FE;\n",
              "      border: none;\n",
              "      border-radius: 50%;\n",
              "      cursor: pointer;\n",
              "      display: none;\n",
              "      fill: #1967D2;\n",
              "      height: 32px;\n",
              "      padding: 0 0 0 0;\n",
              "      width: 32px;\n",
              "    }\n",
              "\n",
              "    .colab-df-convert:hover {\n",
              "      background-color: #E2EBFA;\n",
              "      box-shadow: 0px 1px 2px rgba(60, 64, 67, 0.3), 0px 1px 3px 1px rgba(60, 64, 67, 0.15);\n",
              "      fill: #174EA6;\n",
              "    }\n",
              "\n",
              "    [theme=dark] .colab-df-convert {\n",
              "      background-color: #3B4455;\n",
              "      fill: #D2E3FC;\n",
              "    }\n",
              "\n",
              "    [theme=dark] .colab-df-convert:hover {\n",
              "      background-color: #434B5C;\n",
              "      box-shadow: 0px 1px 3px 1px rgba(0, 0, 0, 0.15);\n",
              "      filter: drop-shadow(0px 1px 2px rgba(0, 0, 0, 0.3));\n",
              "      fill: #FFFFFF;\n",
              "    }\n",
              "  </style>\n",
              "\n",
              "      <script>\n",
              "        const buttonEl =\n",
              "          document.querySelector('#df-12d349d9-00bb-4d2d-bf1e-c1bc74ce2c8a button.colab-df-convert');\n",
              "        buttonEl.style.display =\n",
              "          google.colab.kernel.accessAllowed ? 'block' : 'none';\n",
              "\n",
              "        async function convertToInteractive(key) {\n",
              "          const element = document.querySelector('#df-12d349d9-00bb-4d2d-bf1e-c1bc74ce2c8a');\n",
              "          const dataTable =\n",
              "            await google.colab.kernel.invokeFunction('convertToInteractive',\n",
              "                                                     [key], {});\n",
              "          if (!dataTable) return;\n",
              "\n",
              "          const docLinkHtml = 'Like what you see? Visit the ' +\n",
              "            '<a target=\"_blank\" href=https://colab.research.google.com/notebooks/data_table.ipynb>data table notebook</a>'\n",
              "            + ' to learn more about interactive tables.';\n",
              "          element.innerHTML = '';\n",
              "          dataTable['output_type'] = 'display_data';\n",
              "          await google.colab.output.renderOutput(dataTable, element);\n",
              "          const docLink = document.createElement('div');\n",
              "          docLink.innerHTML = docLinkHtml;\n",
              "          element.appendChild(docLink);\n",
              "        }\n",
              "      </script>\n",
              "    </div>\n",
              "  </div>\n",
              "  "
            ]
          },
          "metadata": {},
          "execution_count": 40
        }
      ]
    },
    {
      "cell_type": "code",
      "source": [
        "df.shape"
      ],
      "metadata": {
        "id": "VnFs73hBh6MV",
        "outputId": "5b52eca0-c79e-4590-dcd1-fcd40d280a07",
        "colab": {
          "base_uri": "https://localhost:8080/"
        }
      },
      "execution_count": 41,
      "outputs": [
        {
          "output_type": "execute_result",
          "data": {
            "text/plain": [
              "(36275, 28)"
            ]
          },
          "metadata": {},
          "execution_count": 41
        }
      ]
    },
    {
      "cell_type": "markdown",
      "source": [
        "### Separação em conjunto de trreino e conjunto de teste com holdout\n",
        "\n",
        "\n"
      ],
      "metadata": {
        "id": "3H4iIONJzHkF"
      }
    },
    {
      "cell_type": "code",
      "source": [
        "#separação em bases de treino e teste (holdout)\n",
        "X=df.drop('status_da_reserva', axis=1)\n",
        "y=df['status_da_reserva']\n",
        "test_size=0.30 # Tamanho do conungto de teste\n",
        "seed = 9 # semente aleatória\n",
        "num_particoes=10\n",
        "scoring='accuracy'\n",
        "print(X.shape)\n",
        "print(y.shape)"
      ],
      "metadata": {
        "colab": {
          "base_uri": "https://localhost:8080/"
        },
        "id": "CP91Q5euSNBe",
        "outputId": "b77fef97-dddc-4c79-fb65-d4aec288b215"
      },
      "execution_count": 42,
      "outputs": [
        {
          "output_type": "stream",
          "name": "stdout",
          "text": [
            "(36275, 27)\n",
            "(36275,)\n"
          ]
        }
      ]
    },
    {
      "cell_type": "code",
      "source": [
        "X_train, X_test, y_train, y_test = train_test_split(X,\n",
        "                                                    y,\n",
        "                                                    test_size=test_size,\n",
        "                                                    shuffle=True,\n",
        "                                                    random_state=seed) # holdout com estratificação\n",
        "\n",
        "kfold = StratifiedKFold(n_splits=num_particoes,\n",
        "                        shuffle=True,\n",
        "                        random_state=seed) #validação cruzada com estratificação\n"
      ],
      "metadata": {
        "id": "IeKrJKK0jJVh"
      },
      "execution_count": 48,
      "outputs": []
    },
    {
      "cell_type": "markdown",
      "source": [
        "##Modelagem e Inferência\n",
        "\n"
      ],
      "metadata": {
        "id": "apxesApc3Uj-"
      }
    },
    {
      "cell_type": "markdown",
      "source": [
        "#### Criação e avaliação de modelos:linha base"
      ],
      "metadata": {
        "id": "Oe3RIxxl3jU3"
      }
    },
    {
      "cell_type": "code",
      "source": [
        "# definindo uma semente global\n",
        "np.random.seed(9)\n",
        "\n",
        "#Lista que armazenará os modelos\n",
        "models = []\n",
        "\n",
        "#Criando os modelos e adicionando-os na lista de modelos\n",
        "\n",
        "models.append(('LR', LogisticRegression(max_iter=300)))\n",
        "models.append(('KNN', KNeighborsClassifier()))\n",
        "models.append(('CART', DecisionTreeClassifier()))\n",
        "models.append(('NB', GaussianNB()))\n",
        "models.append(('SVM', SVC()))\n",
        "\n",
        "#Definindo os parâmetros do classificador base para o bagginclassifier\n",
        "base = DecisionTreeClassifier()\n",
        "num_trees = 200\n",
        "max_features = 3\n",
        "\n",
        "# Criando os modelos para o VotingClassifier\n",
        "bases = []\n",
        "model1 = LogisticRegression(max=iter=300)\n",
        "bases.append(('logistic', model1))\n",
        "model2 = DecisionTreeClassifier()\n",
        "bases.append((\"cart\", model2))\n",
        "model3 = SVC()\n",
        "bases.append(('SVM',model13))\n",
        "\n"
      ],
      "metadata": {
        "id": "3UVMox942aUJ"
      },
      "execution_count": null,
      "outputs": []
    },
    {
      "cell_type": "code",
      "source": [],
      "metadata": {
        "id": "A5Wh_8jk2a9V"
      },
      "execution_count": 47,
      "outputs": []
    },
    {
      "cell_type": "code",
      "source": [],
      "metadata": {
        "id": "Myl-q_G12bQn"
      },
      "execution_count": null,
      "outputs": []
    }
  ]
}