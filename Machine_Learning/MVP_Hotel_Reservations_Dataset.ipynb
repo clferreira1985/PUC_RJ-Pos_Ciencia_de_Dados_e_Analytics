{
  "nbformat": 4,
  "nbformat_minor": 0,
  "metadata": {
    "colab": {
      "provenance": [],
      "authorship_tag": "ABX9TyPpA70erleF9Nmy6WWrI3uZ",
      "include_colab_link": true
    },
    "kernelspec": {
      "name": "python3",
      "display_name": "Python 3"
    },
    "language_info": {
      "name": "python"
    }
  },
  "cells": [
    {
      "cell_type": "markdown",
      "metadata": {
        "id": "view-in-github",
        "colab_type": "text"
      },
      "source": [
        "<a href=\"https://colab.research.google.com/github/clferreira1985/PUC_RJ-Pos_Ciencia_de_Dados_e_Analytics/blob/main/Machine_Learning/MVP_Hotel_Reservations_Dataset.ipynb\" target=\"_parent\"><img src=\"https://colab.research.google.com/assets/colab-badge.svg\" alt=\"Open In Colab\"/></a>"
      ]
    },
    {
      "cell_type": "markdown",
      "source": [
        "# MVP Prevendo cancelamentos de hotéis\n",
        "\n",
        "\n"
      ],
      "metadata": {
        "id": "SoLHTUA-hwMN"
      }
    },
    {
      "cell_type": "markdown",
      "source": [
        "## 1º Problema de Negócio\n",
        "\n",
        "Identificar como se encontra a empresa, entender a taxa de cancelamento e prevê a intenção de compra do consumidor com a maquina preditiva que melhor se performar.\n"
      ],
      "metadata": {
        "id": "vsTDjf7vGQd_"
      }
    },
    {
      "cell_type": "markdown",
      "source": [
        "### Os dados\n",
        "\n",
        "###### Eles forneceram a você os dados de suas reservas em um arquivo chamado hotel_bookings.csv, que contém o seguinte:\n",
        "\n",
        "###### Coluna ---> Descrição\n",
        "###### Booking_ID ---> Identificador único da reserva.\n",
        "###### no_of_adults ---> O número de adultos.\n",
        "###### no_of_children ---> O número de filhos.\n",
        "###### no_of_weekend_nights ---> Número de noites de fim de semana (sábado ou domingo).\n",
        "###### no_of_week_nights ---> Número de noites da semana (segunda a sexta).\n",
        "###### type_of_meal_plan ---> Tipo de plano de refeições incluído na reserva.\n",
        "###### required_car_parking_space ---> Se é necessário um espaço de estacionamento.\n",
        "###### room_type_reserved ---> O tipo de quarto reservado.\n",
        "###### lead_time ---> Número de dias antes da data de chegada em que a reserva foi feita.\n",
        "###### arrival_year ---> Ano de chegada.\n",
        "###### arrival_month ---> Mês de chegada.\n",
        "###### arrival_date ---> Data do mês de chegada.\n",
        "###### market_segment_type ---> Como foi feita a reserva.\n",
        "###### repeated_guest ---> Se o hóspede já se hospedou anteriormente no hotel.\n",
        "###### no_of_previous_cancellations ---> Número de cancelamentos anteriores.\n",
        "###### no_of_previous_bookings_not_canceled ---> Número de reservas anteriores que não foram canceladas.\n",
        "###### avg_price_per_room ---> Preço médio por dia da reserva.\n",
        "###### no_of_special_requests ---> Contagem de pedidos especiais feitos como parte da reserva.\n",
        "###### booking_status ---> Se a reserva foi cancelada ou não."
      ],
      "metadata": {
        "id": "DeaTveagmzEg"
      }
    },
    {
      "cell_type": "markdown",
      "source": [
        "## 2º Análise Exploratória"
      ],
      "metadata": {
        "id": "007u2oz2iC1E"
      }
    },
    {
      "cell_type": "markdown",
      "source": [
        "#### Imports das bibliotecas"
      ],
      "metadata": {
        "id": "4Jwiz0mn1gyP"
      }
    },
    {
      "cell_type": "code",
      "execution_count": 1,
      "metadata": {
        "id": "HTx1QkadgGrX"
      },
      "outputs": [],
      "source": [
        "#Import das bibliotecas\n",
        "import warnings\n",
        "warnings.filterwarnings(\"ignore\")\n",
        "\n",
        "import pandas as pd #x\n",
        "import numpy as np #x\n",
        "\n",
        "import matplotlib.pyplot as plt #x\n",
        "import seaborn as sns #x\n",
        "\n",
        "\n",
        "from sklearn import preprocessing\n",
        "from sklearn.preprocessing import OneHotEncoder\n",
        "from sklearn.preprocessing import MinMaxScaler #x\n",
        "from sklearn.preprocessing import StandardScaler\n",
        "from sklearn.model_selection import train_test_split #x\n",
        "from sklearn.model_selection import KFold\n",
        "from sklearn.model_selection import GridSearchCV\n",
        "from sklearn.model_selection import cross_val_score\n",
        "from sklearn.model_selection import StratifiedKFold\n",
        "from sklearn.pipeline import Pipeline\n",
        "from sklearn.metrics import f1_score\n",
        "from sklearn.metrics import accuracy_score\n",
        "from sklearn.metrics import classification_report,confusion_matrix\n",
        "from sklearn.linear_model import LogisticRegression\n",
        "from sklearn.tree import DecisionTreeClassifier\n",
        "from sklearn.neighbors import KNeighborsClassifier\n",
        "from sklearn.naive_bayes import GaussianNB\n",
        "from sklearn.svm import SVC\n",
        "from sklearn.ensemble import BaggingClassifier\n",
        "from sklearn.ensemble import RandomForestClassifier\n",
        "from sklearn.ensemble import ExtraTreesClassifier\n",
        "from sklearn.ensemble import VotingClassifier\n",
        "from sklearn.ensemble import AdaBoostClassifier\n",
        "from sklearn.ensemble import GradientBoostingClassifier\n",
        "from sklearn.feature_selection import SelectKBest # para a Seleção Univariada\n",
        "from sklearn.feature_selection import f_classif # para o teste ANOVA da Seleção Univariada\n",
        "from sklearn.feature_selection import RFE # para a Eliminação Recursiva de Atributos\n",
        "\n"
      ]
    },
    {
      "cell_type": "markdown",
      "source": [
        "#### Carga do Dataset"
      ],
      "metadata": {
        "id": "sBrj9TOR1Z_G"
      }
    },
    {
      "cell_type": "code",
      "source": [
        "# Carrega o dataset\n",
        "df = pd.read_csv('https://raw.githubusercontent.com/clferreira1985/Projetos_Python/main/Hotel_Reservations_Dataset/Hotel%20Reservations.csv')\n"
      ],
      "metadata": {
        "id": "6WPxy9uOg2uJ"
      },
      "execution_count": 2,
      "outputs": []
    },
    {
      "cell_type": "code",
      "source": [
        "#Amostra\n",
        "df.head()"
      ],
      "metadata": {
        "colab": {
          "base_uri": "https://localhost:8080/",
          "height": 270
        },
        "id": "mJdkRM08mkqX",
        "outputId": "d8a6f737-2e19-4d7e-f9e6-decb8ca7d601"
      },
      "execution_count": 3,
      "outputs": [
        {
          "output_type": "execute_result",
          "data": {
            "text/plain": [
              "  Booking_ID  no_of_adults  no_of_children  no_of_weekend_nights  \\\n",
              "0   INN00001             2               0                     1   \n",
              "1   INN00002             2               0                     2   \n",
              "2   INN00003             1               0                     2   \n",
              "3   INN00004             2               0                     0   \n",
              "4   INN00005             2               0                     1   \n",
              "\n",
              "   no_of_week_nights type_of_meal_plan  required_car_parking_space  \\\n",
              "0                  2       Meal Plan 1                           0   \n",
              "1                  3      Not Selected                           0   \n",
              "2                  1       Meal Plan 1                           0   \n",
              "3                  2       Meal Plan 1                           0   \n",
              "4                  1      Not Selected                           0   \n",
              "\n",
              "  room_type_reserved  lead_time  arrival_year  arrival_month  arrival_date  \\\n",
              "0        Room_Type 1        224          2017             10             2   \n",
              "1        Room_Type 1          5          2018             11             6   \n",
              "2        Room_Type 1          1          2018              2            28   \n",
              "3        Room_Type 1        211          2018              5            20   \n",
              "4        Room_Type 1         48          2018              4            11   \n",
              "\n",
              "  market_segment_type  repeated_guest  no_of_previous_cancellations  \\\n",
              "0             Offline               0                             0   \n",
              "1              Online               0                             0   \n",
              "2              Online               0                             0   \n",
              "3              Online               0                             0   \n",
              "4              Online               0                             0   \n",
              "\n",
              "   no_of_previous_bookings_not_canceled  avg_price_per_room  \\\n",
              "0                                     0               65.00   \n",
              "1                                     0              106.68   \n",
              "2                                     0               60.00   \n",
              "3                                     0              100.00   \n",
              "4                                     0               94.50   \n",
              "\n",
              "   no_of_special_requests booking_status  \n",
              "0                       0   Not_Canceled  \n",
              "1                       1   Not_Canceled  \n",
              "2                       0       Canceled  \n",
              "3                       0       Canceled  \n",
              "4                       0       Canceled  "
            ],
            "text/html": [
              "\n",
              "  <div id=\"df-8c87de02-cbdf-4965-aa7d-af2ea54b95f2\">\n",
              "    <div class=\"colab-df-container\">\n",
              "      <div>\n",
              "<style scoped>\n",
              "    .dataframe tbody tr th:only-of-type {\n",
              "        vertical-align: middle;\n",
              "    }\n",
              "\n",
              "    .dataframe tbody tr th {\n",
              "        vertical-align: top;\n",
              "    }\n",
              "\n",
              "    .dataframe thead th {\n",
              "        text-align: right;\n",
              "    }\n",
              "</style>\n",
              "<table border=\"1\" class=\"dataframe\">\n",
              "  <thead>\n",
              "    <tr style=\"text-align: right;\">\n",
              "      <th></th>\n",
              "      <th>Booking_ID</th>\n",
              "      <th>no_of_adults</th>\n",
              "      <th>no_of_children</th>\n",
              "      <th>no_of_weekend_nights</th>\n",
              "      <th>no_of_week_nights</th>\n",
              "      <th>type_of_meal_plan</th>\n",
              "      <th>required_car_parking_space</th>\n",
              "      <th>room_type_reserved</th>\n",
              "      <th>lead_time</th>\n",
              "      <th>arrival_year</th>\n",
              "      <th>arrival_month</th>\n",
              "      <th>arrival_date</th>\n",
              "      <th>market_segment_type</th>\n",
              "      <th>repeated_guest</th>\n",
              "      <th>no_of_previous_cancellations</th>\n",
              "      <th>no_of_previous_bookings_not_canceled</th>\n",
              "      <th>avg_price_per_room</th>\n",
              "      <th>no_of_special_requests</th>\n",
              "      <th>booking_status</th>\n",
              "    </tr>\n",
              "  </thead>\n",
              "  <tbody>\n",
              "    <tr>\n",
              "      <th>0</th>\n",
              "      <td>INN00001</td>\n",
              "      <td>2</td>\n",
              "      <td>0</td>\n",
              "      <td>1</td>\n",
              "      <td>2</td>\n",
              "      <td>Meal Plan 1</td>\n",
              "      <td>0</td>\n",
              "      <td>Room_Type 1</td>\n",
              "      <td>224</td>\n",
              "      <td>2017</td>\n",
              "      <td>10</td>\n",
              "      <td>2</td>\n",
              "      <td>Offline</td>\n",
              "      <td>0</td>\n",
              "      <td>0</td>\n",
              "      <td>0</td>\n",
              "      <td>65.00</td>\n",
              "      <td>0</td>\n",
              "      <td>Not_Canceled</td>\n",
              "    </tr>\n",
              "    <tr>\n",
              "      <th>1</th>\n",
              "      <td>INN00002</td>\n",
              "      <td>2</td>\n",
              "      <td>0</td>\n",
              "      <td>2</td>\n",
              "      <td>3</td>\n",
              "      <td>Not Selected</td>\n",
              "      <td>0</td>\n",
              "      <td>Room_Type 1</td>\n",
              "      <td>5</td>\n",
              "      <td>2018</td>\n",
              "      <td>11</td>\n",
              "      <td>6</td>\n",
              "      <td>Online</td>\n",
              "      <td>0</td>\n",
              "      <td>0</td>\n",
              "      <td>0</td>\n",
              "      <td>106.68</td>\n",
              "      <td>1</td>\n",
              "      <td>Not_Canceled</td>\n",
              "    </tr>\n",
              "    <tr>\n",
              "      <th>2</th>\n",
              "      <td>INN00003</td>\n",
              "      <td>1</td>\n",
              "      <td>0</td>\n",
              "      <td>2</td>\n",
              "      <td>1</td>\n",
              "      <td>Meal Plan 1</td>\n",
              "      <td>0</td>\n",
              "      <td>Room_Type 1</td>\n",
              "      <td>1</td>\n",
              "      <td>2018</td>\n",
              "      <td>2</td>\n",
              "      <td>28</td>\n",
              "      <td>Online</td>\n",
              "      <td>0</td>\n",
              "      <td>0</td>\n",
              "      <td>0</td>\n",
              "      <td>60.00</td>\n",
              "      <td>0</td>\n",
              "      <td>Canceled</td>\n",
              "    </tr>\n",
              "    <tr>\n",
              "      <th>3</th>\n",
              "      <td>INN00004</td>\n",
              "      <td>2</td>\n",
              "      <td>0</td>\n",
              "      <td>0</td>\n",
              "      <td>2</td>\n",
              "      <td>Meal Plan 1</td>\n",
              "      <td>0</td>\n",
              "      <td>Room_Type 1</td>\n",
              "      <td>211</td>\n",
              "      <td>2018</td>\n",
              "      <td>5</td>\n",
              "      <td>20</td>\n",
              "      <td>Online</td>\n",
              "      <td>0</td>\n",
              "      <td>0</td>\n",
              "      <td>0</td>\n",
              "      <td>100.00</td>\n",
              "      <td>0</td>\n",
              "      <td>Canceled</td>\n",
              "    </tr>\n",
              "    <tr>\n",
              "      <th>4</th>\n",
              "      <td>INN00005</td>\n",
              "      <td>2</td>\n",
              "      <td>0</td>\n",
              "      <td>1</td>\n",
              "      <td>1</td>\n",
              "      <td>Not Selected</td>\n",
              "      <td>0</td>\n",
              "      <td>Room_Type 1</td>\n",
              "      <td>48</td>\n",
              "      <td>2018</td>\n",
              "      <td>4</td>\n",
              "      <td>11</td>\n",
              "      <td>Online</td>\n",
              "      <td>0</td>\n",
              "      <td>0</td>\n",
              "      <td>0</td>\n",
              "      <td>94.50</td>\n",
              "      <td>0</td>\n",
              "      <td>Canceled</td>\n",
              "    </tr>\n",
              "  </tbody>\n",
              "</table>\n",
              "</div>\n",
              "      <button class=\"colab-df-convert\" onclick=\"convertToInteractive('df-8c87de02-cbdf-4965-aa7d-af2ea54b95f2')\"\n",
              "              title=\"Convert this dataframe to an interactive table.\"\n",
              "              style=\"display:none;\">\n",
              "        \n",
              "  <svg xmlns=\"http://www.w3.org/2000/svg\" height=\"24px\"viewBox=\"0 0 24 24\"\n",
              "       width=\"24px\">\n",
              "    <path d=\"M0 0h24v24H0V0z\" fill=\"none\"/>\n",
              "    <path d=\"M18.56 5.44l.94 2.06.94-2.06 2.06-.94-2.06-.94-.94-2.06-.94 2.06-2.06.94zm-11 1L8.5 8.5l.94-2.06 2.06-.94-2.06-.94L8.5 2.5l-.94 2.06-2.06.94zm10 10l.94 2.06.94-2.06 2.06-.94-2.06-.94-.94-2.06-.94 2.06-2.06.94z\"/><path d=\"M17.41 7.96l-1.37-1.37c-.4-.4-.92-.59-1.43-.59-.52 0-1.04.2-1.43.59L10.3 9.45l-7.72 7.72c-.78.78-.78 2.05 0 2.83L4 21.41c.39.39.9.59 1.41.59.51 0 1.02-.2 1.41-.59l7.78-7.78 2.81-2.81c.8-.78.8-2.07 0-2.86zM5.41 20L4 18.59l7.72-7.72 1.47 1.35L5.41 20z\"/>\n",
              "  </svg>\n",
              "      </button>\n",
              "      \n",
              "  <style>\n",
              "    .colab-df-container {\n",
              "      display:flex;\n",
              "      flex-wrap:wrap;\n",
              "      gap: 12px;\n",
              "    }\n",
              "\n",
              "    .colab-df-convert {\n",
              "      background-color: #E8F0FE;\n",
              "      border: none;\n",
              "      border-radius: 50%;\n",
              "      cursor: pointer;\n",
              "      display: none;\n",
              "      fill: #1967D2;\n",
              "      height: 32px;\n",
              "      padding: 0 0 0 0;\n",
              "      width: 32px;\n",
              "    }\n",
              "\n",
              "    .colab-df-convert:hover {\n",
              "      background-color: #E2EBFA;\n",
              "      box-shadow: 0px 1px 2px rgba(60, 64, 67, 0.3), 0px 1px 3px 1px rgba(60, 64, 67, 0.15);\n",
              "      fill: #174EA6;\n",
              "    }\n",
              "\n",
              "    [theme=dark] .colab-df-convert {\n",
              "      background-color: #3B4455;\n",
              "      fill: #D2E3FC;\n",
              "    }\n",
              "\n",
              "    [theme=dark] .colab-df-convert:hover {\n",
              "      background-color: #434B5C;\n",
              "      box-shadow: 0px 1px 3px 1px rgba(0, 0, 0, 0.15);\n",
              "      filter: drop-shadow(0px 1px 2px rgba(0, 0, 0, 0.3));\n",
              "      fill: #FFFFFF;\n",
              "    }\n",
              "  </style>\n",
              "\n",
              "      <script>\n",
              "        const buttonEl =\n",
              "          document.querySelector('#df-8c87de02-cbdf-4965-aa7d-af2ea54b95f2 button.colab-df-convert');\n",
              "        buttonEl.style.display =\n",
              "          google.colab.kernel.accessAllowed ? 'block' : 'none';\n",
              "\n",
              "        async function convertToInteractive(key) {\n",
              "          const element = document.querySelector('#df-8c87de02-cbdf-4965-aa7d-af2ea54b95f2');\n",
              "          const dataTable =\n",
              "            await google.colab.kernel.invokeFunction('convertToInteractive',\n",
              "                                                     [key], {});\n",
              "          if (!dataTable) return;\n",
              "\n",
              "          const docLinkHtml = 'Like what you see? Visit the ' +\n",
              "            '<a target=\"_blank\" href=https://colab.research.google.com/notebooks/data_table.ipynb>data table notebook</a>'\n",
              "            + ' to learn more about interactive tables.';\n",
              "          element.innerHTML = '';\n",
              "          dataTable['output_type'] = 'display_data';\n",
              "          await google.colab.output.renderOutput(dataTable, element);\n",
              "          const docLink = document.createElement('div');\n",
              "          docLink.innerHTML = docLinkHtml;\n",
              "          element.appendChild(docLink);\n",
              "        }\n",
              "      </script>\n",
              "    </div>\n",
              "  </div>\n",
              "  "
            ]
          },
          "metadata": {},
          "execution_count": 3
        }
      ]
    },
    {
      "cell_type": "code",
      "source": [
        "# Shape\n",
        "df.shape"
      ],
      "metadata": {
        "colab": {
          "base_uri": "https://localhost:8080/"
        },
        "id": "_RBaW8Wqmb2h",
        "outputId": "b93b34f1-955c-4416-b70e-e7b39d873b13"
      },
      "execution_count": 4,
      "outputs": [
        {
          "output_type": "execute_result",
          "data": {
            "text/plain": [
              "(36275, 19)"
            ]
          },
          "metadata": {},
          "execution_count": 4
        }
      ]
    },
    {
      "cell_type": "code",
      "source": [
        "df.rename(columns=({'Booking_ID':'reserva',\n",
        "                    'no_of_adults':'qnt_de_adultos',\n",
        "                    'no_of_children':'qnt_de_crianças',\n",
        "                    'no_of_weekend_nights':'qnd_dias_final_de_semana',\n",
        "                    'no_of_week_nights':'qnd_dias_úteis',\n",
        "                    'type_of_meal_plan':'tipo_de_refeição',\n",
        "                    'required_car_parking_space':'vaga_de_estacionamento',\n",
        "                    'room_type_reserved':'tipo_de_reserva',\n",
        "                    'lead_time':'tempo_de_reserva',\n",
        "                    'arrival_year':'ano',\n",
        "                    'arrival_month':'mês',\n",
        "                    'arrival_date':'dia',\n",
        "                    'market_segment_type':'canal_de_compra',\n",
        "                    'repeated_guest':'qnt_de_hospedagem',\n",
        "                    'no_of_previous_cancellations':'qnt_de_cancelamentos_anteriores',\n",
        "                    'no_of_previous_bookings_not_canceled': 'qnt_de_reservas_anteriores_não_canceladas',\n",
        "                    'avg_price_per_room':'media_dos_precos',\n",
        "                    'no_of_special_requests':'qnt_de_pedidos_especiais',\n",
        "                    'booking_status':'status_da_reserva',\n",
        "                    'have_child':'tem filhos'}),inplace = True)"
      ],
      "metadata": {
        "id": "Vj0SAVp6ImOk"
      },
      "execution_count": 5,
      "outputs": []
    },
    {
      "cell_type": "code",
      "source": [
        "df.info()\n"
      ],
      "metadata": {
        "colab": {
          "base_uri": "https://localhost:8080/"
        },
        "id": "P5Af9QOso8cB",
        "outputId": "5544eda3-d9f0-4a46-d6d9-2ccbd46cb223"
      },
      "execution_count": 6,
      "outputs": [
        {
          "output_type": "stream",
          "name": "stdout",
          "text": [
            "<class 'pandas.core.frame.DataFrame'>\n",
            "RangeIndex: 36275 entries, 0 to 36274\n",
            "Data columns (total 19 columns):\n",
            " #   Column                                     Non-Null Count  Dtype  \n",
            "---  ------                                     --------------  -----  \n",
            " 0   reserva                                    36275 non-null  object \n",
            " 1   qnt_de_adultos                             36275 non-null  int64  \n",
            " 2   qnt_de_crianças                            36275 non-null  int64  \n",
            " 3   qnd_dias_final_de_semana                   36275 non-null  int64  \n",
            " 4   qnd_dias_úteis                             36275 non-null  int64  \n",
            " 5   tipo_de_refeição                           36275 non-null  object \n",
            " 6   vaga_de_estacionamento                     36275 non-null  int64  \n",
            " 7   tipo_de_reserva                            36275 non-null  object \n",
            " 8   tempo_de_reserva                           36275 non-null  int64  \n",
            " 9   ano                                        36275 non-null  int64  \n",
            " 10  mês                                        36275 non-null  int64  \n",
            " 11  dia                                        36275 non-null  int64  \n",
            " 12  canal_de_compra                            36275 non-null  object \n",
            " 13  qnt_de_hospedagem                          36275 non-null  int64  \n",
            " 14  qnt_de_cancelamentos_anteriores            36275 non-null  int64  \n",
            " 15  qnt_de_reservas_anteriores_não_canceladas  36275 non-null  int64  \n",
            " 16  media_dos_precos                           36275 non-null  float64\n",
            " 17  qnt_de_pedidos_especiais                   36275 non-null  int64  \n",
            " 18  status_da_reserva                          36275 non-null  object \n",
            "dtypes: float64(1), int64(13), object(5)\n",
            "memory usage: 5.3+ MB\n"
          ]
        }
      ]
    },
    {
      "cell_type": "code",
      "source": [
        "# Temos valores nulos?\n",
        "df.isna().sum()"
      ],
      "metadata": {
        "colab": {
          "base_uri": "https://localhost:8080/"
        },
        "id": "9_Qzwm5Do8u8",
        "outputId": "45a0287c-b01e-4f2a-c4c1-92fe88f14f43"
      },
      "execution_count": 7,
      "outputs": [
        {
          "output_type": "execute_result",
          "data": {
            "text/plain": [
              "reserva                                      0\n",
              "qnt_de_adultos                               0\n",
              "qnt_de_crianças                              0\n",
              "qnd_dias_final_de_semana                     0\n",
              "qnd_dias_úteis                               0\n",
              "tipo_de_refeição                             0\n",
              "vaga_de_estacionamento                       0\n",
              "tipo_de_reserva                              0\n",
              "tempo_de_reserva                             0\n",
              "ano                                          0\n",
              "mês                                          0\n",
              "dia                                          0\n",
              "canal_de_compra                              0\n",
              "qnt_de_hospedagem                            0\n",
              "qnt_de_cancelamentos_anteriores              0\n",
              "qnt_de_reservas_anteriores_não_canceladas    0\n",
              "media_dos_precos                             0\n",
              "qnt_de_pedidos_especiais                     0\n",
              "status_da_reserva                            0\n",
              "dtype: int64"
            ]
          },
          "metadata": {},
          "execution_count": 7
        }
      ]
    },
    {
      "cell_type": "code",
      "source": [
        "#quantidade de categorias por coluna\n",
        "df.select_dtypes(include='object').drop(columns = 'reserva').nunique()"
      ],
      "metadata": {
        "id": "kpRWEJoZiTnq",
        "outputId": "660ae3e4-fe65-4637-fe9c-ea7441afd16f",
        "colab": {
          "base_uri": "https://localhost:8080/"
        }
      },
      "execution_count": 8,
      "outputs": [
        {
          "output_type": "execute_result",
          "data": {
            "text/plain": [
              "tipo_de_refeição     4\n",
              "tipo_de_reserva      7\n",
              "canal_de_compra      5\n",
              "status_da_reserva    2\n",
              "dtype: int64"
            ]
          },
          "metadata": {},
          "execution_count": 8
        }
      ]
    },
    {
      "cell_type": "code",
      "source": [
        "#plot\n",
        "\n",
        "sns.catplot(data=df, x='mês', kind='count', palette = \"Blues\", hue='status_da_reserva', legend_out=False)\n",
        "plt.ylabel('Qnt de Reservas')\n",
        "plt.xlabel('mês')\n",
        "plt.title('Status da Reserva por Mês')\n",
        "plt.legend(['Reservado', 'Cancelado'])\n",
        "plt.show()"
      ],
      "metadata": {
        "colab": {
          "base_uri": "https://localhost:8080/",
          "height": 529
        },
        "id": "nQtnRmfWt_-C",
        "outputId": "02d33e4d-3639-43cf-a180-8d3d3a2cbc96"
      },
      "execution_count": 9,
      "outputs": [
        {
          "output_type": "display_data",
          "data": {
            "text/plain": [
              "<Figure size 500x500 with 1 Axes>"
            ],
            "image/png": "[encoded data removed]"
          },
          "metadata": {}
        }
      ]
    },
    {
      "cell_type": "code",
      "source": [
        "pd.crosstab(df[\"ano\"], df['status_da_reserva']).plot(kind='bar',\n",
        "                                                      stacked = False,\n",
        "                                                      figsize = (5, 5),\n",
        "                                                      color = ['lightsteelblue','b']).legend(['Reservado', 'Cancelado'])\n"
      ],
      "metadata": {
        "colab": {
          "base_uri": "https://localhost:8080/",
          "height": 503
        },
        "id": "TweX1mkfuXLX",
        "outputId": "0b02e338-f644-454f-a2f2-74cb8315a398"
      },
      "execution_count": 10,
      "outputs": [
        {
          "output_type": "execute_result",
          "data": {
            "text/plain": [
              "<matplotlib.legend.Legend at 0x7f431b1b6dd0>"
            ]
          },
          "metadata": {},
          "execution_count": 10
        },
        {
          "output_type": "display_data",
          "data": {
            "text/plain": [
              "<Figure size 500x500 with 1 Axes>"
            ],
            "image/png": "[encoded data removed]"
          },
          "metadata": {}
        }
      ]
    },
    {
      "cell_type": "markdown",
      "source": [
        "### **Resumo**\n",
        "\n",
        "Verifiquei que temos uma aumento significativo das vendas de um ano para outro, sendo que a quantidade de cancelamento não aumentou proporcional. Os maiores volumes de cancelamento ocorrem entre junho a outubro, isso é um problema para empresa.\n",
        "\n",
        "\n",
        "\n"
      ],
      "metadata": {
        "id": "CBmB82bBUk1b"
      }
    },
    {
      "cell_type": "markdown",
      "source": [
        "## 3º Pré-processamento dos dados\n"
      ],
      "metadata": {
        "id": "M1N6eqCQ6mp2"
      }
    },
    {
      "cell_type": "markdown",
      "source": [
        "#### Encode Classes\n",
        "\n",
        " - transformando as colunas categóricas. Quando a coluna tiver até 4 atributos utilizarei o label_encoder, acima disso usaremos o OneHotEncoder"
      ],
      "metadata": {
        "id": "kKLzuQeIc9qx"
      }
    },
    {
      "cell_type": "code",
      "source": [
        "label_encoder = preprocessing.LabelEncoder()\n",
        "encoder=preprocessing.OneHotEncoder()\n",
        "\n",
        "#Iteramdo sobre as colunas do DataFrame\n",
        "for column in df.select_dtypes(include='object').drop(columns = 'reserva'):\n",
        "    if df[column].nunique() < 5:\n",
        "        # Aplicando o LabelEncoder na colunas que tem <=4\n",
        "        df[column] = label_encoder.fit_transform(df[column])\n",
        "    else:\n",
        "        #Aplicando o OneHotencoder nas colunas que tem mais de 4 categorias\n",
        "        df_encoded = df[column] = encoder.fit_transform(df[column].values.reshape(-1, 1)).toarray()\n",
        "        #Criando novas colunas com os dados codificados\n",
        "        column_names = [f\"{column}_{i}\" for i in range(df_encoded.shape[1])]\n",
        "        df_encoded = pd.DataFrame(df_encoded, columns=column_names)\n",
        "        df=pd.concat([df, df_encoded], axis=1)\n",
        "        #Removendo a coluna original\n",
        "        df.drop(column, axis=1, inplace=True)"
      ],
      "metadata": {
        "id": "e6dcgjYh43YS"
      },
      "execution_count": 11,
      "outputs": []
    },
    {
      "cell_type": "code",
      "source": [
        "  df.drop('reserva', axis=1, inplace=True)\n",
        "  df.head()"
      ],
      "metadata": {
        "colab": {
          "base_uri": "https://localhost:8080/",
          "height": 300
        },
        "id": "Q7VxjfFzSVQ6",
        "outputId": "e80ead4f-d5bd-4e1a-9433-75461b07adc1"
      },
      "execution_count": 12,
      "outputs": [
        {
          "output_type": "execute_result",
          "data": {
            "text/plain": [
              "   qnt_de_adultos  qnt_de_crianças  qnd_dias_final_de_semana  qnd_dias_úteis  \\\n",
              "0               2                0                         1               2   \n",
              "1               2                0                         2               3   \n",
              "2               1                0                         2               1   \n",
              "3               2                0                         0               2   \n",
              "4               2                0                         1               1   \n",
              "\n",
              "   tipo_de_refeição  vaga_de_estacionamento  tempo_de_reserva   ano  mês  dia  \\\n",
              "0                 0                       0               224  2017   10    2   \n",
              "1                 3                       0                 5  2018   11    6   \n",
              "2                 0                       0                 1  2018    2   28   \n",
              "3                 0                       0               211  2018    5   20   \n",
              "4                 3                       0                48  2018    4   11   \n",
              "\n",
              "   ...  tipo_de_reserva_2  tipo_de_reserva_3  tipo_de_reserva_4  \\\n",
              "0  ...                0.0                0.0                0.0   \n",
              "1  ...                0.0                0.0                0.0   \n",
              "2  ...                0.0                0.0                0.0   \n",
              "3  ...                0.0                0.0                0.0   \n",
              "4  ...                0.0                0.0                0.0   \n",
              "\n",
              "   tipo_de_reserva_5  tipo_de_reserva_6  canal_de_compra_0  canal_de_compra_1  \\\n",
              "0                0.0                0.0                0.0                0.0   \n",
              "1                0.0                0.0                0.0                0.0   \n",
              "2                0.0                0.0                0.0                0.0   \n",
              "3                0.0                0.0                0.0                0.0   \n",
              "4                0.0                0.0                0.0                0.0   \n",
              "\n",
              "   canal_de_compra_2  canal_de_compra_3  canal_de_compra_4  \n",
              "0                0.0                1.0                0.0  \n",
              "1                0.0                0.0                1.0  \n",
              "2                0.0                0.0                1.0  \n",
              "3                0.0                0.0                1.0  \n",
              "4                0.0                0.0                1.0  \n",
              "\n",
              "[5 rows x 28 columns]"
            ],
            "text/html": [
              "\n",
              "  <div id=\"df-2b4052e5-3581-495e-92ca-79e2c3e56b51\">\n",
              "    <div class=\"colab-df-container\">\n",
              "      <div>\n",
              "<style scoped>\n",
              "    .dataframe tbody tr th:only-of-type {\n",
              "        vertical-align: middle;\n",
              "    }\n",
              "\n",
              "    .dataframe tbody tr th {\n",
              "        vertical-align: top;\n",
              "    }\n",
              "\n",
              "    .dataframe thead th {\n",
              "        text-align: right;\n",
              "    }\n",
              "</style>\n",
              "<table border=\"1\" class=\"dataframe\">\n",
              "  <thead>\n",
              "    <tr style=\"text-align: right;\">\n",
              "      <th></th>\n",
              "      <th>qnt_de_adultos</th>\n",
              "      <th>qnt_de_crianças</th>\n",
              "      <th>qnd_dias_final_de_semana</th>\n",
              "      <th>qnd_dias_úteis</th>\n",
              "      <th>tipo_de_refeição</th>\n",
              "      <th>vaga_de_estacionamento</th>\n",
              "      <th>tempo_de_reserva</th>\n",
              "      <th>ano</th>\n",
              "      <th>mês</th>\n",
              "      <th>dia</th>\n",
              "      <th>...</th>\n",
              "      <th>tipo_de_reserva_2</th>\n",
              "      <th>tipo_de_reserva_3</th>\n",
              "      <th>tipo_de_reserva_4</th>\n",
              "      <th>tipo_de_reserva_5</th>\n",
              "      <th>tipo_de_reserva_6</th>\n",
              "      <th>canal_de_compra_0</th>\n",
              "      <th>canal_de_compra_1</th>\n",
              "      <th>canal_de_compra_2</th>\n",
              "      <th>canal_de_compra_3</th>\n",
              "      <th>canal_de_compra_4</th>\n",
              "    </tr>\n",
              "  </thead>\n",
              "  <tbody>\n",
              "    <tr>\n",
              "      <th>0</th>\n",
              "      <td>2</td>\n",
              "      <td>0</td>\n",
              "      <td>1</td>\n",
              "      <td>2</td>\n",
              "      <td>0</td>\n",
              "      <td>0</td>\n",
              "      <td>224</td>\n",
              "      <td>2017</td>\n",
              "      <td>10</td>\n",
              "      <td>2</td>\n",
              "      <td>...</td>\n",
              "      <td>0.0</td>\n",
              "      <td>0.0</td>\n",
              "      <td>0.0</td>\n",
              "      <td>0.0</td>\n",
              "      <td>0.0</td>\n",
              "      <td>0.0</td>\n",
              "      <td>0.0</td>\n",
              "      <td>0.0</td>\n",
              "      <td>1.0</td>\n",
              "      <td>0.0</td>\n",
              "    </tr>\n",
              "    <tr>\n",
              "      <th>1</th>\n",
              "      <td>2</td>\n",
              "      <td>0</td>\n",
              "      <td>2</td>\n",
              "      <td>3</td>\n",
              "      <td>3</td>\n",
              "      <td>0</td>\n",
              "      <td>5</td>\n",
              "      <td>2018</td>\n",
              "      <td>11</td>\n",
              "      <td>6</td>\n",
              "      <td>...</td>\n",
              "      <td>0.0</td>\n",
              "      <td>0.0</td>\n",
              "      <td>0.0</td>\n",
              "      <td>0.0</td>\n",
              "      <td>0.0</td>\n",
              "      <td>0.0</td>\n",
              "      <td>0.0</td>\n",
              "      <td>0.0</td>\n",
              "      <td>0.0</td>\n",
              "      <td>1.0</td>\n",
              "    </tr>\n",
              "    <tr>\n",
              "      <th>2</th>\n",
              "      <td>1</td>\n",
              "      <td>0</td>\n",
              "      <td>2</td>\n",
              "      <td>1</td>\n",
              "      <td>0</td>\n",
              "      <td>0</td>\n",
              "      <td>1</td>\n",
              "      <td>2018</td>\n",
              "      <td>2</td>\n",
              "      <td>28</td>\n",
              "      <td>...</td>\n",
              "      <td>0.0</td>\n",
              "      <td>0.0</td>\n",
              "      <td>0.0</td>\n",
              "      <td>0.0</td>\n",
              "      <td>0.0</td>\n",
              "      <td>0.0</td>\n",
              "      <td>0.0</td>\n",
              "      <td>0.0</td>\n",
              "      <td>0.0</td>\n",
              "      <td>1.0</td>\n",
              "    </tr>\n",
              "    <tr>\n",
              "      <th>3</th>\n",
              "      <td>2</td>\n",
              "      <td>0</td>\n",
              "      <td>0</td>\n",
              "      <td>2</td>\n",
              "      <td>0</td>\n",
              "      <td>0</td>\n",
              "      <td>211</td>\n",
              "      <td>2018</td>\n",
              "      <td>5</td>\n",
              "      <td>20</td>\n",
              "      <td>...</td>\n",
              "      <td>0.0</td>\n",
              "      <td>0.0</td>\n",
              "      <td>0.0</td>\n",
              "      <td>0.0</td>\n",
              "      <td>0.0</td>\n",
              "      <td>0.0</td>\n",
              "      <td>0.0</td>\n",
              "      <td>0.0</td>\n",
              "      <td>0.0</td>\n",
              "      <td>1.0</td>\n",
              "    </tr>\n",
              "    <tr>\n",
              "      <th>4</th>\n",
              "      <td>2</td>\n",
              "      <td>0</td>\n",
              "      <td>1</td>\n",
              "      <td>1</td>\n",
              "      <td>3</td>\n",
              "      <td>0</td>\n",
              "      <td>48</td>\n",
              "      <td>2018</td>\n",
              "      <td>4</td>\n",
              "      <td>11</td>\n",
              "      <td>...</td>\n",
              "      <td>0.0</td>\n",
              "      <td>0.0</td>\n",
              "      <td>0.0</td>\n",
              "      <td>0.0</td>\n",
              "      <td>0.0</td>\n",
              "      <td>0.0</td>\n",
              "      <td>0.0</td>\n",
              "      <td>0.0</td>\n",
              "      <td>0.0</td>\n",
              "      <td>1.0</td>\n",
              "    </tr>\n",
              "  </tbody>\n",
              "</table>\n",
              "<p>5 rows × 28 columns</p>\n",
              "</div>\n",
              "      <button class=\"colab-df-convert\" onclick=\"convertToInteractive('df-2b4052e5-3581-495e-92ca-79e2c3e56b51')\"\n",
              "              title=\"Convert this dataframe to an interactive table.\"\n",
              "              style=\"display:none;\">\n",
              "        \n",
              "  <svg xmlns=\"http://www.w3.org/2000/svg\" height=\"24px\"viewBox=\"0 0 24 24\"\n",
              "       width=\"24px\">\n",
              "    <path d=\"M0 0h24v24H0V0z\" fill=\"none\"/>\n",
              "    <path d=\"M18.56 5.44l.94 2.06.94-2.06 2.06-.94-2.06-.94-.94-2.06-.94 2.06-2.06.94zm-11 1L8.5 8.5l.94-2.06 2.06-.94-2.06-.94L8.5 2.5l-.94 2.06-2.06.94zm10 10l.94 2.06.94-2.06 2.06-.94-2.06-.94-.94-2.06-.94 2.06-2.06.94z\"/><path d=\"M17.41 7.96l-1.37-1.37c-.4-.4-.92-.59-1.43-.59-.52 0-1.04.2-1.43.59L10.3 9.45l-7.72 7.72c-.78.78-.78 2.05 0 2.83L4 21.41c.39.39.9.59 1.41.59.51 0 1.02-.2 1.41-.59l7.78-7.78 2.81-2.81c.8-.78.8-2.07 0-2.86zM5.41 20L4 18.59l7.72-7.72 1.47 1.35L5.41 20z\"/>\n",
              "  </svg>\n",
              "      </button>\n",
              "      \n",
              "  <style>\n",
              "    .colab-df-container {\n",
              "      display:flex;\n",
              "      flex-wrap:wrap;\n",
              "      gap: 12px;\n",
              "    }\n",
              "\n",
              "    .colab-df-convert {\n",
              "      background-color: #E8F0FE;\n",
              "      border: none;\n",
              "      border-radius: 50%;\n",
              "      cursor: pointer;\n",
              "      display: none;\n",
              "      fill: #1967D2;\n",
              "      height: 32px;\n",
              "      padding: 0 0 0 0;\n",
              "      width: 32px;\n",
              "    }\n",
              "\n",
              "    .colab-df-convert:hover {\n",
              "      background-color: #E2EBFA;\n",
              "      box-shadow: 0px 1px 2px rgba(60, 64, 67, 0.3), 0px 1px 3px 1px rgba(60, 64, 67, 0.15);\n",
              "      fill: #174EA6;\n",
              "    }\n",
              "\n",
              "    [theme=dark] .colab-df-convert {\n",
              "      background-color: #3B4455;\n",
              "      fill: #D2E3FC;\n",
              "    }\n",
              "\n",
              "    [theme=dark] .colab-df-convert:hover {\n",
              "      background-color: #434B5C;\n",
              "      box-shadow: 0px 1px 3px 1px rgba(0, 0, 0, 0.15);\n",
              "      filter: drop-shadow(0px 1px 2px rgba(0, 0, 0, 0.3));\n",
              "      fill: #FFFFFF;\n",
              "    }\n",
              "  </style>\n",
              "\n",
              "      <script>\n",
              "        const buttonEl =\n",
              "          document.querySelector('#df-2b4052e5-3581-495e-92ca-79e2c3e56b51 button.colab-df-convert');\n",
              "        buttonEl.style.display =\n",
              "          google.colab.kernel.accessAllowed ? 'block' : 'none';\n",
              "\n",
              "        async function convertToInteractive(key) {\n",
              "          const element = document.querySelector('#df-2b4052e5-3581-495e-92ca-79e2c3e56b51');\n",
              "          const dataTable =\n",
              "            await google.colab.kernel.invokeFunction('convertToInteractive',\n",
              "                                                     [key], {});\n",
              "          if (!dataTable) return;\n",
              "\n",
              "          const docLinkHtml = 'Like what you see? Visit the ' +\n",
              "            '<a target=\"_blank\" href=https://colab.research.google.com/notebooks/data_table.ipynb>data table notebook</a>'\n",
              "            + ' to learn more about interactive tables.';\n",
              "          element.innerHTML = '';\n",
              "          dataTable['output_type'] = 'display_data';\n",
              "          await google.colab.output.renderOutput(dataTable, element);\n",
              "          const docLink = document.createElement('div');\n",
              "          docLink.innerHTML = docLinkHtml;\n",
              "          element.appendChild(docLink);\n",
              "        }\n",
              "      </script>\n",
              "    </div>\n",
              "  </div>\n",
              "  "
            ]
          },
          "metadata": {},
          "execution_count": 12
        }
      ]
    },
    {
      "cell_type": "code",
      "source": [
        "df.shape"
      ],
      "metadata": {
        "id": "VnFs73hBh6MV",
        "outputId": "a4a0a384-969c-42f3-d935-d461953f53e4",
        "colab": {
          "base_uri": "https://localhost:8080/"
        }
      },
      "execution_count": 13,
      "outputs": [
        {
          "output_type": "execute_result",
          "data": {
            "text/plain": [
              "(36275, 28)"
            ]
          },
          "metadata": {},
          "execution_count": 13
        }
      ]
    },
    {
      "cell_type": "markdown",
      "source": [
        "### Separação em conjunto de trreino e conjunto de teste com holdout\n",
        "\n",
        "\n"
      ],
      "metadata": {
        "id": "3H4iIONJzHkF"
      }
    },
    {
      "cell_type": "code",
      "source": [
        "#separação em bases de treino e teste (holdout)\n",
        "X=df.drop('status_da_reserva', axis=1)\n",
        "y=df['status_da_reserva']\n",
        "test_size=0.30 # Tamanho do conungto de teste\n",
        "seed = 9 # semente aleatória\n",
        "num_particoes=10\n",
        "scoring='accuracy'\n",
        "print(X.shape)\n",
        "print(y.shape)"
      ],
      "metadata": {
        "colab": {
          "base_uri": "https://localhost:8080/"
        },
        "id": "CP91Q5euSNBe",
        "outputId": "b9b79d32-b21f-4bfe-b9b5-f66d9197dda9"
      },
      "execution_count": 14,
      "outputs": [
        {
          "output_type": "stream",
          "name": "stdout",
          "text": [
            "(36275, 27)\n",
            "(36275,)\n"
          ]
        }
      ]
    },
    {
      "cell_type": "code",
      "source": [
        "X_train, X_test, y_train, y_test = train_test_split(X,\n",
        "                                                    y,\n",
        "                                                    test_size=test_size,\n",
        "                                                    shuffle=True,\n",
        "                                                    random_state=seed) # holdout com estratificação\n",
        "\n",
        "kfold = StratifiedKFold(n_splits=num_particoes,\n",
        "                        shuffle=True,\n",
        "                        random_state=seed) #validação cruzada com estratificação\n"
      ],
      "metadata": {
        "id": "IeKrJKK0jJVh"
      },
      "execution_count": 15,
      "outputs": []
    },
    {
      "cell_type": "markdown",
      "source": [
        "##Modelagem e Inferência\n",
        "\n"
      ],
      "metadata": {
        "id": "apxesApc3Uj-"
      }
    },
    {
      "cell_type": "markdown",
      "source": [
        "#### Criação e avaliação de modelos:linha base"
      ],
      "metadata": {
        "id": "Oe3RIxxl3jU3"
      }
    },
    {
      "cell_type": "code",
      "source": [
        "# definindo uma semente global\n",
        "np.random.seed(9)\n",
        "\n",
        "#Lista que armazenará os modelos\n",
        "models = []\n",
        "\n",
        "#Criando os modelos e adicionando-os na lista de modelos\n",
        "\n",
        "models.append(('LR', LogisticRegression(max_iter=100)))\n",
        "models.append(('KNN', KNeighborsClassifier()))\n",
        "models.append(('CART', DecisionTreeClassifier()))\n",
        "models.append(('NB', GaussianNB()))\n",
        "models.append(('SVM', SVC()))\n",
        "\n",
        "#Definindo os parâmetros do classificador base para o bagginclassifier\n",
        "base = DecisionTreeClassifier()\n",
        "num_trees = 100\n",
        "max_features = 3\n",
        "\n",
        "# Criando os modelos para o VotingClassifier\n",
        "bases = []\n",
        "model1 = LogisticRegression(max_iter=100)\n",
        "bases.append(('logistic', model1))\n",
        "model2 = DecisionTreeClassifier()\n",
        "bases.append((\"cart\", model2))\n",
        "model3 = SVC()\n",
        "bases.append(('SVM',model3))\n",
        "\n",
        "# Criando os ensembles e adicionando-os na lista de modelos\n",
        "\n",
        "models.append(('Bagging', BaggingClassifier(base_estimator=base, n_estimators=num_trees)))\n",
        "models.append(('RF', RandomForestClassifier(n_estimators=num_trees, max_features=max_features)))\n",
        "models.append(('ET', ExtraTreesClassifier(n_estimators=num_trees, max_features=max_features)))\n",
        "models.append(('Ada', AdaBoostClassifier(n_estimators=num_trees)))\n",
        "models.append(('GB', GradientBoostingClassifier(n_estimators=num_trees)))\n",
        "models.append(('Voting', VotingClassifier(bases)))\n",
        "\n",
        "\n",
        "\n",
        "\n"
      ],
      "metadata": {
        "id": "3UVMox942aUJ"
      },
      "execution_count": 16,
      "outputs": []
    },
    {
      "cell_type": "code",
      "source": [
        "# Listas para armazenar os resultados\n",
        "results = []\n",
        "names = []\n",
        "\n",
        "# Avaliação dos modelos\n",
        "for name, model in models:\n",
        "    cv_results = cross_val_score(model, X_train, y_train, cv=kfold, scoring=scoring)\n",
        "    results.append(cv_results)\n",
        "    names.append(name)\n",
        "    msg = \"%s: %f (%f)\" % (name, cv_results.mean(), cv_results.std())\n",
        "    print(msg)"
      ],
      "metadata": {
        "id": "A5Wh_8jk2a9V",
        "outputId": "e9ab792a-46f2-461e-f340-1180c2dd3ac0",
        "colab": {
          "base_uri": "https://localhost:8080/"
        }
      },
      "execution_count": 17,
      "outputs": [
        {
          "output_type": "stream",
          "name": "stdout",
          "text": [
            "LR: 0.799070 (0.007248)\n",
            "KNN: 0.805057 (0.009815)\n",
            "CART: 0.862437 (0.007368)\n",
            "NB: 0.412335 (0.006894)\n",
            "SVM: 0.763153 (0.006074)\n",
            "Bagging: 0.894967 (0.005246)\n",
            "RF: 0.896621 (0.004416)\n",
            "ET: 0.886539 (0.005061)\n",
            "Ada: 0.820455 (0.007034)\n",
            "GB: 0.852001 (0.007668)\n",
            "Voting: 0.818761 (0.008474)\n"
          ]
        }
      ]
    },
    {
      "cell_type": "code",
      "source": [
        "# Boxplot de comparação dos modelos\n",
        "fig = plt.figure(figsize=(15,10))\n",
        "fig.suptitle('Comparação dos Modelos')\n",
        "ax = fig.add_subplot(111)\n",
        "sns.boxplot(data=results)\n",
        "ax.set_xticklabels(names)\n",
        "plt.show()"
      ],
      "metadata": {
        "id": "sZIMdfToyKsz",
        "outputId": "3271d3b4-ca43-4e22-d663-e7b1cb71b5ca",
        "colab": {
          "base_uri": "https://localhost:8080/",
          "height": 930
        }
      },
      "execution_count": 18,
      "outputs": [
        {
          "output_type": "display_data",
          "data": {
            "text/plain": [
              "<Figure size 1500x1000 with 1 Axes>"
            ],
            "image/png": "[encoded data removed]"
          },
          "metadata": {}
        }
      ]
    },
    {
      "cell_type": "markdown",
      "source": [
        "### Criação e avaliação de modelos: dados padronizados e normalizados"
      ],
      "metadata": {
        "id": "j47Ai7Dz8sd-"
      }
    },
    {
      "cell_type": "code",
      "source": [
        "np.random.seed(9) # definindo uma semente global para este bloco\n",
        "\n",
        "# Listas para armazenar os pipelines e os resultados para todas as visões do dataset\n",
        "pipelines = []\n",
        "results=[]\n",
        "names=[]\n",
        "\n",
        "#Criando os elementos do pipeline\n",
        "\n",
        "#Algoritimo que serão utilizados\n",
        "reg_log = ('LR', LogisticRegression(max_iter=100))\n",
        "knn = ('KNN', KNeighborsClassifier())\n",
        "cart = ('CART', DecisionTreeClassifier())\n",
        "naive_bayes = ('NB', GaussianNB())\n",
        "svm = ('SVM', SVC())\n",
        "bagging = ('Bag', BaggingClassifier(base_estimator=base, n_estimators=num_trees))\n",
        "random_forest = ('RF', RandomForestClassifier(n_estimators=num_trees, max_features=max_features))\n",
        "extra_trees = ('ET', ExtraTreesClassifier(n_estimators=num_trees, max_features=max_features))\n",
        "adaboost = ('Ada', AdaBoostClassifier(n_estimators=num_trees))\n",
        "gradient_boosting = ('GB', GradientBoostingClassifier(n_estimators=num_trees))\n",
        "voting = ('Voting', VotingClassifier(bases))\n",
        "\n",
        "#Transformações que serão utilizadas\n",
        "standard_scaler = ('StandardScaler', StandardScaler())\n",
        "min_max_scaler = (\"MinMaxScaler\", MinMaxScaler())\n",
        "\n",
        "#Montando os pipelines\n",
        "\n",
        "pipelines.append(('LR-orig', Pipeline([reg_log])))\n",
        "pipelines.append(('KNN-orig', Pipeline([knn])))\n",
        "pipelines.append(('CART-orig', Pipeline([cart])))\n",
        "pipelines.append(('NB-orig', Pipeline([naive_bayes])))\n",
        "pipelines.append(('SVM-orig', Pipeline([svm])))\n",
        "pipelines.append(('Bag-orig', Pipeline([bagging])))\n",
        "pipelines.append(('RF-orig', Pipeline([random_forest])))\n",
        "pipelines.append(('ET-orig', Pipeline([extra_trees])))\n",
        "pipelines.append(('Ada-orig', Pipeline([adaboost])))\n",
        "pipelines.append(('GB-orig', Pipeline([gradient_boosting])))\n",
        "pipelines.append(('Vot-orig', Pipeline([voting])))\n",
        "\n",
        "# Dataset Padronizado\n",
        "pipelines.append(('LR-padr', Pipeline([standard_scaler, reg_log])))\n",
        "pipelines.append(('KNN-padr', Pipeline([standard_scaler, knn])))\n",
        "pipelines.append(('CART-padr', Pipeline([standard_scaler, cart])))\n",
        "pipelines.append(('NB-padr', Pipeline([standard_scaler, naive_bayes])))\n",
        "pipelines.append(('SVM-padr', Pipeline([standard_scaler, svm])))\n",
        "pipelines.append(('Bag-padr', Pipeline([standard_scaler, bagging])))\n",
        "pipelines.append(('RF-padr', Pipeline([standard_scaler, random_forest])))\n",
        "pipelines.append(('ET-padr', Pipeline([standard_scaler, extra_trees])))\n",
        "pipelines.append(('Ada-padr', Pipeline([standard_scaler, adaboost])))\n",
        "pipelines.append(('GB-padr', Pipeline([standard_scaler, gradient_boosting])))\n",
        "pipelines.append(('Vot-padr', Pipeline([standard_scaler, voting])))\n",
        "\n",
        "# Dataset Normalizado\n",
        "pipelines.append(('LR-norm', Pipeline([min_max_scaler, reg_log])))\n",
        "pipelines.append(('KNN-norm', Pipeline([min_max_scaler, knn])))\n",
        "pipelines.append(('CART-norm', Pipeline([min_max_scaler, cart])))\n",
        "pipelines.append(('NB-norm', Pipeline([min_max_scaler, naive_bayes])))\n",
        "pipelines.append(('SVM-norm', Pipeline([min_max_scaler, svm])))\n",
        "pipelines.append(('Bag-norm', Pipeline([min_max_scaler, bagging])))\n",
        "pipelines.append(('RF-norm', Pipeline([min_max_scaler, random_forest])))\n",
        "pipelines.append(('ET-norm', Pipeline([min_max_scaler, extra_trees])))\n",
        "pipelines.append(('Ada-norm', Pipeline([min_max_scaler, adaboost])))\n",
        "pipelines.append(('GB-norm', Pipeline([min_max_scaler, gradient_boosting])))\n",
        "pipelines.append(('Vot-norm', Pipeline([min_max_scaler, voting])))\n",
        "\n",
        "# Executando os pipelines\n",
        "for name, model in pipelines:\n",
        "    cv_results = cross_val_score(model, X_train, y_train, cv=kfold, scoring=scoring)\n",
        "    results.append(cv_results)\n",
        "    names.append(name)\n",
        "    msg = \"%s: %.3f (%.3f)\" % (name, cv_results.mean(), cv_results.std()) # formatando para 3 casas decimais\n",
        "    print(msg)\n",
        "\n",
        "# Boxplot de comparação dos modelos\n",
        "fig = plt.figure(figsize=(25,6))\n",
        "fig.suptitle('Comparação dos Modelos - Dataset orginal, padronizado e normalizado')\n",
        "ax = fig.add_subplot(111)\n",
        "sns.boxplot(data=results)\n",
        "ax.set_xticklabels(names, rotation=90)\n",
        "plt.show()\n"
      ],
      "metadata": {
        "id": "ZQOYPddC8rws",
        "outputId": "d454d1bd-58db-4b25-927f-b43082ce5f78",
        "colab": {
          "base_uri": "https://localhost:8080/",
          "height": 1000
        }
      },
      "execution_count": 19,
      "outputs": [
        {
          "output_type": "stream",
          "name": "stdout",
          "text": [
            "LR-orig: 0.799 (0.007)\n",
            "KNN-orig: 0.805 (0.010)\n",
            "CART-orig: 0.862 (0.007)\n",
            "NB-orig: 0.412 (0.007)\n",
            "SVM-orig: 0.763 (0.006)\n",
            "Bag-orig: 0.895 (0.005)\n",
            "RF-orig: 0.897 (0.004)\n",
            "ET-orig: 0.887 (0.005)\n",
            "Ada-orig: 0.820 (0.007)\n",
            "GB-orig: 0.852 (0.008)\n",
            "Vot-orig: 0.819 (0.008)\n",
            "LR-padr: 0.806 (0.007)\n",
            "KNN-padr: 0.847 (0.004)\n",
            "CART-padr: 0.862 (0.005)\n",
            "NB-padr: 0.408 (0.007)\n",
            "SVM-padr: 0.835 (0.008)\n",
            "Bag-padr: 0.897 (0.003)\n",
            "RF-padr: 0.897 (0.004)\n",
            "ET-padr: 0.886 (0.005)\n",
            "Ada-padr: 0.820 (0.007)\n",
            "GB-padr: 0.852 (0.008)\n",
            "Vot-padr: 0.848 (0.007)\n",
            "LR-norm: 0.804 (0.007)\n",
            "KNN-norm: 0.846 (0.008)\n",
            "CART-norm: 0.862 (0.006)\n",
            "NB-norm: 0.408 (0.007)\n",
            "SVM-norm: 0.818 (0.008)\n",
            "Bag-norm: 0.896 (0.004)\n",
            "RF-norm: 0.896 (0.004)\n",
            "ET-norm: 0.886 (0.004)\n",
            "Ada-norm: 0.820 (0.007)\n",
            "GB-norm: 0.852 (0.008)\n",
            "Vot-norm: 0.825 (0.006)\n"
          ]
        },
        {
          "output_type": "display_data",
          "data": {
            "text/plain": [
              "<Figure size 2500x600 with 1 Axes>"
            ],
            "image/png": "[encoded data removed]"
          },
          "metadata": {}
        }
      ]
    },
    {
      "cell_type": "markdown",
      "source": [
        "### Otimização dos hiperparâmetros"
      ],
      "metadata": {
        "id": "byKHPvOmJEc0"
      }
    },
    {
      "cell_type": "markdown",
      "source": [
        "Para caso forem rodar o código, utilizarei o KNN por ser mais rápido. Rodei o código do hiperparametro com o RandomForest e demorou 1h30min para ler todo o código, então resolvi utiliza-lo somente o resultado dele no final do projeto."
      ],
      "metadata": {
        "id": "tlfUFPUzG1w5"
      }
    },
    {
      "cell_type": "code",
      "source": [
        "# Tuning do RF\n",
        "#np.random.seed(9) #Definindo uma semente global para este bloco\n",
        "\n",
        "#num_trees = 100\n",
        "#max_features = 3\n",
        "\n",
        "#pipelines = []\n",
        "\n",
        "#Definindo os componentes do pipeline\n",
        "#rf = ('RandomForest', RandomForestClassifier(n_estimators=num_trees, max_features=max_features))\n",
        "#standard_scaler = ('StandardScaler', StandardScaler())\n",
        "#min_max_scaler = ('MinMaxScaler', MinMaxScaler())\n",
        "\n",
        "#pipelines.append(('rf-orig', Pipeline(steps=[rf])))\n",
        "#pipelines.append(('rf-padr', Pipeline(steps=[standard_scaler, rf])))\n",
        "#pipelines.append(('rf-norm', Pipeline(steps=[min_max_scaler, rf])))\n",
        "\n",
        "#param_grid = {\n",
        "#    'RandomForest__n_estimators': [100, 200, 300],\n",
        "#    'RandomForest__max_depth': [None, 5, 10, 20],\n",
        "#    'RandomForest__min_samples_split':[2,5, 10],\n",
        "#}\n",
        "\n",
        " #Prepara e executa o GridSearchCV\n",
        "#for name, model in pipelines:\n",
        " # grid = GridSearchCV(estimator=model, param_grid=param_grid, scoring=scoring, cv=kfold)\n",
        " # grid.fit(X_train, y_train)\n",
        "  #imprime a melhor configuração\n",
        " # print('%s - Melhor: %f usando %s' % (name, grid.best_score_, grid.best_params_))\n",
        "\n",
        "# Resultado do código acima\n",
        "\n",
        "#rf-orig - Melhor: 0.897763 usando {'RandomForest__max_depth': None, 'RandomForest__min_samples_split': 2, 'RandomForest__n_estimators': 100}\n",
        "#rf-padr - Melhor: 0.897645 usando {'RandomForest__max_depth': None, 'RandomForest__min_samples_split': 2, 'RandomForest__n_estimators': 300}\n",
        "#rf-norm - Melhor: 0.898196 usando {'RandomForest__max_depth': None, 'RandomForest__min_samples_split': 2, 'RandomForest__n_estimators': 200}"
      ],
      "metadata": {
        "id": "Myl-q_G12bQn"
      },
      "execution_count": 20,
      "outputs": []
    },
    {
      "cell_type": "code",
      "source": [
        "np.random.seed(7) # definindo uma semente global para este bloco\n",
        "\n",
        "pipelines = []\n",
        "\n",
        "# Definindo os componentes do pipeline\n",
        "knn = ('KNN', KNeighborsClassifier())\n",
        "standard_scaler = ('StandardScaler', StandardScaler())\n",
        "min_max_scaler = ('MinMaxScaler', MinMaxScaler())\n",
        "\n",
        "pipelines.append(('knn-orig', Pipeline(steps=[knn])))\n",
        "pipelines.append(('knn-padr', Pipeline(steps=[standard_scaler, knn])))\n",
        "pipelines.append(('knn-norm', Pipeline(steps=[min_max_scaler, knn])))\n",
        "\n",
        "param_grid = {\n",
        "    'KNN__n_neighbors': [1,3,5,7,9,11,13,15,17,19,21],\n",
        "    'KNN__metric': [\"euclidean\", \"manhattan\", \"minkowski\"],\n",
        "}\n",
        "\n",
        "# Prepara e executa o GridSearchCV\n",
        "for name, model in pipelines:\n",
        "    grid = GridSearchCV(estimator=model, param_grid=param_grid, scoring=scoring, cv=kfold)\n",
        "    grid.fit(X_train, y_train)\n",
        "    # imprime a melhor configuração\n",
        "    print(\"%s - Melhor: %f usando %s\" % (name, grid.best_score_, grid.best_params_))"
      ],
      "metadata": {
        "id": "fuN2tOoc9Nyn",
        "outputId": "bd2ff967-cf69-4b5b-fa76-6835e23093af",
        "colab": {
          "base_uri": "https://localhost:8080/"
        }
      },
      "execution_count": 21,
      "outputs": [
        {
          "output_type": "stream",
          "name": "stdout",
          "text": [
            "knn-orig - Melhor: 0.817030 usando {'KNN__metric': 'manhattan', 'KNN__n_neighbors': 7}\n",
            "knn-padr - Melhor: 0.851174 usando {'KNN__metric': 'manhattan', 'KNN__n_neighbors': 5}\n",
            "knn-norm - Melhor: 0.850741 usando {'KNN__metric': 'manhattan', 'KNN__n_neighbors': 5}\n"
          ]
        }
      ]
    },
    {
      "cell_type": "code",
      "source": [
        "rfc = RandomForestClassifier(max_depth=None, min_samples_split=2, n_estimators=200)\n",
        "scaler = StandardScaler()\n",
        "\n",
        "X_train_scaler = scaler.fit_transform(X_train)\n",
        "X_test_scaler = scaler.fit_transform(X_test)\n",
        "\n",
        "rfc.fit(X_train_scaler  ,y_train)\n",
        "predictions = rfc.predict(X_test)\n",
        "Confusion_Matrix = confusion_matrix(y_test, predictions)\n",
        "print(Confusion_Matrix)\n",
        "\n",
        "plt.figure(figsize=(10,5))\n",
        "sns.heatmap(Confusion_Matrix, annot=True, fmt='.0f', cmap='Blues')"
      ],
      "metadata": {
        "id": "dZZL6SBKOAFg",
        "outputId": "392967c5-8162-4f7e-97e7-6a82bc46aa48",
        "colab": {
          "base_uri": "https://localhost:8080/",
          "height": 497
        }
      },
      "execution_count": 53,
      "outputs": [
        {
          "output_type": "stream",
          "name": "stdout",
          "text": [
            "[[3460   81]\n",
            " [6095 1247]]\n"
          ]
        },
        {
          "output_type": "execute_result",
          "data": {
            "text/plain": [
              "<Axes: >"
            ]
          },
          "metadata": {},
          "execution_count": 53
        },
        {
          "output_type": "display_data",
          "data": {
            "text/plain": [
              "<Figure size 1000x500 with 2 Axes>"
            ],
            "image/png": "[encoded data removed]"
          },
          "metadata": {}
        }
      ]
    },
    {
      "cell_type": "markdown",
      "source": [
        "### Finalização do Modelo\n",
        "\n"
      ],
      "metadata": {
        "id": "zioeQSchBrLI"
      }
    },
    {
      "cell_type": "code",
      "source": [
        "# Avaliação do modelo com o conjunto de teste\n",
        "\n",
        "# Preparação do modelo\n",
        "min_max_scaler = MinMaxScaler().fit(X_train) #Ajuste do scaler com o conjunto de treino\n",
        "rescaledx = scaler.transform(X_train) # aplicação da padronização no conjunto de treino\n",
        "model = RandomForestClassifier(max_depth=None, min_samples_split=2, n_estimators=200)\n",
        "model.fit(rescaledx, y_train)\n",
        "\n",
        "# Estimativa da acurácia no conjunto de teste\n",
        "rescaledTestx = scaler.transform(X_test) # aplicação da padronização no conjunto teste\n",
        "predictions = model.predict(rescaledTestx)\n",
        "print(accuracy_score(y_test, predictions))"
      ],
      "metadata": {
        "id": "_b2gP0AuB0Rh"
      },
      "execution_count": null,
      "outputs": []
    },
    {
      "cell_type": "code",
      "source": [],
      "metadata": {
        "id": "64gKV4cosRHQ"
      },
      "execution_count": null,
      "outputs": []
    }
  ]
}